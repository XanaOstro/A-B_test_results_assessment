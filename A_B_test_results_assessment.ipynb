{
  "nbformat": 4,
  "nbformat_minor": 0,
  "metadata": {
    "ExecuteTimeLog": [
      {
        "duration": 91843,
        "start_time": "2021-09-24T05:36:33.172Z"
      },
      {
        "duration": 2801,
        "start_time": "2021-09-24T05:38:05.018Z"
      },
      {
        "duration": 759,
        "start_time": "2021-09-24T05:38:07.822Z"
      },
      {
        "duration": 11,
        "start_time": "2021-09-24T05:38:08.583Z"
      },
      {
        "duration": 6,
        "start_time": "2021-09-24T05:38:08.616Z"
      },
      {
        "duration": 38,
        "start_time": "2021-09-24T05:38:08.624Z"
      },
      {
        "duration": 7,
        "start_time": "2021-09-24T05:38:08.664Z"
      },
      {
        "duration": 224,
        "start_time": "2021-09-24T05:38:08.675Z"
      },
      {
        "duration": 14,
        "start_time": "2021-09-24T05:38:08.902Z"
      },
      {
        "duration": 6,
        "start_time": "2021-09-24T05:38:08.919Z"
      },
      {
        "duration": 141,
        "start_time": "2021-09-24T05:38:08.927Z"
      },
      {
        "duration": 8,
        "start_time": "2021-09-24T05:38:09.071Z"
      },
      {
        "duration": 15,
        "start_time": "2021-09-24T05:38:09.081Z"
      },
      {
        "duration": 7,
        "start_time": "2021-09-24T05:38:09.117Z"
      },
      {
        "duration": 25,
        "start_time": "2021-09-24T05:38:09.126Z"
      },
      {
        "duration": 20,
        "start_time": "2021-09-24T05:38:09.153Z"
      },
      {
        "duration": 8,
        "start_time": "2021-09-24T05:38:09.175Z"
      },
      {
        "duration": 7,
        "start_time": "2021-09-24T05:38:09.216Z"
      },
      {
        "duration": 12,
        "start_time": "2021-09-24T05:38:09.226Z"
      },
      {
        "duration": 31,
        "start_time": "2021-09-24T05:38:09.240Z"
      },
      {
        "duration": 6,
        "start_time": "2021-09-24T05:38:09.273Z"
      },
      {
        "duration": 11,
        "start_time": "2021-09-24T05:38:09.317Z"
      },
      {
        "duration": 10,
        "start_time": "2021-09-24T05:38:09.334Z"
      },
      {
        "duration": 104,
        "start_time": "2021-09-24T05:38:09.348Z"
      },
      {
        "duration": 63,
        "start_time": "2021-09-24T05:38:09.455Z"
      },
      {
        "duration": 364,
        "start_time": "2021-09-24T05:38:09.520Z"
      },
      {
        "duration": 483,
        "start_time": "2021-09-24T05:38:09.886Z"
      },
      {
        "duration": 136,
        "start_time": "2021-09-24T05:38:10.372Z"
      },
      {
        "duration": 16,
        "start_time": "2021-09-24T05:38:10.510Z"
      },
      {
        "duration": 9,
        "start_time": "2021-09-24T05:38:10.529Z"
      },
      {
        "duration": 14,
        "start_time": "2021-09-24T05:38:10.540Z"
      },
      {
        "duration": 14,
        "start_time": "2021-09-24T05:38:10.556Z"
      },
      {
        "duration": 44,
        "start_time": "2021-09-24T05:38:10.572Z"
      },
      {
        "duration": 8,
        "start_time": "2021-09-24T05:38:10.619Z"
      },
      {
        "duration": 22,
        "start_time": "2021-09-24T05:38:10.629Z"
      },
      {
        "duration": 296,
        "start_time": "2021-09-24T05:38:10.653Z"
      },
      {
        "duration": 30,
        "start_time": "2021-09-24T05:38:10.952Z"
      },
      {
        "duration": 850,
        "start_time": "2021-09-24T05:38:10.984Z"
      },
      {
        "duration": 30,
        "start_time": "2021-09-24T05:38:11.837Z"
      },
      {
        "duration": 8,
        "start_time": "2021-09-24T05:38:11.916Z"
      },
      {
        "duration": 10,
        "start_time": "2021-09-24T05:38:11.927Z"
      },
      {
        "duration": 467,
        "start_time": "2021-09-24T05:38:11.939Z"
      },
      {
        "duration": 495,
        "start_time": "2021-09-24T05:38:12.415Z"
      },
      {
        "duration": 59,
        "start_time": "2021-09-24T05:38:12.917Z"
      },
      {
        "duration": 51,
        "start_time": "2021-09-24T05:38:12.979Z"
      },
      {
        "duration": 263,
        "start_time": "2021-09-24T05:38:13.033Z"
      },
      {
        "duration": 43,
        "start_time": "2021-09-24T05:38:13.298Z"
      },
      {
        "duration": 161,
        "start_time": "2021-09-24T05:38:13.343Z"
      },
      {
        "duration": 20,
        "start_time": "2021-09-24T05:38:13.507Z"
      },
      {
        "duration": 38,
        "start_time": "2021-09-24T05:38:13.529Z"
      },
      {
        "duration": 64,
        "start_time": "2021-09-24T05:38:13.569Z"
      },
      {
        "duration": 29,
        "start_time": "2021-09-24T05:38:13.636Z"
      },
      {
        "duration": 682,
        "start_time": "2021-09-24T05:38:13.667Z"
      },
      {
        "duration": 25,
        "start_time": "2021-09-24T05:38:14.351Z"
      },
      {
        "duration": 77,
        "start_time": "2021-09-24T05:38:14.379Z"
      },
      {
        "duration": 33,
        "start_time": "2021-09-24T05:38:14.459Z"
      },
      {
        "duration": 815,
        "start_time": "2021-09-24T05:38:14.495Z"
      },
      {
        "duration": 913,
        "start_time": "2021-09-24T05:38:15.316Z"
      },
      {
        "duration": 934,
        "start_time": "2021-09-24T05:38:16.232Z"
      },
      {
        "duration": 9,
        "start_time": "2021-09-24T05:38:17.169Z"
      },
      {
        "duration": 82,
        "start_time": "2021-09-24T05:38:17.180Z"
      },
      {
        "duration": 30,
        "start_time": "2021-09-24T05:38:17.265Z"
      },
      {
        "duration": 21,
        "start_time": "2021-09-24T05:38:17.297Z"
      },
      {
        "duration": 13,
        "start_time": "2021-09-24T05:38:17.320Z"
      },
      {
        "duration": 35,
        "start_time": "2021-09-24T05:46:20.803Z"
      },
      {
        "duration": 12,
        "start_time": "2021-09-24T05:46:21.434Z"
      },
      {
        "duration": 9,
        "start_time": "2021-09-24T05:46:35.736Z"
      },
      {
        "duration": 515,
        "start_time": "2021-09-24T07:52:55.310Z"
      },
      {
        "duration": 2470,
        "start_time": "2021-09-24T07:53:35.702Z"
      },
      {
        "duration": 2300,
        "start_time": "2021-09-24T07:53:38.175Z"
      },
      {
        "duration": 887,
        "start_time": "2021-09-24T07:53:40.478Z"
      },
      {
        "duration": 16,
        "start_time": "2021-09-24T07:53:41.384Z"
      },
      {
        "duration": 18,
        "start_time": "2021-09-24T07:53:41.404Z"
      },
      {
        "duration": 61,
        "start_time": "2021-09-24T07:53:41.424Z"
      },
      {
        "duration": 7,
        "start_time": "2021-09-24T07:53:41.487Z"
      },
      {
        "duration": 215,
        "start_time": "2021-09-24T07:53:41.498Z"
      },
      {
        "duration": 9,
        "start_time": "2021-09-24T07:53:41.716Z"
      },
      {
        "duration": 8,
        "start_time": "2021-09-24T07:53:41.728Z"
      },
      {
        "duration": 155,
        "start_time": "2021-09-24T07:53:41.739Z"
      },
      {
        "duration": 9,
        "start_time": "2021-09-24T07:53:41.897Z"
      },
      {
        "duration": 18,
        "start_time": "2021-09-24T07:53:41.909Z"
      },
      {
        "duration": 19,
        "start_time": "2021-09-24T07:53:41.930Z"
      },
      {
        "duration": 46,
        "start_time": "2021-09-24T07:53:41.952Z"
      },
      {
        "duration": 21,
        "start_time": "2021-09-24T07:53:42.000Z"
      },
      {
        "duration": 7,
        "start_time": "2021-09-24T07:53:42.023Z"
      },
      {
        "duration": 13,
        "start_time": "2021-09-24T07:53:42.032Z"
      },
      {
        "duration": 43,
        "start_time": "2021-09-24T07:53:42.048Z"
      },
      {
        "duration": 40,
        "start_time": "2021-09-24T07:53:42.093Z"
      },
      {
        "duration": 7,
        "start_time": "2021-09-24T07:53:42.135Z"
      },
      {
        "duration": 40,
        "start_time": "2021-09-24T07:53:42.144Z"
      },
      {
        "duration": 16,
        "start_time": "2021-09-24T07:53:42.193Z"
      },
      {
        "duration": 122,
        "start_time": "2021-09-24T07:53:42.214Z"
      },
      {
        "duration": 88,
        "start_time": "2021-09-24T07:53:42.339Z"
      },
      {
        "duration": 454,
        "start_time": "2021-09-24T07:53:42.430Z"
      },
      {
        "duration": 648,
        "start_time": "2021-09-24T07:53:42.886Z"
      },
      {
        "duration": 162,
        "start_time": "2021-09-24T07:53:43.537Z"
      },
      {
        "duration": 15,
        "start_time": "2021-09-24T07:53:43.702Z"
      },
      {
        "duration": 12,
        "start_time": "2021-09-24T07:53:43.720Z"
      },
      {
        "duration": 9,
        "start_time": "2021-09-24T07:53:43.735Z"
      },
      {
        "duration": 42,
        "start_time": "2021-09-24T07:53:43.747Z"
      },
      {
        "duration": 12,
        "start_time": "2021-09-24T07:53:43.792Z"
      },
      {
        "duration": 34,
        "start_time": "2021-09-24T07:53:43.807Z"
      },
      {
        "duration": 8,
        "start_time": "2021-09-24T07:53:43.843Z"
      },
      {
        "duration": 44,
        "start_time": "2021-09-24T07:53:43.854Z"
      },
      {
        "duration": 320,
        "start_time": "2021-09-24T07:53:43.900Z"
      },
      {
        "duration": 30,
        "start_time": "2021-09-24T07:53:44.222Z"
      },
      {
        "duration": 893,
        "start_time": "2021-09-24T07:53:44.254Z"
      },
      {
        "duration": 52,
        "start_time": "2021-09-24T07:53:45.149Z"
      },
      {
        "duration": 6,
        "start_time": "2021-09-24T07:53:45.203Z"
      },
      {
        "duration": 9,
        "start_time": "2021-09-24T07:53:45.211Z"
      },
      {
        "duration": 552,
        "start_time": "2021-09-24T07:53:45.223Z"
      },
      {
        "duration": 529,
        "start_time": "2021-09-24T07:53:45.778Z"
      },
      {
        "duration": 73,
        "start_time": "2021-09-24T07:53:46.310Z"
      },
      {
        "duration": 24,
        "start_time": "2021-09-24T07:53:46.386Z"
      },
      {
        "duration": 281,
        "start_time": "2021-09-24T07:53:46.413Z"
      },
      {
        "duration": 49,
        "start_time": "2021-09-24T07:53:46.697Z"
      },
      {
        "duration": 193,
        "start_time": "2021-09-24T07:53:46.748Z"
      },
      {
        "duration": 17,
        "start_time": "2021-09-24T07:53:46.944Z"
      },
      {
        "duration": 55,
        "start_time": "2021-09-24T07:53:46.964Z"
      },
      {
        "duration": 32,
        "start_time": "2021-09-24T07:53:47.022Z"
      },
      {
        "duration": 52,
        "start_time": "2021-09-24T07:53:47.057Z"
      },
      {
        "duration": 874,
        "start_time": "2021-09-24T07:53:47.111Z"
      },
      {
        "duration": 24,
        "start_time": "2021-09-24T07:53:47.987Z"
      },
      {
        "duration": 72,
        "start_time": "2021-09-24T07:53:48.013Z"
      },
      {
        "duration": 33,
        "start_time": "2021-09-24T07:53:48.087Z"
      },
      {
        "duration": 735,
        "start_time": "2021-09-24T07:53:48.122Z"
      },
      {
        "duration": 1034,
        "start_time": "2021-09-24T07:53:48.859Z"
      },
      {
        "duration": 960,
        "start_time": "2021-09-24T07:53:49.896Z"
      },
      {
        "duration": 9,
        "start_time": "2021-09-24T07:53:50.858Z"
      },
      {
        "duration": 65,
        "start_time": "2021-09-24T07:53:50.883Z"
      },
      {
        "duration": 61,
        "start_time": "2021-09-24T07:53:50.951Z"
      },
      {
        "duration": 8,
        "start_time": "2021-09-24T07:53:51.015Z"
      },
      {
        "duration": 20,
        "start_time": "2021-09-24T07:53:51.025Z"
      },
      {
        "duration": 943,
        "start_time": "2021-09-24T07:54:22.203Z"
      },
      {
        "duration": 657,
        "start_time": "2021-09-24T07:55:14.728Z"
      },
      {
        "duration": 7,
        "start_time": "2021-09-24T07:55:47.474Z"
      },
      {
        "duration": 1490,
        "start_time": "2021-09-24T07:55:47.485Z"
      },
      {
        "duration": 663,
        "start_time": "2021-09-24T07:55:48.978Z"
      },
      {
        "duration": 40,
        "start_time": "2021-09-24T07:55:49.644Z"
      },
      {
        "duration": 6,
        "start_time": "2021-09-24T07:55:49.687Z"
      },
      {
        "duration": 32,
        "start_time": "2021-09-24T07:55:49.695Z"
      },
      {
        "duration": 6,
        "start_time": "2021-09-24T07:55:49.730Z"
      },
      {
        "duration": 236,
        "start_time": "2021-09-24T07:55:49.740Z"
      },
      {
        "duration": 9,
        "start_time": "2021-09-24T07:55:49.982Z"
      },
      {
        "duration": 10,
        "start_time": "2021-09-24T07:55:49.994Z"
      },
      {
        "duration": 150,
        "start_time": "2021-09-24T07:55:50.006Z"
      },
      {
        "duration": 23,
        "start_time": "2021-09-24T07:55:50.159Z"
      },
      {
        "duration": 13,
        "start_time": "2021-09-24T07:55:50.185Z"
      },
      {
        "duration": 17,
        "start_time": "2021-09-24T07:55:50.200Z"
      },
      {
        "duration": 24,
        "start_time": "2021-09-24T07:55:50.219Z"
      },
      {
        "duration": 53,
        "start_time": "2021-09-24T07:55:50.245Z"
      },
      {
        "duration": 8,
        "start_time": "2021-09-24T07:55:50.300Z"
      },
      {
        "duration": 15,
        "start_time": "2021-09-24T07:55:50.311Z"
      },
      {
        "duration": 14,
        "start_time": "2021-09-24T07:55:50.328Z"
      },
      {
        "duration": 66,
        "start_time": "2021-09-24T07:55:50.345Z"
      },
      {
        "duration": 7,
        "start_time": "2021-09-24T07:55:50.414Z"
      },
      {
        "duration": 10,
        "start_time": "2021-09-24T07:55:50.423Z"
      },
      {
        "duration": 47,
        "start_time": "2021-09-24T07:55:50.438Z"
      },
      {
        "duration": 66,
        "start_time": "2021-09-24T07:55:50.488Z"
      },
      {
        "duration": 69,
        "start_time": "2021-09-24T07:55:50.556Z"
      },
      {
        "duration": 327,
        "start_time": "2021-09-24T07:55:50.627Z"
      },
      {
        "duration": 455,
        "start_time": "2021-09-24T07:55:50.956Z"
      },
      {
        "duration": 129,
        "start_time": "2021-09-24T07:55:51.413Z"
      },
      {
        "duration": 11,
        "start_time": "2021-09-24T07:55:51.545Z"
      },
      {
        "duration": 23,
        "start_time": "2021-09-24T07:55:51.558Z"
      },
      {
        "duration": 7,
        "start_time": "2021-09-24T07:55:51.584Z"
      },
      {
        "duration": 11,
        "start_time": "2021-09-24T07:55:51.593Z"
      },
      {
        "duration": 12,
        "start_time": "2021-09-24T07:55:51.607Z"
      },
      {
        "duration": 6,
        "start_time": "2021-09-24T07:55:51.622Z"
      },
      {
        "duration": 58,
        "start_time": "2021-09-24T07:55:51.630Z"
      },
      {
        "duration": 18,
        "start_time": "2021-09-24T07:55:51.691Z"
      },
      {
        "duration": 318,
        "start_time": "2021-09-24T07:55:51.711Z"
      },
      {
        "duration": 29,
        "start_time": "2021-09-24T07:55:52.032Z"
      },
      {
        "duration": 365,
        "start_time": "2021-09-24T07:55:52.063Z"
      },
      {
        "duration": 33,
        "start_time": "2021-09-24T07:55:52.430Z"
      },
      {
        "duration": 8,
        "start_time": "2021-09-24T07:55:52.483Z"
      },
      {
        "duration": 11,
        "start_time": "2021-09-24T07:55:52.493Z"
      },
      {
        "duration": 438,
        "start_time": "2021-09-24T07:55:52.507Z"
      },
      {
        "duration": 506,
        "start_time": "2021-09-24T07:55:52.949Z"
      },
      {
        "duration": 70,
        "start_time": "2021-09-24T07:55:53.458Z"
      },
      {
        "duration": 23,
        "start_time": "2021-09-24T07:55:53.530Z"
      },
      {
        "duration": 261,
        "start_time": "2021-09-24T07:55:53.556Z"
      },
      {
        "duration": 37,
        "start_time": "2021-09-24T07:55:53.819Z"
      },
      {
        "duration": 182,
        "start_time": "2021-09-24T07:55:53.859Z"
      },
      {
        "duration": 18,
        "start_time": "2021-09-24T07:55:54.043Z"
      },
      {
        "duration": 57,
        "start_time": "2021-09-24T07:55:54.063Z"
      },
      {
        "duration": 37,
        "start_time": "2021-09-24T07:55:54.122Z"
      },
      {
        "duration": 28,
        "start_time": "2021-09-24T07:55:54.183Z"
      },
      {
        "duration": 689,
        "start_time": "2021-09-24T07:55:54.214Z"
      },
      {
        "duration": 23,
        "start_time": "2021-09-24T07:55:54.905Z"
      },
      {
        "duration": 73,
        "start_time": "2021-09-24T07:55:54.931Z"
      },
      {
        "duration": 33,
        "start_time": "2021-09-24T07:55:55.006Z"
      },
      {
        "duration": 748,
        "start_time": "2021-09-24T07:55:55.042Z"
      },
      {
        "duration": 1137,
        "start_time": "2021-09-24T07:55:55.793Z"
      },
      {
        "duration": 1056,
        "start_time": "2021-09-24T07:55:56.933Z"
      },
      {
        "duration": 9,
        "start_time": "2021-09-24T07:55:57.992Z"
      },
      {
        "duration": 92,
        "start_time": "2021-09-24T07:55:58.004Z"
      },
      {
        "duration": 30,
        "start_time": "2021-09-24T07:55:58.099Z"
      },
      {
        "duration": 8,
        "start_time": "2021-09-24T07:55:58.131Z"
      },
      {
        "duration": 48,
        "start_time": "2021-09-24T07:55:58.142Z"
      },
      {
        "duration": 1107,
        "start_time": "2021-09-24T07:56:22.703Z"
      },
      {
        "duration": 757,
        "start_time": "2021-09-24T07:56:35.493Z"
      },
      {
        "duration": 647,
        "start_time": "2021-09-24T07:57:34.803Z"
      },
      {
        "duration": 13,
        "start_time": "2021-09-24T07:59:23.440Z"
      },
      {
        "duration": 607,
        "start_time": "2021-09-24T08:10:33.302Z"
      },
      {
        "duration": 12,
        "start_time": "2021-09-24T08:12:01.709Z"
      },
      {
        "duration": 5,
        "start_time": "2021-09-24T08:12:09.986Z"
      },
      {
        "duration": 1366,
        "start_time": "2021-09-24T08:12:12.441Z"
      },
      {
        "duration": 13,
        "start_time": "2021-09-24T08:12:15.156Z"
      },
      {
        "duration": 827,
        "start_time": "2021-09-24T08:12:41.277Z"
      },
      {
        "duration": 150,
        "start_time": "2021-09-24T08:13:52.182Z"
      },
      {
        "duration": 804,
        "start_time": "2021-09-24T08:13:59.955Z"
      },
      {
        "duration": 814,
        "start_time": "2021-09-24T08:14:45.330Z"
      },
      {
        "duration": 904,
        "start_time": "2021-09-24T08:26:54.105Z"
      },
      {
        "duration": 960,
        "start_time": "2021-09-24T08:27:22.298Z"
      },
      {
        "duration": 1760,
        "start_time": "2021-09-24T08:27:35.756Z"
      },
      {
        "duration": 793,
        "start_time": "2021-09-24T08:27:42.504Z"
      },
      {
        "duration": 638,
        "start_time": "2021-09-24T08:36:25.914Z"
      },
      {
        "duration": 128,
        "start_time": "2021-09-24T08:39:16.311Z"
      },
      {
        "duration": 16,
        "start_time": "2021-09-24T08:40:33.977Z"
      },
      {
        "duration": 131,
        "start_time": "2021-09-24T08:41:36.461Z"
      },
      {
        "duration": 109,
        "start_time": "2021-09-24T08:41:49.375Z"
      },
      {
        "duration": 115,
        "start_time": "2021-09-24T08:42:07.730Z"
      },
      {
        "duration": 108,
        "start_time": "2021-09-24T08:42:24.481Z"
      },
      {
        "duration": 117,
        "start_time": "2021-09-24T08:42:35.891Z"
      },
      {
        "duration": 19,
        "start_time": "2021-09-24T08:42:46.040Z"
      },
      {
        "duration": 49,
        "start_time": "2021-09-24T08:43:27.409Z"
      },
      {
        "duration": 478,
        "start_time": "2021-09-24T08:43:48.187Z"
      },
      {
        "duration": 27,
        "start_time": "2021-09-24T08:44:49.875Z"
      },
      {
        "duration": 27,
        "start_time": "2021-09-24T08:50:17.151Z"
      },
      {
        "duration": 239,
        "start_time": "2021-09-24T08:50:33.328Z"
      },
      {
        "duration": 39,
        "start_time": "2021-09-24T08:50:44.853Z"
      },
      {
        "duration": 34,
        "start_time": "2021-09-24T08:50:57.510Z"
      },
      {
        "duration": 63,
        "start_time": "2021-09-24T08:51:24.243Z"
      },
      {
        "duration": 30,
        "start_time": "2021-09-24T08:51:33.782Z"
      },
      {
        "duration": 12,
        "start_time": "2021-09-24T09:02:01.039Z"
      },
      {
        "duration": 38,
        "start_time": "2021-09-24T09:02:01.054Z"
      },
      {
        "duration": 43,
        "start_time": "2021-09-24T09:02:01.095Z"
      },
      {
        "duration": 48,
        "start_time": "2021-09-24T09:02:01.141Z"
      },
      {
        "duration": 53,
        "start_time": "2021-09-24T09:02:01.192Z"
      },
      {
        "duration": 540,
        "start_time": "2021-09-24T09:02:01.248Z"
      },
      {
        "duration": 49,
        "start_time": "2021-09-24T09:02:01.791Z"
      },
      {
        "duration": 315,
        "start_time": "2021-09-24T09:02:01.846Z"
      },
      {
        "duration": 143,
        "start_time": "2021-09-24T09:02:02.164Z"
      },
      {
        "duration": 5,
        "start_time": "2021-09-24T09:02:02.310Z"
      },
      {
        "duration": 51,
        "start_time": "2021-09-24T09:02:02.317Z"
      },
      {
        "duration": 538,
        "start_time": "2021-09-24T09:02:02.370Z"
      },
      {
        "duration": 361,
        "start_time": "2021-09-24T09:02:02.910Z"
      },
      {
        "duration": 67,
        "start_time": "2021-09-24T09:02:03.274Z"
      },
      {
        "duration": 44,
        "start_time": "2021-09-24T09:02:03.343Z"
      },
      {
        "duration": 243,
        "start_time": "2021-09-24T09:02:03.390Z"
      },
      {
        "duration": 48,
        "start_time": "2021-09-24T09:02:03.635Z"
      },
      {
        "duration": 175,
        "start_time": "2021-09-24T09:02:03.685Z"
      },
      {
        "duration": 27,
        "start_time": "2021-09-24T09:02:03.863Z"
      },
      {
        "duration": 39,
        "start_time": "2021-09-24T09:02:03.893Z"
      },
      {
        "duration": 232,
        "start_time": "2021-09-24T09:02:03.934Z"
      },
      {
        "duration": 31,
        "start_time": "2021-09-24T09:02:04.182Z"
      },
      {
        "duration": 699,
        "start_time": "2021-09-24T09:02:04.218Z"
      },
      {
        "duration": 25,
        "start_time": "2021-09-24T09:02:04.920Z"
      },
      {
        "duration": 78,
        "start_time": "2021-09-24T09:02:04.948Z"
      },
      {
        "duration": 54,
        "start_time": "2021-09-24T09:02:05.029Z"
      },
      {
        "duration": 748,
        "start_time": "2021-09-24T09:02:05.086Z"
      },
      {
        "duration": 1055,
        "start_time": "2021-09-24T09:02:05.837Z"
      },
      {
        "duration": 1028,
        "start_time": "2021-09-24T09:02:06.894Z"
      },
      {
        "duration": 9,
        "start_time": "2021-09-24T09:02:07.924Z"
      },
      {
        "duration": 90,
        "start_time": "2021-09-24T09:02:07.936Z"
      },
      {
        "duration": 29,
        "start_time": "2021-09-24T09:02:08.028Z"
      },
      {
        "duration": 28,
        "start_time": "2021-09-24T09:02:08.060Z"
      },
      {
        "duration": 23,
        "start_time": "2021-09-24T09:02:08.091Z"
      },
      {
        "duration": 185,
        "start_time": "2021-09-24T09:02:45.849Z"
      },
      {
        "duration": 334,
        "start_time": "2021-09-24T09:45:14.707Z"
      },
      {
        "duration": 12,
        "start_time": "2021-09-24T09:54:54.630Z"
      },
      {
        "duration": 193,
        "start_time": "2021-09-24T09:55:09.025Z"
      },
      {
        "duration": 15,
        "start_time": "2021-09-24T10:01:14.662Z"
      },
      {
        "duration": 198,
        "start_time": "2021-09-24T10:01:26.610Z"
      },
      {
        "duration": 13,
        "start_time": "2021-09-24T10:05:20.661Z"
      },
      {
        "duration": 404,
        "start_time": "2021-09-24T10:05:41.031Z"
      },
      {
        "duration": 12,
        "start_time": "2021-09-24T10:05:59.315Z"
      },
      {
        "duration": 23,
        "start_time": "2021-09-24T10:10:39.591Z"
      },
      {
        "duration": 214,
        "start_time": "2021-09-24T10:11:32.947Z"
      },
      {
        "duration": 119,
        "start_time": "2021-09-24T10:11:49.076Z"
      },
      {
        "duration": 403,
        "start_time": "2021-09-24T10:12:15.962Z"
      },
      {
        "duration": 393,
        "start_time": "2021-09-24T10:13:02.787Z"
      },
      {
        "duration": 11297,
        "start_time": "2021-09-24T10:13:32.404Z"
      },
      {
        "duration": 101,
        "start_time": "2021-09-24T10:13:44.600Z"
      },
      {
        "duration": 42,
        "start_time": "2021-09-24T10:14:03.688Z"
      },
      {
        "duration": 621,
        "start_time": "2021-09-24T10:14:34.998Z"
      },
      {
        "duration": 6,
        "start_time": "2021-09-24T10:16:07.576Z"
      },
      {
        "duration": 18,
        "start_time": "2021-09-24T10:16:23.338Z"
      },
      {
        "duration": 14,
        "start_time": "2021-09-24T10:16:58.023Z"
      },
      {
        "duration": 7,
        "start_time": "2021-09-24T10:18:54.147Z"
      },
      {
        "duration": 5,
        "start_time": "2021-09-24T10:21:43.540Z"
      },
      {
        "duration": 18,
        "start_time": "2021-09-24T10:28:18.551Z"
      },
      {
        "duration": 19,
        "start_time": "2021-09-24T10:28:41.250Z"
      },
      {
        "duration": 17,
        "start_time": "2021-09-24T10:28:50.853Z"
      },
      {
        "duration": 830,
        "start_time": "2021-09-24T10:35:35.360Z"
      },
      {
        "duration": 811,
        "start_time": "2021-09-24T10:35:59.150Z"
      },
      {
        "duration": 8,
        "start_time": "2021-09-24T10:37:11.536Z"
      },
      {
        "duration": 12,
        "start_time": "2021-09-24T10:37:13.110Z"
      }
    ],
    "colab": {
      "name": "A/B test results assessment.ipynb",
      "provenance": [],
      "collapsed_sections": []
    },
    "kernelspec": {
      "display_name": "Python 3",
      "language": "python",
      "name": "python3"
    },
    "language_info": {
      "codemirror_mode": {
        "name": "ipython",
        "version": 3
      },
      "file_extension": ".py",
      "mimetype": "text/x-python",
      "name": "python",
      "nbconvert_exporter": "python",
      "pygments_lexer": "ipython3",
      "version": "3.7.8"
    },
    "toc": {
      "base_numbering": 1,
      "nav_menu": {},
      "number_sections": true,
      "sideBar": true,
      "skip_h1_title": true,
      "title_cell": "Table of Contents",
      "title_sidebar": "Contents",
      "toc_cell": false,
      "toc_position": {},
      "toc_section_display": true,
      "toc_window_display": false
    }
  },
  "cells": [
    {
      "cell_type": "markdown",
      "metadata": {
        "id": "MqIYCa6-98td"
      },
      "source": [
        "<div class=\"alert alert-info\">\n",
        "<font size=\"5\"><b>Комментарий ревьюера 2</b></font>\n",
        "\n",
        "Привет еще раз. Спасибо, что доделала работу. Оформление комментариев по работе сохраняется. Только обозначим, что это вторая итерация. \n",
        "\n",
        "</div>"
      ]
    },
    {
      "cell_type": "markdown",
      "metadata": {
        "id": "x-AlTgXo98th"
      },
      "source": [
        "# A/B test results assessment\n"
      ]
    },
    {
      "cell_type": "markdown",
      "metadata": {
        "id": "1I0StaDwOU7m"
      },
      "source": [
        "**Задача проекта** — провести оценку результатов A/B-теста.\n",
        "\n",
        "**Цель проекта**: оценить корректность проведения теста, для этого проверить:\n",
        "\n",
        "- пересечение тестовой аудитории с конкурирующим тестом,\n",
        "- совпадение теста и маркетинговых событий, другие проблемы временных границ теста.\n",
        "\n",
        "- Проанализировать результаты теста.\n",
        "\n",
        "**Техническое задание**\n",
        "\n",
        "- Название теста: `recommender_system_test`;\n",
        "\n",
        "- группы: А — контрольная, B — новая платёжная воронка;\n",
        "\n",
        "- дата запуска: 2020-12-07;\n",
        "\n",
        "- дата остановки набора новых пользователей: 2020-12-21;\n",
        "\n",
        "- дата остановки: 2021-01-04;\n",
        "\n",
        "- аудитория: 15% новых пользователей из региона EU;\n",
        "\n",
        "- назначение теста: тестирование изменений, связанных с внедрением улучшенной рекомендательной системы;\n",
        "\n",
        "- ожидаемое количество участников теста: 6000.\n",
        "\n",
        "- ожидаемый эффект: за 14 дней с момента регистрации пользователи покажут улучшение каждой метрики не менее, чем на 10%:\n",
        "\n",
        "    - конверсии в просмотр карточек товаров — событие `product_page`,\n",
        "\n",
        "    - просмотры корзины — `product_cart`,\n",
        "\n",
        "    - покупки — `purchase`."
      ]
    },
    {
      "cell_type": "markdown",
      "metadata": {
        "id": "dw2uUFtgOU9x"
      },
      "source": [
        "**Описание данных**\n",
        "\n",
        "`ab_project_marketing_events.csv` — календарь маркетинговых событий на 2020 год.\n",
        "\n",
        "Структура файла:\n",
        "\n",
        "- `name` — название маркетингового события;\n",
        "- `regions` — регионы, в которых будет проводиться рекламная кампания;\n",
        "- `start_dt` — дата начала кампании;\n",
        "- `finish_dt` — дата завершения кампании.\n",
        "\n",
        "`final_ab_new_users.csv` — пользователи, зарегистрировавшиеся с 7 по 21 декабря 2020 года.\n",
        "\n",
        "Структура файла:\n",
        "\n",
        "- `user_id` — идентификатор пользователя;\n",
        "- `first_date` — дата регистрации;\n",
        "- `region` — регион пользователя;\n",
        "- `device` — устройство, с которого происходила регистрация.\n",
        "\n",
        "`final_ab_events.csv` — действия новых пользователей в период с 7 декабря 2020 по 4 января 2021 года.\n",
        "\n",
        "Структура файла:\n",
        "\n",
        "- `user_id` — идентификатор пользователя;\n",
        "- `event_dt` — дата и время покупки;\n",
        "- `event_name` — тип события;\n",
        "- `details` — дополнительные данные о событии. Например, для покупок, `purchase,` в этом поле хранится стоимость покупки в долларах.\n",
        "\n",
        "`final_ab_participants.csv` — таблица участников тестов.\n",
        "\n",
        "Структура файла:\n",
        "\n",
        "- `user_id` — идентификатор пользователя;\n",
        "- `ab_test` — название теста;\n",
        "- `group` — группа пользователя."
      ]
    },
    {
      "cell_type": "markdown",
      "metadata": {
        "id": "uA2bt4PcQdvO"
      },
      "source": [
        "**ШАГ 1. Импорт библиотек и загрузка данных.**"
      ]
    },
    {
      "cell_type": "code",
      "metadata": {
        "id": "yqDB-Z7OQcND"
      },
      "source": [
        "import pandas as pd \n",
        "import numpy as np\n",
        "from scipy import stats as st\n",
        "import math, cmath\n",
        "from statsmodels.stats.proportion import proportions_ztest\n",
        "import matplotlib.pyplot as plt\n",
        "import seaborn as sns\n",
        "from plotly import graph_objects as go\n",
        "import plotly.express as px\n",
        "import warnings                                            \n",
        "warnings.filterwarnings('ignore') "
      ],
      "execution_count": null,
      "outputs": []
    },
    {
      "cell_type": "code",
      "metadata": {
        "id": "NoSn1t2eQ54q"
      },
      "source": [
        "marketing_events = (pd.read_csv('.../datasets/ab_project_marketing_events.csv', \n",
        "                                parse_dates=['start_dt','finish_dt']))\n",
        "new_users = pd.read_csv('.../datasets/final_ab_new_users.csv', parse_dates=['first_date'])\n",
        "ab_events = pd.read_csv('.../datasets/final_ab_events.csv', parse_dates=['event_dt'])\n",
        "ab_participants = pd.read_csv('.../datasets/final_ab_participants.csv')\n"
      ],
      "execution_count": null,
      "outputs": []
    },
    {
      "cell_type": "markdown",
      "metadata": {
        "id": "D3KrQtd9YmLC"
      },
      "source": [
        "**ШАГ 2. Предобработка данных**"
      ]
    },
    {
      "cell_type": "markdown",
      "metadata": {
        "id": "dDPm491b7eid"
      },
      "source": [
        "Ознакомимся со всеми датасетами."
      ]
    },
    {
      "cell_type": "code",
      "metadata": {
        "colab": {
          "base_uri": "https://localhost:8080/",
          "height": 1000
        },
        "id": "w0OeOYPxVpiF",
        "outputId": "b3550410-c4d1-4994-a31d-586bca6b248d"
      },
      "source": [
        "df=[marketing_events, new_users, ab_events, ab_participants]\n",
        "for every in df:\n",
        "    display(every.head(5))\n",
        "    print('                                                                 ')\n",
        "    print(every.info())\n",
        "    print('                                                                 ')\n",
        "    print(every.isna().sum())\n",
        "    print('                                                                 ')\n",
        "    print(every.duplicated().sum())\n",
        "    print('                                                                 ')\n",
        "    display(every.describe())\n",
        "    print('_________________________________________________________________')"
      ],
      "execution_count": null,
      "outputs": [
        {
          "data": {
            "text/html": [
              "<div>\n",
              "<style scoped>\n",
              "    .dataframe tbody tr th:only-of-type {\n",
              "        vertical-align: middle;\n",
              "    }\n",
              "\n",
              "    .dataframe tbody tr th {\n",
              "        vertical-align: top;\n",
              "    }\n",
              "\n",
              "    .dataframe thead th {\n",
              "        text-align: right;\n",
              "    }\n",
              "</style>\n",
              "<table border=\"1\" class=\"dataframe\">\n",
              "  <thead>\n",
              "    <tr style=\"text-align: right;\">\n",
              "      <th></th>\n",
              "      <th>name</th>\n",
              "      <th>regions</th>\n",
              "      <th>start_dt</th>\n",
              "      <th>finish_dt</th>\n",
              "    </tr>\n",
              "  </thead>\n",
              "  <tbody>\n",
              "    <tr>\n",
              "      <td>0</td>\n",
              "      <td>Christmas&amp;New Year Promo</td>\n",
              "      <td>EU, N.America</td>\n",
              "      <td>2020-12-25</td>\n",
              "      <td>2021-01-03</td>\n",
              "    </tr>\n",
              "    <tr>\n",
              "      <td>1</td>\n",
              "      <td>St. Valentine's Day Giveaway</td>\n",
              "      <td>EU, CIS, APAC, N.America</td>\n",
              "      <td>2020-02-14</td>\n",
              "      <td>2020-02-16</td>\n",
              "    </tr>\n",
              "    <tr>\n",
              "      <td>2</td>\n",
              "      <td>St. Patric's Day Promo</td>\n",
              "      <td>EU, N.America</td>\n",
              "      <td>2020-03-17</td>\n",
              "      <td>2020-03-19</td>\n",
              "    </tr>\n",
              "    <tr>\n",
              "      <td>3</td>\n",
              "      <td>Easter Promo</td>\n",
              "      <td>EU, CIS, APAC, N.America</td>\n",
              "      <td>2020-04-12</td>\n",
              "      <td>2020-04-19</td>\n",
              "    </tr>\n",
              "    <tr>\n",
              "      <td>4</td>\n",
              "      <td>4th of July Promo</td>\n",
              "      <td>N.America</td>\n",
              "      <td>2020-07-04</td>\n",
              "      <td>2020-07-11</td>\n",
              "    </tr>\n",
              "  </tbody>\n",
              "</table>\n",
              "</div>"
            ],
            "text/plain": [
              "                           name                   regions   start_dt  \\\n",
              "0      Christmas&New Year Promo             EU, N.America 2020-12-25   \n",
              "1  St. Valentine's Day Giveaway  EU, CIS, APAC, N.America 2020-02-14   \n",
              "2        St. Patric's Day Promo             EU, N.America 2020-03-17   \n",
              "3                  Easter Promo  EU, CIS, APAC, N.America 2020-04-12   \n",
              "4             4th of July Promo                 N.America 2020-07-04   \n",
              "\n",
              "   finish_dt  \n",
              "0 2021-01-03  \n",
              "1 2020-02-16  \n",
              "2 2020-03-19  \n",
              "3 2020-04-19  \n",
              "4 2020-07-11  "
            ]
          },
          "metadata": {},
          "output_type": "display_data"
        },
        {
          "name": "stdout",
          "output_type": "stream",
          "text": [
            "                                                                 \n",
            "<class 'pandas.core.frame.DataFrame'>\n",
            "RangeIndex: 14 entries, 0 to 13\n",
            "Data columns (total 4 columns):\n",
            "name         14 non-null object\n",
            "regions      14 non-null object\n",
            "start_dt     14 non-null datetime64[ns]\n",
            "finish_dt    14 non-null datetime64[ns]\n",
            "dtypes: datetime64[ns](2), object(2)\n",
            "memory usage: 576.0+ bytes\n",
            "None\n",
            "                                                                 \n",
            "name         0\n",
            "regions      0\n",
            "start_dt     0\n",
            "finish_dt    0\n",
            "dtype: int64\n",
            "                                                                 \n",
            "0\n",
            "                                                                 \n"
          ]
        },
        {
          "data": {
            "text/html": [
              "<div>\n",
              "<style scoped>\n",
              "    .dataframe tbody tr th:only-of-type {\n",
              "        vertical-align: middle;\n",
              "    }\n",
              "\n",
              "    .dataframe tbody tr th {\n",
              "        vertical-align: top;\n",
              "    }\n",
              "\n",
              "    .dataframe thead th {\n",
              "        text-align: right;\n",
              "    }\n",
              "</style>\n",
              "<table border=\"1\" class=\"dataframe\">\n",
              "  <thead>\n",
              "    <tr style=\"text-align: right;\">\n",
              "      <th></th>\n",
              "      <th>name</th>\n",
              "      <th>regions</th>\n",
              "      <th>start_dt</th>\n",
              "      <th>finish_dt</th>\n",
              "    </tr>\n",
              "  </thead>\n",
              "  <tbody>\n",
              "    <tr>\n",
              "      <td>count</td>\n",
              "      <td>14</td>\n",
              "      <td>14</td>\n",
              "      <td>14</td>\n",
              "      <td>14</td>\n",
              "    </tr>\n",
              "    <tr>\n",
              "      <td>unique</td>\n",
              "      <td>14</td>\n",
              "      <td>6</td>\n",
              "      <td>14</td>\n",
              "      <td>14</td>\n",
              "    </tr>\n",
              "    <tr>\n",
              "      <td>top</td>\n",
              "      <td>International Women's Day Promo</td>\n",
              "      <td>APAC</td>\n",
              "      <td>2020-02-14 00:00:00</td>\n",
              "      <td>2020-05-11 00:00:00</td>\n",
              "    </tr>\n",
              "    <tr>\n",
              "      <td>freq</td>\n",
              "      <td>1</td>\n",
              "      <td>4</td>\n",
              "      <td>1</td>\n",
              "      <td>1</td>\n",
              "    </tr>\n",
              "    <tr>\n",
              "      <td>first</td>\n",
              "      <td>NaN</td>\n",
              "      <td>NaN</td>\n",
              "      <td>2020-01-25 00:00:00</td>\n",
              "      <td>2020-02-07 00:00:00</td>\n",
              "    </tr>\n",
              "    <tr>\n",
              "      <td>last</td>\n",
              "      <td>NaN</td>\n",
              "      <td>NaN</td>\n",
              "      <td>2020-12-30 00:00:00</td>\n",
              "      <td>2021-01-07 00:00:00</td>\n",
              "    </tr>\n",
              "  </tbody>\n",
              "</table>\n",
              "</div>"
            ],
            "text/plain": [
              "                                   name regions             start_dt  \\\n",
              "count                                14      14                   14   \n",
              "unique                               14       6                   14   \n",
              "top     International Women's Day Promo    APAC  2020-02-14 00:00:00   \n",
              "freq                                  1       4                    1   \n",
              "first                               NaN     NaN  2020-01-25 00:00:00   \n",
              "last                                NaN     NaN  2020-12-30 00:00:00   \n",
              "\n",
              "                  finish_dt  \n",
              "count                    14  \n",
              "unique                   14  \n",
              "top     2020-05-11 00:00:00  \n",
              "freq                      1  \n",
              "first   2020-02-07 00:00:00  \n",
              "last    2021-01-07 00:00:00  "
            ]
          },
          "metadata": {},
          "output_type": "display_data"
        },
        {
          "name": "stdout",
          "output_type": "stream",
          "text": [
            "_________________________________________________________________\n"
          ]
        },
        {
          "data": {
            "text/html": [
              "<div>\n",
              "<style scoped>\n",
              "    .dataframe tbody tr th:only-of-type {\n",
              "        vertical-align: middle;\n",
              "    }\n",
              "\n",
              "    .dataframe tbody tr th {\n",
              "        vertical-align: top;\n",
              "    }\n",
              "\n",
              "    .dataframe thead th {\n",
              "        text-align: right;\n",
              "    }\n",
              "</style>\n",
              "<table border=\"1\" class=\"dataframe\">\n",
              "  <thead>\n",
              "    <tr style=\"text-align: right;\">\n",
              "      <th></th>\n",
              "      <th>user_id</th>\n",
              "      <th>first_date</th>\n",
              "      <th>region</th>\n",
              "      <th>device</th>\n",
              "    </tr>\n",
              "  </thead>\n",
              "  <tbody>\n",
              "    <tr>\n",
              "      <td>0</td>\n",
              "      <td>D72A72121175D8BE</td>\n",
              "      <td>2020-12-07</td>\n",
              "      <td>EU</td>\n",
              "      <td>PC</td>\n",
              "    </tr>\n",
              "    <tr>\n",
              "      <td>1</td>\n",
              "      <td>F1C668619DFE6E65</td>\n",
              "      <td>2020-12-07</td>\n",
              "      <td>N.America</td>\n",
              "      <td>Android</td>\n",
              "    </tr>\n",
              "    <tr>\n",
              "      <td>2</td>\n",
              "      <td>2E1BF1D4C37EA01F</td>\n",
              "      <td>2020-12-07</td>\n",
              "      <td>EU</td>\n",
              "      <td>PC</td>\n",
              "    </tr>\n",
              "    <tr>\n",
              "      <td>3</td>\n",
              "      <td>50734A22C0C63768</td>\n",
              "      <td>2020-12-07</td>\n",
              "      <td>EU</td>\n",
              "      <td>iPhone</td>\n",
              "    </tr>\n",
              "    <tr>\n",
              "      <td>4</td>\n",
              "      <td>E1BDDCE0DAFA2679</td>\n",
              "      <td>2020-12-07</td>\n",
              "      <td>N.America</td>\n",
              "      <td>iPhone</td>\n",
              "    </tr>\n",
              "  </tbody>\n",
              "</table>\n",
              "</div>"
            ],
            "text/plain": [
              "            user_id first_date     region   device\n",
              "0  D72A72121175D8BE 2020-12-07         EU       PC\n",
              "1  F1C668619DFE6E65 2020-12-07  N.America  Android\n",
              "2  2E1BF1D4C37EA01F 2020-12-07         EU       PC\n",
              "3  50734A22C0C63768 2020-12-07         EU   iPhone\n",
              "4  E1BDDCE0DAFA2679 2020-12-07  N.America   iPhone"
            ]
          },
          "metadata": {},
          "output_type": "display_data"
        },
        {
          "name": "stdout",
          "output_type": "stream",
          "text": [
            "                                                                 \n",
            "<class 'pandas.core.frame.DataFrame'>\n",
            "RangeIndex: 61733 entries, 0 to 61732\n",
            "Data columns (total 4 columns):\n",
            "user_id       61733 non-null object\n",
            "first_date    61733 non-null datetime64[ns]\n",
            "region        61733 non-null object\n",
            "device        61733 non-null object\n",
            "dtypes: datetime64[ns](1), object(3)\n",
            "memory usage: 1.9+ MB\n",
            "None\n",
            "                                                                 \n",
            "user_id       0\n",
            "first_date    0\n",
            "region        0\n",
            "device        0\n",
            "dtype: int64\n",
            "                                                                 \n",
            "0\n",
            "                                                                 \n"
          ]
        },
        {
          "data": {
            "text/html": [
              "<div>\n",
              "<style scoped>\n",
              "    .dataframe tbody tr th:only-of-type {\n",
              "        vertical-align: middle;\n",
              "    }\n",
              "\n",
              "    .dataframe tbody tr th {\n",
              "        vertical-align: top;\n",
              "    }\n",
              "\n",
              "    .dataframe thead th {\n",
              "        text-align: right;\n",
              "    }\n",
              "</style>\n",
              "<table border=\"1\" class=\"dataframe\">\n",
              "  <thead>\n",
              "    <tr style=\"text-align: right;\">\n",
              "      <th></th>\n",
              "      <th>user_id</th>\n",
              "      <th>first_date</th>\n",
              "      <th>region</th>\n",
              "      <th>device</th>\n",
              "    </tr>\n",
              "  </thead>\n",
              "  <tbody>\n",
              "    <tr>\n",
              "      <td>count</td>\n",
              "      <td>61733</td>\n",
              "      <td>61733</td>\n",
              "      <td>61733</td>\n",
              "      <td>61733</td>\n",
              "    </tr>\n",
              "    <tr>\n",
              "      <td>unique</td>\n",
              "      <td>61733</td>\n",
              "      <td>17</td>\n",
              "      <td>4</td>\n",
              "      <td>4</td>\n",
              "    </tr>\n",
              "    <tr>\n",
              "      <td>top</td>\n",
              "      <td>2D99F6F203195B88</td>\n",
              "      <td>2020-12-21 00:00:00</td>\n",
              "      <td>EU</td>\n",
              "      <td>Android</td>\n",
              "    </tr>\n",
              "    <tr>\n",
              "      <td>freq</td>\n",
              "      <td>1</td>\n",
              "      <td>6290</td>\n",
              "      <td>46270</td>\n",
              "      <td>27520</td>\n",
              "    </tr>\n",
              "    <tr>\n",
              "      <td>first</td>\n",
              "      <td>NaN</td>\n",
              "      <td>2020-12-07 00:00:00</td>\n",
              "      <td>NaN</td>\n",
              "      <td>NaN</td>\n",
              "    </tr>\n",
              "    <tr>\n",
              "      <td>last</td>\n",
              "      <td>NaN</td>\n",
              "      <td>2020-12-23 00:00:00</td>\n",
              "      <td>NaN</td>\n",
              "      <td>NaN</td>\n",
              "    </tr>\n",
              "  </tbody>\n",
              "</table>\n",
              "</div>"
            ],
            "text/plain": [
              "                 user_id           first_date region   device\n",
              "count              61733                61733  61733    61733\n",
              "unique             61733                   17      4        4\n",
              "top     2D99F6F203195B88  2020-12-21 00:00:00     EU  Android\n",
              "freq                   1                 6290  46270    27520\n",
              "first                NaN  2020-12-07 00:00:00    NaN      NaN\n",
              "last                 NaN  2020-12-23 00:00:00    NaN      NaN"
            ]
          },
          "metadata": {},
          "output_type": "display_data"
        },
        {
          "name": "stdout",
          "output_type": "stream",
          "text": [
            "_________________________________________________________________\n"
          ]
        },
        {
          "data": {
            "text/html": [
              "<div>\n",
              "<style scoped>\n",
              "    .dataframe tbody tr th:only-of-type {\n",
              "        vertical-align: middle;\n",
              "    }\n",
              "\n",
              "    .dataframe tbody tr th {\n",
              "        vertical-align: top;\n",
              "    }\n",
              "\n",
              "    .dataframe thead th {\n",
              "        text-align: right;\n",
              "    }\n",
              "</style>\n",
              "<table border=\"1\" class=\"dataframe\">\n",
              "  <thead>\n",
              "    <tr style=\"text-align: right;\">\n",
              "      <th></th>\n",
              "      <th>user_id</th>\n",
              "      <th>event_dt</th>\n",
              "      <th>event_name</th>\n",
              "      <th>details</th>\n",
              "    </tr>\n",
              "  </thead>\n",
              "  <tbody>\n",
              "    <tr>\n",
              "      <td>0</td>\n",
              "      <td>E1BDDCE0DAFA2679</td>\n",
              "      <td>2020-12-07 20:22:03</td>\n",
              "      <td>purchase</td>\n",
              "      <td>99.99</td>\n",
              "    </tr>\n",
              "    <tr>\n",
              "      <td>1</td>\n",
              "      <td>7B6452F081F49504</td>\n",
              "      <td>2020-12-07 09:22:53</td>\n",
              "      <td>purchase</td>\n",
              "      <td>9.99</td>\n",
              "    </tr>\n",
              "    <tr>\n",
              "      <td>2</td>\n",
              "      <td>9CD9F34546DF254C</td>\n",
              "      <td>2020-12-07 12:59:29</td>\n",
              "      <td>purchase</td>\n",
              "      <td>4.99</td>\n",
              "    </tr>\n",
              "    <tr>\n",
              "      <td>3</td>\n",
              "      <td>96F27A054B191457</td>\n",
              "      <td>2020-12-07 04:02:40</td>\n",
              "      <td>purchase</td>\n",
              "      <td>4.99</td>\n",
              "    </tr>\n",
              "    <tr>\n",
              "      <td>4</td>\n",
              "      <td>1FD7660FDF94CA1F</td>\n",
              "      <td>2020-12-07 10:15:09</td>\n",
              "      <td>purchase</td>\n",
              "      <td>4.99</td>\n",
              "    </tr>\n",
              "  </tbody>\n",
              "</table>\n",
              "</div>"
            ],
            "text/plain": [
              "            user_id            event_dt event_name  details\n",
              "0  E1BDDCE0DAFA2679 2020-12-07 20:22:03   purchase    99.99\n",
              "1  7B6452F081F49504 2020-12-07 09:22:53   purchase     9.99\n",
              "2  9CD9F34546DF254C 2020-12-07 12:59:29   purchase     4.99\n",
              "3  96F27A054B191457 2020-12-07 04:02:40   purchase     4.99\n",
              "4  1FD7660FDF94CA1F 2020-12-07 10:15:09   purchase     4.99"
            ]
          },
          "metadata": {},
          "output_type": "display_data"
        },
        {
          "name": "stdout",
          "output_type": "stream",
          "text": [
            "                                                                 \n",
            "<class 'pandas.core.frame.DataFrame'>\n",
            "RangeIndex: 440317 entries, 0 to 440316\n",
            "Data columns (total 4 columns):\n",
            "user_id       440317 non-null object\n",
            "event_dt      440317 non-null datetime64[ns]\n",
            "event_name    440317 non-null object\n",
            "details       62740 non-null float64\n",
            "dtypes: datetime64[ns](1), float64(1), object(2)\n",
            "memory usage: 13.4+ MB\n",
            "None\n",
            "                                                                 \n",
            "user_id            0\n",
            "event_dt           0\n",
            "event_name         0\n",
            "details       377577\n",
            "dtype: int64\n",
            "                                                                 \n",
            "0\n",
            "                                                                 \n"
          ]
        },
        {
          "data": {
            "text/html": [
              "<div>\n",
              "<style scoped>\n",
              "    .dataframe tbody tr th:only-of-type {\n",
              "        vertical-align: middle;\n",
              "    }\n",
              "\n",
              "    .dataframe tbody tr th {\n",
              "        vertical-align: top;\n",
              "    }\n",
              "\n",
              "    .dataframe thead th {\n",
              "        text-align: right;\n",
              "    }\n",
              "</style>\n",
              "<table border=\"1\" class=\"dataframe\">\n",
              "  <thead>\n",
              "    <tr style=\"text-align: right;\">\n",
              "      <th></th>\n",
              "      <th>details</th>\n",
              "    </tr>\n",
              "  </thead>\n",
              "  <tbody>\n",
              "    <tr>\n",
              "      <td>count</td>\n",
              "      <td>62740.000000</td>\n",
              "    </tr>\n",
              "    <tr>\n",
              "      <td>mean</td>\n",
              "      <td>23.877631</td>\n",
              "    </tr>\n",
              "    <tr>\n",
              "      <td>std</td>\n",
              "      <td>72.180465</td>\n",
              "    </tr>\n",
              "    <tr>\n",
              "      <td>min</td>\n",
              "      <td>4.990000</td>\n",
              "    </tr>\n",
              "    <tr>\n",
              "      <td>25%</td>\n",
              "      <td>4.990000</td>\n",
              "    </tr>\n",
              "    <tr>\n",
              "      <td>50%</td>\n",
              "      <td>4.990000</td>\n",
              "    </tr>\n",
              "    <tr>\n",
              "      <td>75%</td>\n",
              "      <td>9.990000</td>\n",
              "    </tr>\n",
              "    <tr>\n",
              "      <td>max</td>\n",
              "      <td>499.990000</td>\n",
              "    </tr>\n",
              "  </tbody>\n",
              "</table>\n",
              "</div>"
            ],
            "text/plain": [
              "            details\n",
              "count  62740.000000\n",
              "mean      23.877631\n",
              "std       72.180465\n",
              "min        4.990000\n",
              "25%        4.990000\n",
              "50%        4.990000\n",
              "75%        9.990000\n",
              "max      499.990000"
            ]
          },
          "metadata": {},
          "output_type": "display_data"
        },
        {
          "name": "stdout",
          "output_type": "stream",
          "text": [
            "_________________________________________________________________\n"
          ]
        },
        {
          "data": {
            "text/html": [
              "<div>\n",
              "<style scoped>\n",
              "    .dataframe tbody tr th:only-of-type {\n",
              "        vertical-align: middle;\n",
              "    }\n",
              "\n",
              "    .dataframe tbody tr th {\n",
              "        vertical-align: top;\n",
              "    }\n",
              "\n",
              "    .dataframe thead th {\n",
              "        text-align: right;\n",
              "    }\n",
              "</style>\n",
              "<table border=\"1\" class=\"dataframe\">\n",
              "  <thead>\n",
              "    <tr style=\"text-align: right;\">\n",
              "      <th></th>\n",
              "      <th>user_id</th>\n",
              "      <th>group</th>\n",
              "      <th>ab_test</th>\n",
              "    </tr>\n",
              "  </thead>\n",
              "  <tbody>\n",
              "    <tr>\n",
              "      <td>0</td>\n",
              "      <td>D1ABA3E2887B6A73</td>\n",
              "      <td>A</td>\n",
              "      <td>recommender_system_test</td>\n",
              "    </tr>\n",
              "    <tr>\n",
              "      <td>1</td>\n",
              "      <td>A7A3664BD6242119</td>\n",
              "      <td>A</td>\n",
              "      <td>recommender_system_test</td>\n",
              "    </tr>\n",
              "    <tr>\n",
              "      <td>2</td>\n",
              "      <td>DABC14FDDFADD29E</td>\n",
              "      <td>A</td>\n",
              "      <td>recommender_system_test</td>\n",
              "    </tr>\n",
              "    <tr>\n",
              "      <td>3</td>\n",
              "      <td>04988C5DF189632E</td>\n",
              "      <td>A</td>\n",
              "      <td>recommender_system_test</td>\n",
              "    </tr>\n",
              "    <tr>\n",
              "      <td>4</td>\n",
              "      <td>482F14783456D21B</td>\n",
              "      <td>B</td>\n",
              "      <td>recommender_system_test</td>\n",
              "    </tr>\n",
              "  </tbody>\n",
              "</table>\n",
              "</div>"
            ],
            "text/plain": [
              "            user_id group                  ab_test\n",
              "0  D1ABA3E2887B6A73     A  recommender_system_test\n",
              "1  A7A3664BD6242119     A  recommender_system_test\n",
              "2  DABC14FDDFADD29E     A  recommender_system_test\n",
              "3  04988C5DF189632E     A  recommender_system_test\n",
              "4  482F14783456D21B     B  recommender_system_test"
            ]
          },
          "metadata": {},
          "output_type": "display_data"
        },
        {
          "name": "stdout",
          "output_type": "stream",
          "text": [
            "                                                                 \n",
            "<class 'pandas.core.frame.DataFrame'>\n",
            "RangeIndex: 18268 entries, 0 to 18267\n",
            "Data columns (total 3 columns):\n",
            "user_id    18268 non-null object\n",
            "group      18268 non-null object\n",
            "ab_test    18268 non-null object\n",
            "dtypes: object(3)\n",
            "memory usage: 428.3+ KB\n",
            "None\n",
            "                                                                 \n",
            "user_id    0\n",
            "group      0\n",
            "ab_test    0\n",
            "dtype: int64\n",
            "                                                                 \n",
            "0\n",
            "                                                                 \n"
          ]
        },
        {
          "data": {
            "text/html": [
              "<div>\n",
              "<style scoped>\n",
              "    .dataframe tbody tr th:only-of-type {\n",
              "        vertical-align: middle;\n",
              "    }\n",
              "\n",
              "    .dataframe tbody tr th {\n",
              "        vertical-align: top;\n",
              "    }\n",
              "\n",
              "    .dataframe thead th {\n",
              "        text-align: right;\n",
              "    }\n",
              "</style>\n",
              "<table border=\"1\" class=\"dataframe\">\n",
              "  <thead>\n",
              "    <tr style=\"text-align: right;\">\n",
              "      <th></th>\n",
              "      <th>user_id</th>\n",
              "      <th>group</th>\n",
              "      <th>ab_test</th>\n",
              "    </tr>\n",
              "  </thead>\n",
              "  <tbody>\n",
              "    <tr>\n",
              "      <td>count</td>\n",
              "      <td>18268</td>\n",
              "      <td>18268</td>\n",
              "      <td>18268</td>\n",
              "    </tr>\n",
              "    <tr>\n",
              "      <td>unique</td>\n",
              "      <td>16666</td>\n",
              "      <td>2</td>\n",
              "      <td>2</td>\n",
              "    </tr>\n",
              "    <tr>\n",
              "      <td>top</td>\n",
              "      <td>5A435BDA3980EFA3</td>\n",
              "      <td>A</td>\n",
              "      <td>interface_eu_test</td>\n",
              "    </tr>\n",
              "    <tr>\n",
              "      <td>freq</td>\n",
              "      <td>2</td>\n",
              "      <td>9655</td>\n",
              "      <td>11567</td>\n",
              "    </tr>\n",
              "  </tbody>\n",
              "</table>\n",
              "</div>"
            ],
            "text/plain": [
              "                 user_id  group            ab_test\n",
              "count              18268  18268              18268\n",
              "unique             16666      2                  2\n",
              "top     5A435BDA3980EFA3      A  interface_eu_test\n",
              "freq                   2   9655              11567"
            ]
          },
          "metadata": {},
          "output_type": "display_data"
        },
        {
          "name": "stdout",
          "output_type": "stream",
          "text": [
            "_________________________________________________________________\n"
          ]
        }
      ]
    },
    {
      "cell_type": "markdown",
      "metadata": {
        "id": "55X-cPk1aeg4"
      },
      "source": [
        "Необходимо привести дату к нужному формату."
      ]
    },
    {
      "cell_type": "code",
      "metadata": {
        "colab": {
          "base_uri": "https://localhost:8080/"
        },
        "id": "xdVvZN5hhwNv",
        "outputId": "6c4ab2c1-7612-42d6-d22f-589104d90917"
      },
      "source": [
        "print('Дата начала событий:', marketing_events['start_dt'].min())\n",
        "print('Дата окончания событий:', marketing_events['finish_dt'].max())"
      ],
      "execution_count": null,
      "outputs": [
        {
          "name": "stdout",
          "output_type": "stream",
          "text": [
            "Дата начала событий: 2020-01-25 00:00:00\n",
            "Дата окончания событий: 2021-01-07 00:00:00\n"
          ]
        }
      ]
    },
    {
      "cell_type": "code",
      "metadata": {
        "colab": {
          "base_uri": "https://localhost:8080/"
        },
        "id": "iV_TL5vveZj0",
        "outputId": "fa5787f4-2f9a-4b31-bcc7-2b2aa73da1e0"
      },
      "source": [
        "print('Минимальная дата:', new_users['first_date'].min())\n",
        "print('Максимальная дата:', new_users['first_date'].max())"
      ],
      "execution_count": null,
      "outputs": [
        {
          "name": "stdout",
          "output_type": "stream",
          "text": [
            "Минимальная дата: 2020-12-07 00:00:00\n",
            "Максимальная дата: 2020-12-23 00:00:00\n"
          ]
        }
      ]
    },
    {
      "cell_type": "markdown",
      "metadata": {
        "id": "dVbxgq0Reh_7"
      },
      "source": [
        "По требованию ТЗ нам необходимы данные только с 7 декабря 2020 по 4 января 2021 года. В таблицах new_users и marketing_events мы имеем данные за более длительный период. Возможных причин может быть несколько: данные выгружены за более длительный период, записаны лишние данные, произшла ошибка при выгрузке. Отфильтруем датасеты, оставив нужные даты."
      ]
    },
    {
      "cell_type": "code",
      "metadata": {
        "id": "-mxTNYrBfn-6"
      },
      "source": [
        "new_users = new_users[new_users['first_date'] <= '2020-12-21 00:00:00']"
      ],
      "execution_count": null,
      "outputs": []
    },
    {
      "cell_type": "code",
      "metadata": {
        "id": "-MJELxIVqYNQ"
      },
      "source": [
        "marketing_events = marketing_events[(marketing_events['start_dt'] <= '2021-01-04') & \n",
        "                                          (marketing_events['finish_dt'] >= '2020-12-07')]"
      ],
      "execution_count": null,
      "outputs": []
    },
    {
      "cell_type": "markdown",
      "metadata": {
        "id": "JWEz9FdEXp56"
      },
      "source": [
        "В ab_events 377577 пропусков, заполним их нулями, так как у нас отсутствуют дополнительные данные."
      ]
    },
    {
      "cell_type": "code",
      "metadata": {
        "colab": {
          "base_uri": "https://localhost:8080/"
        },
        "id": "oREzMY1nXj_C",
        "outputId": "bcd46acf-d1e5-4edf-e92e-17a38432e227"
      },
      "source": [
        "ab_events = ab_events.fillna(0)\n",
        "ab_events.isna().sum()"
      ],
      "execution_count": null,
      "outputs": [
        {
          "data": {
            "text/plain": [
              "user_id       0\n",
              "event_dt      0\n",
              "event_name    0\n",
              "details       0\n",
              "dtype: int64"
            ]
          },
          "metadata": {},
          "output_type": "display_data"
        }
      ]
    },
    {
      "cell_type": "markdown",
      "metadata": {
        "id": "QkQcxu-eY1wh"
      },
      "source": [
        "Пропуски отсуттсвуют по всех датасетах. В ab_events пропуски заполнены нулями, в остальных латасетах пропуски отсутствуют. Следует проверить в ab_events столбец details, так как максимальное количество деталей 499. Дата приведена к необходимому формату. Данные отфильтрованы по датам, с которыми требуется дальнейшая работа по ТЗ.\n"
      ]
    },
    {
      "cell_type": "markdown",
      "metadata": {
        "id": "Tql9pmTkh3Bx"
      },
      "source": [
        "**ШАГ 3. Исследовательский анализ данных.**\n",
        "\n",
        "**3.1. Общее исследование данных**"
      ]
    },
    {
      "cell_type": "code",
      "metadata": {
        "colab": {
          "base_uri": "https://localhost:8080/"
        },
        "id": "u39xCX_G7uHJ",
        "outputId": "6d3dbc3a-beb2-4be8-b38b-4b08f40dbfdc"
      },
      "source": [
        "marketing_events['regions'].value_counts()"
      ],
      "execution_count": null,
      "outputs": [
        {
          "data": {
            "text/plain": [
              "CIS              1\n",
              "EU, N.America    1\n",
              "Name: regions, dtype: int64"
            ]
          },
          "execution_count": 80,
          "metadata": {},
          "output_type": "execute_result"
        }
      ]
    },
    {
      "cell_type": "markdown",
      "metadata": {
        "id": "m9Q9GmEuyfXK"
      },
      "source": [
        "После фильтрации по дате у нас остались события из двух регионов: СНГ и США/Европа."
      ]
    },
    {
      "cell_type": "code",
      "metadata": {
        "colab": {
          "base_uri": "https://localhost:8080/"
        },
        "id": "tdKR2_4I3HPE",
        "outputId": "24c1a155-ef69-40db-de77-088dda869967"
      },
      "source": [
        "new_users['region'].value_counts()"
      ],
      "execution_count": null,
      "outputs": [
        {
          "data": {
            "text/plain": [
              "EU           46270\n",
              "N.America     9155\n",
              "CIS           3155\n",
              "APAC          3153\n",
              "Name: region, dtype: int64"
            ]
          },
          "metadata": {},
          "output_type": "display_data"
        }
      ]
    },
    {
      "cell_type": "markdown",
      "metadata": {
        "id": "7AtJTu9V3rWj"
      },
      "source": [
        "В ЕС 42340 пользователей."
      ]
    },
    {
      "cell_type": "code",
      "metadata": {
        "colab": {
          "base_uri": "https://localhost:8080/"
        },
        "id": "rDMhqeKk7uJs",
        "outputId": "7332dfe4-d00d-4d27-e88e-e71e8cc10adf"
      },
      "source": [
        "marketing_events['name'].value_counts()"
      ],
      "execution_count": null,
      "outputs": [
        {
          "data": {
            "text/plain": [
              "Christmas&New Year Promo     1\n",
              "CIS New Year Gift Lottery    1\n",
              "Name: name, dtype: int64"
            ]
          },
          "execution_count": 82,
          "metadata": {},
          "output_type": "execute_result"
        }
      ]
    },
    {
      "cell_type": "markdown",
      "metadata": {
        "id": "mBP23dYey_PJ"
      },
      "source": [
        "Мы имеем 2 типа событий: рождественское и новогоднее промо и новогодняя подарочная лотеря. \n",
        "\n"
      ]
    },
    {
      "cell_type": "markdown",
      "metadata": {
        "id": "8dvSB6Af8W8H"
      },
      "source": [
        "Проверим совпадения с маркетинговыми активностями в тестовый период:"
      ]
    },
    {
      "cell_type": "code",
      "metadata": {
        "colab": {
          "base_uri": "https://localhost:8080/",
          "height": 111
        },
        "id": "-uo2CM8a8CVt",
        "outputId": "044ee363-e9e6-4bce-bb22-803d8f35537d"
      },
      "source": [
        "marketing_events.query('start_dt >= \"2020-12-07\" & start_dt <= \"2021-01-04\" | finish_dt >= \"2020-12-07\" & finish_dt <= \"2021-01-04\"')"
      ],
      "execution_count": null,
      "outputs": [
        {
          "data": {
            "text/html": [
              "<div>\n",
              "<style scoped>\n",
              "    .dataframe tbody tr th:only-of-type {\n",
              "        vertical-align: middle;\n",
              "    }\n",
              "\n",
              "    .dataframe tbody tr th {\n",
              "        vertical-align: top;\n",
              "    }\n",
              "\n",
              "    .dataframe thead th {\n",
              "        text-align: right;\n",
              "    }\n",
              "</style>\n",
              "<table border=\"1\" class=\"dataframe\">\n",
              "  <thead>\n",
              "    <tr style=\"text-align: right;\">\n",
              "      <th></th>\n",
              "      <th>name</th>\n",
              "      <th>regions</th>\n",
              "      <th>start_dt</th>\n",
              "      <th>finish_dt</th>\n",
              "    </tr>\n",
              "  </thead>\n",
              "  <tbody>\n",
              "    <tr>\n",
              "      <td>0</td>\n",
              "      <td>Christmas&amp;New Year Promo</td>\n",
              "      <td>EU, N.America</td>\n",
              "      <td>2020-12-25</td>\n",
              "      <td>2021-01-03</td>\n",
              "    </tr>\n",
              "    <tr>\n",
              "      <td>10</td>\n",
              "      <td>CIS New Year Gift Lottery</td>\n",
              "      <td>CIS</td>\n",
              "      <td>2020-12-30</td>\n",
              "      <td>2021-01-07</td>\n",
              "    </tr>\n",
              "  </tbody>\n",
              "</table>\n",
              "</div>"
            ],
            "text/plain": [
              "                         name        regions   start_dt  finish_dt\n",
              "0    Christmas&New Year Promo  EU, N.America 2020-12-25 2021-01-03\n",
              "10  CIS New Year Gift Lottery            CIS 2020-12-30 2021-01-07"
            ]
          },
          "execution_count": 159,
          "metadata": {},
          "output_type": "execute_result"
        }
      ]
    },
    {
      "cell_type": "markdown",
      "metadata": {
        "id": "dVM-F_qH8b_w"
      },
      "source": [
        "Поскольку тестирование проводится на регионе EU, можно утверждать, что есть одно пересечение - новогодняя/рождественская промоакция, которая может повлиять на результаты. Тестирование не следовало назначать на период, который может совпадать с маркетинговыми активностями и праздниками."
      ]
    },
    {
      "cell_type": "code",
      "metadata": {
        "colab": {
          "base_uri": "https://localhost:8080/"
        },
        "id": "4mLElc5WbeZ8",
        "outputId": "ae5d2e36-6065-48d6-ae3a-d50bbd240c6c"
      },
      "source": [
        "users_total = len(new_users['user_id'].unique())\n",
        "print('Всего зарегистрировавшихся пользователей: {}'.format(users_total))"
      ],
      "execution_count": null,
      "outputs": [
        {
          "name": "stdout",
          "output_type": "stream",
          "text": [
            "Всего зарегистрировавшихся пользователей: 56470\n"
          ]
        }
      ]
    },
    {
      "cell_type": "code",
      "metadata": {
        "colab": {
          "base_uri": "https://localhost:8080/"
        },
        "id": "so7QELSe1T9T",
        "outputId": "f0427c3f-ab61-4882-afef-8c5e623ff70c"
      },
      "source": [
        "participants_total = len(ab_participants['user_id'].unique())\n",
        "print('Всего участников теста: {}'.format(participants_total))"
      ],
      "execution_count": null,
      "outputs": [
        {
          "name": "stdout",
          "output_type": "stream",
          "text": [
            "Всего участников теста: 16666\n"
          ]
        }
      ]
    },
    {
      "cell_type": "code",
      "metadata": {
        "colab": {
          "base_uri": "https://localhost:8080/"
        },
        "id": "MqkIC6Mibece",
        "outputId": "7c043198-2caa-4524-d4e8-e5f84b590a6a"
      },
      "source": [
        "print ('Используемые девайсы: {}'.format(new_users['device'].unique()))"
      ],
      "execution_count": null,
      "outputs": [
        {
          "name": "stdout",
          "output_type": "stream",
          "text": [
            "Используемые девайсы: ['PC' 'Android' 'iPhone' 'Mac']\n"
          ]
        }
      ]
    },
    {
      "cell_type": "code",
      "metadata": {
        "colab": {
          "base_uri": "https://localhost:8080/"
        },
        "id": "5eqqxHOm06YO",
        "outputId": "196eb9fb-d46c-4536-8d17-9d7f1ef90562"
      },
      "source": [
        "new_users['device'].value_counts()"
      ],
      "execution_count": null,
      "outputs": [
        {
          "data": {
            "text/plain": [
              "Android    25161\n",
              "PC         14310\n",
              "iPhone     11477\n",
              "Mac         5522\n",
              "Name: device, dtype: int64"
            ]
          },
          "execution_count": 87,
          "metadata": {},
          "output_type": "execute_result"
        }
      ]
    },
    {
      "cell_type": "markdown",
      "metadata": {
        "id": "MT6QHYRbdcZw"
      },
      "source": [
        "Посмотим, какие существуют события:"
      ]
    },
    {
      "cell_type": "code",
      "metadata": {
        "colab": {
          "base_uri": "https://localhost:8080/"
        },
        "id": "A-LfZNEQdh9u",
        "outputId": "fe60e816-1035-4e49-d260-2106b333d2dd"
      },
      "source": [
        "ab_events['event_name'].unique()"
      ],
      "execution_count": null,
      "outputs": [
        {
          "data": {
            "text/plain": [
              "array(['purchase', 'product_cart', 'product_page', 'login'], dtype=object)"
            ]
          },
          "execution_count": 88,
          "metadata": {},
          "output_type": "execute_result"
        }
      ]
    },
    {
      "cell_type": "markdown",
      "metadata": {
        "id": "gXGYUFC1x80I"
      },
      "source": [
        "Проверим названия проведенных тестов:"
      ]
    },
    {
      "cell_type": "code",
      "metadata": {
        "colab": {
          "base_uri": "https://localhost:8080/"
        },
        "id": "eFc7zRd_7UFc",
        "outputId": "4aae805d-ba02-40fb-fb1d-707ef9f98fd4"
      },
      "source": [
        "ab_participants['ab_test'].unique()"
      ],
      "execution_count": null,
      "outputs": [
        {
          "data": {
            "text/plain": [
              "array(['recommender_system_test', 'interface_eu_test'], dtype=object)"
            ]
          },
          "execution_count": 89,
          "metadata": {},
          "output_type": "execute_result"
        }
      ]
    },
    {
      "cell_type": "markdown",
      "metadata": {
        "id": "bV449sCv122s"
      },
      "source": [
        "По ТЗ нам необходим recommender_system_test. Необходимо проверить, есть ли пересечение по пользователям в двух тестах. Сделаем срез данных по recommender_system_test и узнаем число пользователей:"
      ]
    },
    {
      "cell_type": "code",
      "metadata": {
        "colab": {
          "base_uri": "https://localhost:8080/"
        },
        "id": "4r5QjAhOIFOC",
        "outputId": "5a7723f0-5832-4141-fa04-dd4e760a48c9"
      },
      "source": [
        "rs_participants = ab_participants.query('ab_test == \"recommender_system_test\"')\n",
        "rs_participants['user_id'].count()"
      ],
      "execution_count": null,
      "outputs": [
        {
          "data": {
            "text/plain": [
              "6701"
            ]
          },
          "execution_count": 90,
          "metadata": {},
          "output_type": "execute_result"
        }
      ]
    },
    {
      "cell_type": "markdown",
      "metadata": {
        "id": "rwKAVZj12AyE"
      },
      "source": [
        "В recommender_system_test 6701 пользователей.\n",
        "\n",
        "Сделаем срез по тесту interface_eu_test:"
      ]
    },
    {
      "cell_type": "code",
      "metadata": {
        "colab": {
          "base_uri": "https://localhost:8080/"
        },
        "id": "QSbAvm7Z2GJr",
        "outputId": "48254e6c-ac89-47a1-8a18-4691680f5e6e"
      },
      "source": [
        "interface_participants = ab_participants.query('ab_test == \"interface_eu_test\"')\n",
        "interface_participants['user_id'].count()"
      ],
      "execution_count": null,
      "outputs": [
        {
          "data": {
            "text/plain": [
              "11567"
            ]
          },
          "execution_count": 91,
          "metadata": {},
          "output_type": "execute_result"
        }
      ]
    },
    {
      "cell_type": "markdown",
      "metadata": {
        "id": "tC_4g_s033ZG"
      },
      "source": [
        "Всего участников теста: 16666. Но в ab_participants 18268 записей, то есть мы имеем 1602 пересечения участников теста, которые оказались в 2 группах одновременно, в recommender_system_test и interface_eu_test. "
      ]
    },
    {
      "cell_type": "code",
      "metadata": {
        "colab": {
          "base_uri": "https://localhost:8080/"
        },
        "id": "_nLsFwyn5A38",
        "outputId": "67aecd02-38e5-4d1b-b081-beeca227e1a8"
      },
      "source": [
        "events_total = len(ab_events)\n",
        "print('Всего событий в логе: {}'.format(events_total))\n",
        "\n",
        "events_total_users = len(ab_events['user_id'].unique())\n",
        "print('Всего пользователей в логе: {}'.format(events_total_users))\n",
        "print('Среднее количество событий на пользователя: {}'.format(round(events_total/events_total_users)))"
      ],
      "execution_count": null,
      "outputs": [
        {
          "name": "stdout",
          "output_type": "stream",
          "text": [
            "Всего событий в логе: 440317\n",
            "Всего пользователей в логе: 58703\n",
            "Среднее количество событий на пользователя: 8\n"
          ]
        }
      ]
    },
    {
      "cell_type": "markdown",
      "metadata": {
        "id": "OQpzl9U_yR0I"
      },
      "source": [
        "Посчитаем количество записей для каждого события:"
      ]
    },
    {
      "cell_type": "code",
      "metadata": {
        "colab": {
          "base_uri": "https://localhost:8080/",
          "height": 173
        },
        "id": "QcjGhmCZ0Tn_",
        "outputId": "ba7d2088-2ef1-4696-bd11-b1918ca2c9d2"
      },
      "source": [
        "events_count = (ab_events\n",
        "                .groupby('event_name').agg({'event_dt':'count'})\n",
        "                .reset_index().sort_values(by = 'event_dt', ascending=False))\n",
        "events_count.columns = ['event_name', 'events_number']\n",
        "events_count['ratio_events'] = ((events_count['events_number'] / events_count['events_number'].sum()) * 100).round(1)\n",
        "display(events_count)"
      ],
      "execution_count": null,
      "outputs": [
        {
          "data": {
            "text/html": [
              "<div>\n",
              "<style scoped>\n",
              "    .dataframe tbody tr th:only-of-type {\n",
              "        vertical-align: middle;\n",
              "    }\n",
              "\n",
              "    .dataframe tbody tr th {\n",
              "        vertical-align: top;\n",
              "    }\n",
              "\n",
              "    .dataframe thead th {\n",
              "        text-align: right;\n",
              "    }\n",
              "</style>\n",
              "<table border=\"1\" class=\"dataframe\">\n",
              "  <thead>\n",
              "    <tr style=\"text-align: right;\">\n",
              "      <th></th>\n",
              "      <th>event_name</th>\n",
              "      <th>events_number</th>\n",
              "      <th>ratio_events</th>\n",
              "    </tr>\n",
              "  </thead>\n",
              "  <tbody>\n",
              "    <tr>\n",
              "      <td>0</td>\n",
              "      <td>login</td>\n",
              "      <td>189552</td>\n",
              "      <td>43.0</td>\n",
              "    </tr>\n",
              "    <tr>\n",
              "      <td>2</td>\n",
              "      <td>product_page</td>\n",
              "      <td>125563</td>\n",
              "      <td>28.5</td>\n",
              "    </tr>\n",
              "    <tr>\n",
              "      <td>3</td>\n",
              "      <td>purchase</td>\n",
              "      <td>62740</td>\n",
              "      <td>14.2</td>\n",
              "    </tr>\n",
              "    <tr>\n",
              "      <td>1</td>\n",
              "      <td>product_cart</td>\n",
              "      <td>62462</td>\n",
              "      <td>14.2</td>\n",
              "    </tr>\n",
              "  </tbody>\n",
              "</table>\n",
              "</div>"
            ],
            "text/plain": [
              "     event_name  events_number  ratio_events\n",
              "0         login         189552          43.0\n",
              "2  product_page         125563          28.5\n",
              "3      purchase          62740          14.2\n",
              "1  product_cart          62462          14.2"
            ]
          },
          "metadata": {},
          "output_type": "display_data"
        }
      ]
    },
    {
      "cell_type": "code",
      "metadata": {
        "colab": {
          "base_uri": "https://localhost:8080/",
          "height": 351
        },
        "id": "cvmTqnpY0Tu6",
        "outputId": "17ca3f68-7fbf-48a6-c2a5-c62115bef944"
      },
      "source": [
        "plt.figure(figsize = (9, 5))\n",
        "plt.title('Количество событий в логе') \n",
        "sns.barplot(x = 'event_name', y = 'events_number', data = events_count, color = 'green')\n",
        "plt.show()"
      ],
      "execution_count": null,
      "outputs": [
        {
          "data": {
            "image/png": "[encoded data removed]",
            "text/plain": [
              "<Figure size 648x360 with 1 Axes>"
            ]
          },
          "metadata": {
            "needs_background": "light"
          },
          "output_type": "display_data"
        }
      ]
    },
    {
      "cell_type": "markdown",
      "metadata": {
        "id": "sMEDaWqn11VA"
      },
      "source": [
        "Всего событий в логе: 440317.\n",
        "\n",
        "Всего пользователей в логе: 58703.\n",
        "\n",
        "В среднем на одного пользователя приходится 8 событий.\n",
        "\n",
        "Отслеживаемые события:\n",
        "\n",
        "login - вход в систему, чаще всего вызываемое событие в приложении, 185129 раз (43%);\n",
        "\n",
        "product_page - страница продукта, событие происходило 125563 раз (25,5%);\n",
        "\n",
        "purchase - покупка, событие происходило 62740 раз (14,2%);\n",
        "\n",
        "product_cart - корзина продукта, событие происходило 62462 раз (14,2%).\n",
        "\n",
        "Покупка совершается чаще, чем продукт кладется в корзину.\n",
        "Пользователи могли пропустить этап корзины, если уже на странице с продуктом есть кнопка оплаты. Предположительно, так проще сделать при покупке 1 товара, и добавление товара в корзину не является обязательным этапом воронки."
      ]
    },
    {
      "cell_type": "markdown",
      "metadata": {
        "id": "WH3PQM2otKQl"
      },
      "source": [
        "**3.2. Исследование конверсии в регионе EU**"
      ]
    },
    {
      "cell_type": "markdown",
      "metadata": {
        "id": "fl7RMfoU4DVJ"
      },
      "source": [
        "Объединим таблицы:"
      ]
    },
    {
      "cell_type": "code",
      "metadata": {
        "colab": {
          "base_uri": "https://localhost:8080/",
          "height": 204
        },
        "id": "UhLkYbWqtJMt",
        "outputId": "6843e530-5b8e-4ac0-9f3e-cd593adc79b3"
      },
      "source": [
        "data = new_users.merge(ab_events, on='user_id', how='left')\n",
        "data = data.merge(ab_participants, on='user_id', how='left')\n",
        "display(data.head())"
      ],
      "execution_count": null,
      "outputs": [
        {
          "data": {
            "text/html": [
              "<div>\n",
              "<style scoped>\n",
              "    .dataframe tbody tr th:only-of-type {\n",
              "        vertical-align: middle;\n",
              "    }\n",
              "\n",
              "    .dataframe tbody tr th {\n",
              "        vertical-align: top;\n",
              "    }\n",
              "\n",
              "    .dataframe thead th {\n",
              "        text-align: right;\n",
              "    }\n",
              "</style>\n",
              "<table border=\"1\" class=\"dataframe\">\n",
              "  <thead>\n",
              "    <tr style=\"text-align: right;\">\n",
              "      <th></th>\n",
              "      <th>user_id</th>\n",
              "      <th>first_date</th>\n",
              "      <th>region</th>\n",
              "      <th>device</th>\n",
              "      <th>event_dt</th>\n",
              "      <th>event_name</th>\n",
              "      <th>details</th>\n",
              "      <th>group</th>\n",
              "      <th>ab_test</th>\n",
              "    </tr>\n",
              "  </thead>\n",
              "  <tbody>\n",
              "    <tr>\n",
              "      <td>0</td>\n",
              "      <td>D72A72121175D8BE</td>\n",
              "      <td>2020-12-07</td>\n",
              "      <td>EU</td>\n",
              "      <td>PC</td>\n",
              "      <td>2020-12-07 21:52:10</td>\n",
              "      <td>product_page</td>\n",
              "      <td>0.0</td>\n",
              "      <td>A</td>\n",
              "      <td>recommender_system_test</td>\n",
              "    </tr>\n",
              "    <tr>\n",
              "      <td>1</td>\n",
              "      <td>D72A72121175D8BE</td>\n",
              "      <td>2020-12-07</td>\n",
              "      <td>EU</td>\n",
              "      <td>PC</td>\n",
              "      <td>2020-12-07 21:52:07</td>\n",
              "      <td>login</td>\n",
              "      <td>0.0</td>\n",
              "      <td>A</td>\n",
              "      <td>recommender_system_test</td>\n",
              "    </tr>\n",
              "    <tr>\n",
              "      <td>2</td>\n",
              "      <td>F1C668619DFE6E65</td>\n",
              "      <td>2020-12-07</td>\n",
              "      <td>N.America</td>\n",
              "      <td>Android</td>\n",
              "      <td>2020-12-07 16:38:09</td>\n",
              "      <td>product_page</td>\n",
              "      <td>0.0</td>\n",
              "      <td>NaN</td>\n",
              "      <td>NaN</td>\n",
              "    </tr>\n",
              "    <tr>\n",
              "      <td>3</td>\n",
              "      <td>F1C668619DFE6E65</td>\n",
              "      <td>2020-12-07</td>\n",
              "      <td>N.America</td>\n",
              "      <td>Android</td>\n",
              "      <td>2020-12-08 02:02:34</td>\n",
              "      <td>product_page</td>\n",
              "      <td>0.0</td>\n",
              "      <td>NaN</td>\n",
              "      <td>NaN</td>\n",
              "    </tr>\n",
              "    <tr>\n",
              "      <td>4</td>\n",
              "      <td>F1C668619DFE6E65</td>\n",
              "      <td>2020-12-07</td>\n",
              "      <td>N.America</td>\n",
              "      <td>Android</td>\n",
              "      <td>2020-12-23 14:35:41</td>\n",
              "      <td>product_page</td>\n",
              "      <td>0.0</td>\n",
              "      <td>NaN</td>\n",
              "      <td>NaN</td>\n",
              "    </tr>\n",
              "  </tbody>\n",
              "</table>\n",
              "</div>"
            ],
            "text/plain": [
              "            user_id first_date     region   device            event_dt  \\\n",
              "0  D72A72121175D8BE 2020-12-07         EU       PC 2020-12-07 21:52:10   \n",
              "1  D72A72121175D8BE 2020-12-07         EU       PC 2020-12-07 21:52:07   \n",
              "2  F1C668619DFE6E65 2020-12-07  N.America  Android 2020-12-07 16:38:09   \n",
              "3  F1C668619DFE6E65 2020-12-07  N.America  Android 2020-12-08 02:02:34   \n",
              "4  F1C668619DFE6E65 2020-12-07  N.America  Android 2020-12-23 14:35:41   \n",
              "\n",
              "     event_name  details group                  ab_test  \n",
              "0  product_page      0.0     A  recommender_system_test  \n",
              "1         login      0.0     A  recommender_system_test  \n",
              "2  product_page      0.0   NaN                      NaN  \n",
              "3  product_page      0.0   NaN                      NaN  \n",
              "4  product_page      0.0   NaN                      NaN  "
            ]
          },
          "metadata": {},
          "output_type": "display_data"
        }
      ]
    },
    {
      "cell_type": "markdown",
      "metadata": {
        "id": "Lcnc8TCD6sM1"
      },
      "source": [
        "Отфильтруем только тех пользователей, кто участвовал в A/B-тестировании recommender_system_test (согласно ТЗ). Так мы исключим пересечения с конкурирующими тестами."
      ]
    },
    {
      "cell_type": "code",
      "metadata": {
        "id": "7aP4YsavtJOt"
      },
      "source": [
        "data_eu = data.query('ab_test == \"recommender_system_test\"')"
      ],
      "execution_count": null,
      "outputs": []
    },
    {
      "cell_type": "code",
      "metadata": {
        "id": "AxvnUpgb7ESb"
      },
      "source": [
        "data_eu = data_eu.query('region == \"EU\"')"
      ],
      "execution_count": null,
      "outputs": []
    },
    {
      "cell_type": "code",
      "metadata": {
        "id": "yZ279pLg98ts",
        "outputId": "6ad010e5-c2b9-4b0c-e05d-f6c4ccbf73fd"
      },
      "source": [
        "data_eu['user_id'].nunique()"
      ],
      "execution_count": null,
      "outputs": [
        {
          "data": {
            "text/plain": [
              "6351"
            ]
          },
          "execution_count": 98,
          "metadata": {},
          "output_type": "execute_result"
        }
      ]
    },
    {
      "cell_type": "code",
      "metadata": {
        "colab": {
          "base_uri": "https://localhost:8080/"
        },
        "id": "0ysFCcji7Uah",
        "outputId": "628c1bd1-ed0c-4922-f31a-d494dc7b0846"
      },
      "source": [
        "print('Данные по событиям распределены от', data_eu['event_dt'].min(), 'до', data_eu['event_dt'].max())"
      ],
      "execution_count": null,
      "outputs": [
        {
          "name": "stdout",
          "output_type": "stream",
          "text": [
            "Данные по событиям распределены от 2020-12-07 00:05:57 до 2020-12-30 12:42:57\n"
          ]
        }
      ]
    },
    {
      "cell_type": "markdown",
      "metadata": {
        "id": "HAXzzfgv9KBh"
      },
      "source": [
        "Этот временной промежуток меньше, чем требует техзадание. \n",
        "\n",
        "Новые пользователи участвовали в тестировании до 2020-12-21."
      ]
    },
    {
      "cell_type": "code",
      "metadata": {
        "id": "LHFZ1rBP_qhD"
      },
      "source": [
        "data_eu = data_eu.query('first_date <= \"2020-12-21\"')"
      ],
      "execution_count": null,
      "outputs": []
    },
    {
      "cell_type": "markdown",
      "metadata": {
        "id": "-eDGOI8jA6Z7"
      },
      "source": [
        "Cделаем срез с ограничением даты сограсно ТЗ:"
      ]
    },
    {
      "cell_type": "code",
      "metadata": {
        "colab": {
          "base_uri": "https://localhost:8080/"
        },
        "id": "G4IvYSKZ71_v",
        "outputId": "2275ed7f-7976-487d-8fdd-f37c3f39e4dd"
      },
      "source": [
        "print('Всего участников тестрования в EU:', len(data_eu['user_id'].unique()))"
      ],
      "execution_count": null,
      "outputs": [
        {
          "name": "stdout",
          "output_type": "stream",
          "text": [
            "Всего участников тестрования в EU: 3481\n"
          ]
        }
      ]
    },
    {
      "cell_type": "code",
      "metadata": {
        "colab": {
          "base_uri": "https://localhost:8080/"
        },
        "id": "hCeZq3q--bK6",
        "outputId": "adef33be-5493-4521-a2be-282478cecc16"
      },
      "source": [
        "eu_events_total = len(data_eu)\n",
        "print('Всего событий в логе: {}'.format(eu_events_total))\n",
        "\n",
        "events_eu_users = len(data_eu['user_id'].unique())\n",
        "print('Среднее количество событий на пользователя для EU: {}'.format(round(eu_events_total/events_eu_users)))"
      ],
      "execution_count": null,
      "outputs": [
        {
          "name": "stdout",
          "output_type": "stream",
          "text": [
            "Всего событий в логе: 23420\n",
            "Среднее количество событий на пользователя для EU: 7\n"
          ]
        }
      ]
    },
    {
      "cell_type": "code",
      "metadata": {
        "colab": {
          "base_uri": "https://localhost:8080/",
          "height": 173
        },
        "id": "10TJO03XDCrj",
        "outputId": "eb494511-0e60-41a9-d12d-3429a1ab74c4"
      },
      "source": [
        "eu_event_counts = data_eu['event_name'].value_counts().reset_index()\n",
        "eu_event_counts.columns = ['event_name', 'events_number']\n",
        "display(eu_event_counts)"
      ],
      "execution_count": null,
      "outputs": [
        {
          "data": {
            "text/html": [
              "<div>\n",
              "<style scoped>\n",
              "    .dataframe tbody tr th:only-of-type {\n",
              "        vertical-align: middle;\n",
              "    }\n",
              "\n",
              "    .dataframe tbody tr th {\n",
              "        vertical-align: top;\n",
              "    }\n",
              "\n",
              "    .dataframe thead th {\n",
              "        text-align: right;\n",
              "    }\n",
              "</style>\n",
              "<table border=\"1\" class=\"dataframe\">\n",
              "  <thead>\n",
              "    <tr style=\"text-align: right;\">\n",
              "      <th></th>\n",
              "      <th>event_name</th>\n",
              "      <th>events_number</th>\n",
              "    </tr>\n",
              "  </thead>\n",
              "  <tbody>\n",
              "    <tr>\n",
              "      <td>0</td>\n",
              "      <td>login</td>\n",
              "      <td>10595</td>\n",
              "    </tr>\n",
              "    <tr>\n",
              "      <td>1</td>\n",
              "      <td>product_page</td>\n",
              "      <td>6554</td>\n",
              "    </tr>\n",
              "    <tr>\n",
              "      <td>2</td>\n",
              "      <td>purchase</td>\n",
              "      <td>3196</td>\n",
              "    </tr>\n",
              "    <tr>\n",
              "      <td>3</td>\n",
              "      <td>product_cart</td>\n",
              "      <td>3075</td>\n",
              "    </tr>\n",
              "  </tbody>\n",
              "</table>\n",
              "</div>"
            ],
            "text/plain": [
              "     event_name  events_number\n",
              "0         login          10595\n",
              "1  product_page           6554\n",
              "2      purchase           3196\n",
              "3  product_cart           3075"
            ]
          },
          "metadata": {},
          "output_type": "display_data"
        }
      ]
    },
    {
      "cell_type": "code",
      "metadata": {
        "colab": {
          "base_uri": "https://localhost:8080/",
          "height": 351
        },
        "id": "IAwsLz44DCt5",
        "outputId": "01065401-dd9e-4ea3-eb6c-ecdffb8f91f5"
      },
      "source": [
        "plt.figure(figsize=(9, 5))\n",
        "plt.title('Количество событий в логе EU') \n",
        "sns.barplot(x = 'event_name', y = 'events_number', data = eu_event_counts, color = 'green')\n",
        "plt.show()\n"
      ],
      "execution_count": null,
      "outputs": [
        {
          "data": {
            "image/png": "[encoded data removed]",
            "text/plain": [
              "<Figure size 648x360 with 1 Axes>"
            ]
          },
          "metadata": {
            "needs_background": "light"
          },
          "output_type": "display_data"
        }
      ]
    },
    {
      "cell_type": "markdown",
      "metadata": {
        "id": "al84ZuGzGBZZ"
      },
      "source": [
        "В этом случае также  больше событий покупок, чем событий входа в корзину. Предположительно, мы имеем дело с ошибками, если только не существует возможности миновать корзину и оплатить заказ сразу."
      ]
    },
    {
      "cell_type": "markdown",
      "metadata": {
        "id": "E9mqwZM743z7"
      },
      "source": [
        "**Построим воронку событий для региона EU**"
      ]
    },
    {
      "cell_type": "code",
      "metadata": {
        "id": "09uUKnj8DCwS"
      },
      "source": [
        "eu_event_funnel = data_eu.groupby('event_name')['user_id'].nunique().sort_values(ascending = False).reset_index()\n",
        "eu_event_funnel['index'] = [1,2,4,3]\n",
        "funnel = eu_event_funnel.sort_values(by='index')"
      ],
      "execution_count": null,
      "outputs": []
    },
    {
      "cell_type": "code",
      "metadata": {
        "colab": {
          "base_uri": "https://localhost:8080/",
          "height": 542
        },
        "id": "D3moIedMRS4Q",
        "outputId": "8694d8e3-a1b2-4b22-e42a-008fccb28ed4"
      },
      "source": [
        "fig = go.Figure()\n",
        "fig.add_trace(go.Funnel(\n",
        "    name = 'Funnel',\n",
        "    x = funnel['user_id'],\n",
        "    y = funnel['event_name'],\n",
        "    \n",
        "    textinfo = 'value + percent initial + percent previous'))\n",
        "\n",
        "fig.update_layout(title = 'Воронка событий для региона EU', title_x = 0.5)\n",
        "fig.show()"
      ],
      "execution_count": null,
      "outputs": [
        {
          "data": {
            "application/vnd.plotly.v1+json": {
              "config": {
                "plotlyServerURL": "https://plot.ly"
              },
              "data": [
                {
                  "name": "Funnel",
                  "textinfo": "value+percent initial+percent previous",
                  "type": "funnel",
                  "x": [
                    3481,
                    2178,
                    1026,
                    1082
                  ],
                  "y": [
                    "login",
                    "product_page",
                    "product_cart",
                    "purchase"
                  ]
                }
              ],
              "layout": {
                "template": {
                  "data": {
                    "bar": [
                      {
                        "error_x": {
                          "color": "#2a3f5f"
                        },
                        "error_y": {
                          "color": "#2a3f5f"
                        },
                        "marker": {
                          "line": {
                            "color": "#E5ECF6",
                            "width": 0.5
                          }
                        },
                        "type": "bar"
                      }
                    ],
                    "barpolar": [
                      {
                        "marker": {
                          "line": {
                            "color": "#E5ECF6",
                            "width": 0.5
                          }
                        },
                        "type": "barpolar"
                      }
                    ],
                    "carpet": [
                      {
                        "aaxis": {
                          "endlinecolor": "#2a3f5f",
                          "gridcolor": "white",
                          "linecolor": "white",
                          "minorgridcolor": "white",
                          "startlinecolor": "#2a3f5f"
                        },
                        "baxis": {
                          "endlinecolor": "#2a3f5f",
                          "gridcolor": "white",
                          "linecolor": "white",
                          "minorgridcolor": "white",
                          "startlinecolor": "#2a3f5f"
                        },
                        "type": "carpet"
                      }
                    ],
                    "choropleth": [
                      {
                        "colorbar": {
                          "outlinewidth": 0,
                          "ticks": ""
                        },
                        "type": "choropleth"
                      }
                    ],
                    "contour": [
                      {
                        "colorbar": {
                          "outlinewidth": 0,
                          "ticks": ""
                        },
                        "colorscale": [
                          [
                            0,
                            "#0d0887"
                          ],
                          [
                            0.1111111111,
                            "#46039f"
                          ],
                          [
                            0.2222222222,
                            "#7201a8"
                          ],
                          [
                            0.3333333333,
                            "#9c179e"
                          ],
                          [
                            0.4444444444,
                            "#bd3786"
                          ],
                          [
                            0.5555555556,
                            "#d8576b"
                          ],
                          [
                            0.6666666667,
                            "#ed7953"
                          ],
                          [
                            0.7777777778,
                            "#fb9f3a"
                          ],
                          [
                            0.8888888889,
                            "#fdca26"
                          ],
                          [
                            1,
                            "#f0f921"
                          ]
                        ],
                        "type": "contour"
                      }
                    ],
                    "contourcarpet": [
                      {
                        "colorbar": {
                          "outlinewidth": 0,
                          "ticks": ""
                        },
                        "type": "contourcarpet"
                      }
                    ],
                    "heatmap": [
                      {
                        "colorbar": {
                          "outlinewidth": 0,
                          "ticks": ""
                        },
                        "colorscale": [
                          [
                            0,
                            "#0d0887"
                          ],
                          [
                            0.1111111111,
                            "#46039f"
                          ],
                          [
                            0.2222222222,
                            "#7201a8"
                          ],
                          [
                            0.3333333333,
                            "#9c179e"
                          ],
                          [
                            0.4444444444,
                            "#bd3786"
                          ],
                          [
                            0.5555555556,
                            "#d8576b"
                          ],
                          [
                            0.6666666667,
                            "#ed7953"
                          ],
                          [
                            0.7777777778,
                            "#fb9f3a"
                          ],
                          [
                            0.8888888889,
                            "#fdca26"
                          ],
                          [
                            1,
                            "#f0f921"
                          ]
                        ],
                        "type": "heatmap"
                      }
                    ],
                    "heatmapgl": [
                      {
                        "colorbar": {
                          "outlinewidth": 0,
                          "ticks": ""
                        },
                        "colorscale": [
                          [
                            0,
                            "#0d0887"
                          ],
                          [
                            0.1111111111,
                            "#46039f"
                          ],
                          [
                            0.2222222222,
                            "#7201a8"
                          ],
                          [
                            0.3333333333,
                            "#9c179e"
                          ],
                          [
                            0.4444444444,
                            "#bd3786"
                          ],
                          [
                            0.5555555556,
                            "#d8576b"
                          ],
                          [
                            0.6666666667,
                            "#ed7953"
                          ],
                          [
                            0.7777777778,
                            "#fb9f3a"
                          ],
                          [
                            0.8888888889,
                            "#fdca26"
                          ],
                          [
                            1,
                            "#f0f921"
                          ]
                        ],
                        "type": "heatmapgl"
                      }
                    ],
                    "histogram": [
                      {
                        "marker": {
                          "colorbar": {
                            "outlinewidth": 0,
                            "ticks": ""
                          }
                        },
                        "type": "histogram"
                      }
                    ],
                    "histogram2d": [
                      {
                        "colorbar": {
                          "outlinewidth": 0,
                          "ticks": ""
                        },
                        "colorscale": [
                          [
                            0,
                            "#0d0887"
                          ],
                          [
                            0.1111111111,
                            "#46039f"
                          ],
                          [
                            0.2222222222,
                            "#7201a8"
                          ],
                          [
                            0.3333333333,
                            "#9c179e"
                          ],
                          [
                            0.4444444444,
                            "#bd3786"
                          ],
                          [
                            0.5555555556,
                            "#d8576b"
                          ],
                          [
                            0.6666666667,
                            "#ed7953"
                          ],
                          [
                            0.7777777778,
                            "#fb9f3a"
                          ],
                          [
                            0.8888888889,
                            "#fdca26"
                          ],
                          [
                            1,
                            "#f0f921"
                          ]
                        ],
                        "type": "histogram2d"
                      }
                    ],
                    "histogram2dcontour": [
                      {
                        "colorbar": {
                          "outlinewidth": 0,
                          "ticks": ""
                        },
                        "colorscale": [
                          [
                            0,
                            "#0d0887"
                          ],
                          [
                            0.1111111111,
                            "#46039f"
                          ],
                          [
                            0.2222222222,
                            "#7201a8"
                          ],
                          [
                            0.3333333333,
                            "#9c179e"
                          ],
                          [
                            0.4444444444,
                            "#bd3786"
                          ],
                          [
                            0.5555555556,
                            "#d8576b"
                          ],
                          [
                            0.6666666667,
                            "#ed7953"
                          ],
                          [
                            0.7777777778,
                            "#fb9f3a"
                          ],
                          [
                            0.8888888889,
                            "#fdca26"
                          ],
                          [
                            1,
                            "#f0f921"
                          ]
                        ],
                        "type": "histogram2dcontour"
                      }
                    ],
                    "mesh3d": [
                      {
                        "colorbar": {
                          "outlinewidth": 0,
                          "ticks": ""
                        },
                        "type": "mesh3d"
                      }
                    ],
                    "parcoords": [
                      {
                        "line": {
                          "colorbar": {
                            "outlinewidth": 0,
                            "ticks": ""
                          }
                        },
                        "type": "parcoords"
                      }
                    ],
                    "scatter": [
                      {
                        "marker": {
                          "colorbar": {
                            "outlinewidth": 0,
                            "ticks": ""
                          }
                        },
                        "type": "scatter"
                      }
                    ],
                    "scatter3d": [
                      {
                        "line": {
                          "colorbar": {
                            "outlinewidth": 0,
                            "ticks": ""
                          }
                        },
                        "marker": {
                          "colorbar": {
                            "outlinewidth": 0,
                            "ticks": ""
                          }
                        },
                        "type": "scatter3d"
                      }
                    ],
                    "scattercarpet": [
                      {
                        "marker": {
                          "colorbar": {
                            "outlinewidth": 0,
                            "ticks": ""
                          }
                        },
                        "type": "scattercarpet"
                      }
                    ],
                    "scattergeo": [
                      {
                        "marker": {
                          "colorbar": {
                            "outlinewidth": 0,
                            "ticks": ""
                          }
                        },
                        "type": "scattergeo"
                      }
                    ],
                    "scattergl": [
                      {
                        "marker": {
                          "colorbar": {
                            "outlinewidth": 0,
                            "ticks": ""
                          }
                        },
                        "type": "scattergl"
                      }
                    ],
                    "scattermapbox": [
                      {
                        "marker": {
                          "colorbar": {
                            "outlinewidth": 0,
                            "ticks": ""
                          }
                        },
                        "type": "scattermapbox"
                      }
                    ],
                    "scatterpolar": [
                      {
                        "marker": {
                          "colorbar": {
                            "outlinewidth": 0,
                            "ticks": ""
                          }
                        },
                        "type": "scatterpolar"
                      }
                    ],
                    "scatterpolargl": [
                      {
                        "marker": {
                          "colorbar": {
                            "outlinewidth": 0,
                            "ticks": ""
                          }
                        },
                        "type": "scatterpolargl"
                      }
                    ],
                    "scatterternary": [
                      {
                        "marker": {
                          "colorbar": {
                            "outlinewidth": 0,
                            "ticks": ""
                          }
                        },
                        "type": "scatterternary"
                      }
                    ],
                    "surface": [
                      {
                        "colorbar": {
                          "outlinewidth": 0,
                          "ticks": ""
                        },
                        "colorscale": [
                          [
                            0,
                            "#0d0887"
                          ],
                          [
                            0.1111111111,
                            "#46039f"
                          ],
                          [
                            0.2222222222,
                            "#7201a8"
                          ],
                          [
                            0.3333333333,
                            "#9c179e"
                          ],
                          [
                            0.4444444444,
                            "#bd3786"
                          ],
                          [
                            0.5555555556,
                            "#d8576b"
                          ],
                          [
                            0.6666666667,
                            "#ed7953"
                          ],
                          [
                            0.7777777778,
                            "#fb9f3a"
                          ],
                          [
                            0.8888888889,
                            "#fdca26"
                          ],
                          [
                            1,
                            "#f0f921"
                          ]
                        ],
                        "type": "surface"
                      }
                    ],
                    "table": [
                      {
                        "cells": {
                          "fill": {
                            "color": "#EBF0F8"
                          },
                          "line": {
                            "color": "white"
                          }
                        },
                        "header": {
                          "fill": {
                            "color": "#C8D4E3"
                          },
                          "line": {
                            "color": "white"
                          }
                        },
                        "type": "table"
                      }
                    ]
                  },
                  "layout": {
                    "annotationdefaults": {
                      "arrowcolor": "#2a3f5f",
                      "arrowhead": 0,
                      "arrowwidth": 1
                    },
                    "colorscale": {
                      "diverging": [
                        [
                          0,
                          "#8e0152"
                        ],
                        [
                          0.1,
                          "#c51b7d"
                        ],
                        [
                          0.2,
                          "#de77ae"
                        ],
                        [
                          0.3,
                          "#f1b6da"
                        ],
                        [
                          0.4,
                          "#fde0ef"
                        ],
                        [
                          0.5,
                          "#f7f7f7"
                        ],
                        [
                          0.6,
                          "#e6f5d0"
                        ],
                        [
                          0.7,
                          "#b8e186"
                        ],
                        [
                          0.8,
                          "#7fbc41"
                        ],
                        [
                          0.9,
                          "#4d9221"
                        ],
                        [
                          1,
                          "#276419"
                        ]
                      ],
                      "sequential": [
                        [
                          0,
                          "#0d0887"
                        ],
                        [
                          0.1111111111,
                          "#46039f"
                        ],
                        [
                          0.2222222222,
                          "#7201a8"
                        ],
                        [
                          0.3333333333,
                          "#9c179e"
                        ],
                        [
                          0.4444444444,
                          "#bd3786"
                        ],
                        [
                          0.5555555556,
                          "#d8576b"
                        ],
                        [
                          0.6666666667,
                          "#ed7953"
                        ],
                        [
                          0.7777777778,
                          "#fb9f3a"
                        ],
                        [
                          0.8888888889,
                          "#fdca26"
                        ],
                        [
                          1,
                          "#f0f921"
                        ]
                      ],
                      "sequentialminus": [
                        [
                          0,
                          "#0d0887"
                        ],
                        [
                          0.1111111111,
                          "#46039f"
                        ],
                        [
                          0.2222222222,
                          "#7201a8"
                        ],
                        [
                          0.3333333333,
                          "#9c179e"
                        ],
                        [
                          0.4444444444,
                          "#bd3786"
                        ],
                        [
                          0.5555555556,
                          "#d8576b"
                        ],
                        [
                          0.6666666667,
                          "#ed7953"
                        ],
                        [
                          0.7777777778,
                          "#fb9f3a"
                        ],
                        [
                          0.8888888889,
                          "#fdca26"
                        ],
                        [
                          1,
                          "#f0f921"
                        ]
                      ]
                    },
                    "colorway": [
                      "#636efa",
                      "#EF553B",
                      "#00cc96",
                      "#ab63fa",
                      "#FFA15A",
                      "#19d3f3",
                      "#FF6692",
                      "#B6E880",
                      "#FF97FF",
                      "#FECB52"
                    ],
                    "font": {
                      "color": "#2a3f5f"
                    },
                    "geo": {
                      "bgcolor": "white",
                      "lakecolor": "white",
                      "landcolor": "#E5ECF6",
                      "showlakes": true,
                      "showland": true,
                      "subunitcolor": "white"
                    },
                    "hoverlabel": {
                      "align": "left"
                    },
                    "hovermode": "closest",
                    "mapbox": {
                      "style": "light"
                    },
                    "paper_bgcolor": "white",
                    "plot_bgcolor": "#E5ECF6",
                    "polar": {
                      "angularaxis": {
                        "gridcolor": "white",
                        "linecolor": "white",
                        "ticks": ""
                      },
                      "bgcolor": "#E5ECF6",
                      "radialaxis": {
                        "gridcolor": "white",
                        "linecolor": "white",
                        "ticks": ""
                      }
                    },
                    "scene": {
                      "xaxis": {
                        "backgroundcolor": "#E5ECF6",
                        "gridcolor": "white",
                        "gridwidth": 2,
                        "linecolor": "white",
                        "showbackground": true,
                        "ticks": "",
                        "zerolinecolor": "white"
                      },
                      "yaxis": {
                        "backgroundcolor": "#E5ECF6",
                        "gridcolor": "white",
                        "gridwidth": 2,
                        "linecolor": "white",
                        "showbackground": true,
                        "ticks": "",
                        "zerolinecolor": "white"
                      },
                      "zaxis": {
                        "backgroundcolor": "#E5ECF6",
                        "gridcolor": "white",
                        "gridwidth": 2,
                        "linecolor": "white",
                        "showbackground": true,
                        "ticks": "",
                        "zerolinecolor": "white"
                      }
                    },
                    "shapedefaults": {
                      "line": {
                        "color": "#2a3f5f"
                      }
                    },
                    "ternary": {
                      "aaxis": {
                        "gridcolor": "white",
                        "linecolor": "white",
                        "ticks": ""
                      },
                      "baxis": {
                        "gridcolor": "white",
                        "linecolor": "white",
                        "ticks": ""
                      },
                      "bgcolor": "#E5ECF6",
                      "caxis": {
                        "gridcolor": "white",
                        "linecolor": "white",
                        "ticks": ""
                      }
                    },
                    "title": {
                      "x": 0.05
                    },
                    "xaxis": {
                      "automargin": true,
                      "gridcolor": "white",
                      "linecolor": "white",
                      "ticks": "",
                      "zerolinecolor": "white",
                      "zerolinewidth": 2
                    },
                    "yaxis": {
                      "automargin": true,
                      "gridcolor": "white",
                      "linecolor": "white",
                      "ticks": "",
                      "zerolinecolor": "white",
                      "zerolinewidth": 2
                    }
                  }
                },
                "title": {
                  "text": "Воронка событий для региона EU",
                  "x": 0.5
                }
              }
            },
            "text/html": [
              "<div>\n",
              "        \n",
              "        \n",
              "            <div id=\"ce1fa47f-ebbc-4ef6-81f9-1487c626bafd\" class=\"plotly-graph-div\" style=\"height:525px; width:100%;\"></div>\n",
              "            <script type=\"text/javascript\">\n",
              "                require([\"plotly\"], function(Plotly) {\n",
              "                    window.PLOTLYENV=window.PLOTLYENV || {};\n",
              "                    \n",
              "                if (document.getElementById(\"ce1fa47f-ebbc-4ef6-81f9-1487c626bafd\")) {\n",
              "                    Plotly.newPlot(\n",
              "                        'ce1fa47f-ebbc-4ef6-81f9-1487c626bafd',\n",
              "                        [{\"name\": \"Funnel\", \"textinfo\": \"value+percent initial+percent previous\", \"type\": \"funnel\", \"x\": [3481, 2178, 1026, 1082], \"y\": [\"login\", \"product_page\", \"product_cart\", \"purchase\"]}],\n",
              "                        {\"template\": {\"data\": {\"bar\": [{\"error_x\": {\"color\": \"#2a3f5f\"}, \"error_y\": {\"color\": \"#2a3f5f\"}, \"marker\": {\"line\": {\"color\": \"#E5ECF6\", \"width\": 0.5}}, \"type\": \"bar\"}], \"barpolar\": [{\"marker\": {\"line\": {\"color\": \"#E5ECF6\", \"width\": 0.5}}, \"type\": \"barpolar\"}], \"carpet\": [{\"aaxis\": {\"endlinecolor\": \"#2a3f5f\", \"gridcolor\": \"white\", \"linecolor\": \"white\", \"minorgridcolor\": \"white\", \"startlinecolor\": \"#2a3f5f\"}, \"baxis\": {\"endlinecolor\": \"#2a3f5f\", \"gridcolor\": \"white\", \"linecolor\": \"white\", \"minorgridcolor\": \"white\", \"startlinecolor\": \"#2a3f5f\"}, \"type\": \"carpet\"}], \"choropleth\": [{\"colorbar\": {\"outlinewidth\": 0, \"ticks\": \"\"}, \"type\": \"choropleth\"}], \"contour\": [{\"colorbar\": {\"outlinewidth\": 0, \"ticks\": \"\"}, \"colorscale\": [[0.0, \"#0d0887\"], [0.1111111111111111, \"#46039f\"], [0.2222222222222222, \"#7201a8\"], [0.3333333333333333, \"#9c179e\"], [0.4444444444444444, \"#bd3786\"], [0.5555555555555556, \"#d8576b\"], [0.6666666666666666, \"#ed7953\"], [0.7777777777777778, \"#fb9f3a\"], [0.8888888888888888, \"#fdca26\"], [1.0, \"#f0f921\"]], \"type\": \"contour\"}], \"contourcarpet\": [{\"colorbar\": {\"outlinewidth\": 0, \"ticks\": \"\"}, \"type\": \"contourcarpet\"}], \"heatmap\": [{\"colorbar\": {\"outlinewidth\": 0, \"ticks\": \"\"}, \"colorscale\": [[0.0, \"#0d0887\"], [0.1111111111111111, \"#46039f\"], [0.2222222222222222, \"#7201a8\"], [0.3333333333333333, \"#9c179e\"], [0.4444444444444444, \"#bd3786\"], [0.5555555555555556, \"#d8576b\"], [0.6666666666666666, \"#ed7953\"], [0.7777777777777778, \"#fb9f3a\"], [0.8888888888888888, \"#fdca26\"], [1.0, \"#f0f921\"]], \"type\": \"heatmap\"}], \"heatmapgl\": [{\"colorbar\": {\"outlinewidth\": 0, \"ticks\": \"\"}, \"colorscale\": [[0.0, \"#0d0887\"], [0.1111111111111111, \"#46039f\"], [0.2222222222222222, \"#7201a8\"], [0.3333333333333333, \"#9c179e\"], [0.4444444444444444, \"#bd3786\"], [0.5555555555555556, \"#d8576b\"], [0.6666666666666666, \"#ed7953\"], [0.7777777777777778, \"#fb9f3a\"], [0.8888888888888888, \"#fdca26\"], [1.0, \"#f0f921\"]], \"type\": \"heatmapgl\"}], \"histogram\": [{\"marker\": {\"colorbar\": {\"outlinewidth\": 0, \"ticks\": \"\"}}, \"type\": \"histogram\"}], \"histogram2d\": [{\"colorbar\": {\"outlinewidth\": 0, \"ticks\": \"\"}, \"colorscale\": [[0.0, \"#0d0887\"], [0.1111111111111111, \"#46039f\"], [0.2222222222222222, \"#7201a8\"], [0.3333333333333333, \"#9c179e\"], [0.4444444444444444, \"#bd3786\"], [0.5555555555555556, \"#d8576b\"], [0.6666666666666666, \"#ed7953\"], [0.7777777777777778, \"#fb9f3a\"], [0.8888888888888888, \"#fdca26\"], [1.0, \"#f0f921\"]], \"type\": \"histogram2d\"}], \"histogram2dcontour\": [{\"colorbar\": {\"outlinewidth\": 0, \"ticks\": \"\"}, \"colorscale\": [[0.0, \"#0d0887\"], [0.1111111111111111, \"#46039f\"], [0.2222222222222222, \"#7201a8\"], [0.3333333333333333, \"#9c179e\"], [0.4444444444444444, \"#bd3786\"], [0.5555555555555556, \"#d8576b\"], [0.6666666666666666, \"#ed7953\"], [0.7777777777777778, \"#fb9f3a\"], [0.8888888888888888, \"#fdca26\"], [1.0, \"#f0f921\"]], \"type\": \"histogram2dcontour\"}], \"mesh3d\": [{\"colorbar\": {\"outlinewidth\": 0, \"ticks\": \"\"}, \"type\": \"mesh3d\"}], \"parcoords\": [{\"line\": {\"colorbar\": {\"outlinewidth\": 0, \"ticks\": \"\"}}, \"type\": \"parcoords\"}], \"scatter\": [{\"marker\": {\"colorbar\": {\"outlinewidth\": 0, \"ticks\": \"\"}}, \"type\": \"scatter\"}], \"scatter3d\": [{\"line\": {\"colorbar\": {\"outlinewidth\": 0, \"ticks\": \"\"}}, \"marker\": {\"colorbar\": {\"outlinewidth\": 0, \"ticks\": \"\"}}, \"type\": \"scatter3d\"}], \"scattercarpet\": [{\"marker\": {\"colorbar\": {\"outlinewidth\": 0, \"ticks\": \"\"}}, \"type\": \"scattercarpet\"}], \"scattergeo\": [{\"marker\": {\"colorbar\": {\"outlinewidth\": 0, \"ticks\": \"\"}}, \"type\": \"scattergeo\"}], \"scattergl\": [{\"marker\": {\"colorbar\": {\"outlinewidth\": 0, \"ticks\": \"\"}}, \"type\": \"scattergl\"}], \"scattermapbox\": [{\"marker\": {\"colorbar\": {\"outlinewidth\": 0, \"ticks\": \"\"}}, \"type\": \"scattermapbox\"}], \"scatterpolar\": [{\"marker\": {\"colorbar\": {\"outlinewidth\": 0, \"ticks\": \"\"}}, \"type\": \"scatterpolar\"}], \"scatterpolargl\": [{\"marker\": {\"colorbar\": {\"outlinewidth\": 0, \"ticks\": \"\"}}, \"type\": \"scatterpolargl\"}], \"scatterternary\": [{\"marker\": {\"colorbar\": {\"outlinewidth\": 0, \"ticks\": \"\"}}, \"type\": \"scatterternary\"}], \"surface\": [{\"colorbar\": {\"outlinewidth\": 0, \"ticks\": \"\"}, \"colorscale\": [[0.0, \"#0d0887\"], [0.1111111111111111, \"#46039f\"], [0.2222222222222222, \"#7201a8\"], [0.3333333333333333, \"#9c179e\"], [0.4444444444444444, \"#bd3786\"], [0.5555555555555556, \"#d8576b\"], [0.6666666666666666, \"#ed7953\"], [0.7777777777777778, \"#fb9f3a\"], [0.8888888888888888, \"#fdca26\"], [1.0, \"#f0f921\"]], \"type\": \"surface\"}], \"table\": [{\"cells\": {\"fill\": {\"color\": \"#EBF0F8\"}, \"line\": {\"color\": \"white\"}}, \"header\": {\"fill\": {\"color\": \"#C8D4E3\"}, \"line\": {\"color\": \"white\"}}, \"type\": \"table\"}]}, \"layout\": {\"annotationdefaults\": {\"arrowcolor\": \"#2a3f5f\", \"arrowhead\": 0, \"arrowwidth\": 1}, \"colorscale\": {\"diverging\": [[0, \"#8e0152\"], [0.1, \"#c51b7d\"], [0.2, \"#de77ae\"], [0.3, \"#f1b6da\"], [0.4, \"#fde0ef\"], [0.5, \"#f7f7f7\"], [0.6, \"#e6f5d0\"], [0.7, \"#b8e186\"], [0.8, \"#7fbc41\"], [0.9, \"#4d9221\"], [1, \"#276419\"]], \"sequential\": [[0.0, \"#0d0887\"], [0.1111111111111111, \"#46039f\"], [0.2222222222222222, \"#7201a8\"], [0.3333333333333333, \"#9c179e\"], [0.4444444444444444, \"#bd3786\"], [0.5555555555555556, \"#d8576b\"], [0.6666666666666666, \"#ed7953\"], [0.7777777777777778, \"#fb9f3a\"], [0.8888888888888888, \"#fdca26\"], [1.0, \"#f0f921\"]], \"sequentialminus\": [[0.0, \"#0d0887\"], [0.1111111111111111, \"#46039f\"], [0.2222222222222222, \"#7201a8\"], [0.3333333333333333, \"#9c179e\"], [0.4444444444444444, \"#bd3786\"], [0.5555555555555556, \"#d8576b\"], [0.6666666666666666, \"#ed7953\"], [0.7777777777777778, \"#fb9f3a\"], [0.8888888888888888, \"#fdca26\"], [1.0, \"#f0f921\"]]}, \"colorway\": [\"#636efa\", \"#EF553B\", \"#00cc96\", \"#ab63fa\", \"#FFA15A\", \"#19d3f3\", \"#FF6692\", \"#B6E880\", \"#FF97FF\", \"#FECB52\"], \"font\": {\"color\": \"#2a3f5f\"}, \"geo\": {\"bgcolor\": \"white\", \"lakecolor\": \"white\", \"landcolor\": \"#E5ECF6\", \"showlakes\": true, \"showland\": true, \"subunitcolor\": \"white\"}, \"hoverlabel\": {\"align\": \"left\"}, \"hovermode\": \"closest\", \"mapbox\": {\"style\": \"light\"}, \"paper_bgcolor\": \"white\", \"plot_bgcolor\": \"#E5ECF6\", \"polar\": {\"angularaxis\": {\"gridcolor\": \"white\", \"linecolor\": \"white\", \"ticks\": \"\"}, \"bgcolor\": \"#E5ECF6\", \"radialaxis\": {\"gridcolor\": \"white\", \"linecolor\": \"white\", \"ticks\": \"\"}}, \"scene\": {\"xaxis\": {\"backgroundcolor\": \"#E5ECF6\", \"gridcolor\": \"white\", \"gridwidth\": 2, \"linecolor\": \"white\", \"showbackground\": true, \"ticks\": \"\", \"zerolinecolor\": \"white\"}, \"yaxis\": {\"backgroundcolor\": \"#E5ECF6\", \"gridcolor\": \"white\", \"gridwidth\": 2, \"linecolor\": \"white\", \"showbackground\": true, \"ticks\": \"\", \"zerolinecolor\": \"white\"}, \"zaxis\": {\"backgroundcolor\": \"#E5ECF6\", \"gridcolor\": \"white\", \"gridwidth\": 2, \"linecolor\": \"white\", \"showbackground\": true, \"ticks\": \"\", \"zerolinecolor\": \"white\"}}, \"shapedefaults\": {\"line\": {\"color\": \"#2a3f5f\"}}, \"ternary\": {\"aaxis\": {\"gridcolor\": \"white\", \"linecolor\": \"white\", \"ticks\": \"\"}, \"baxis\": {\"gridcolor\": \"white\", \"linecolor\": \"white\", \"ticks\": \"\"}, \"bgcolor\": \"#E5ECF6\", \"caxis\": {\"gridcolor\": \"white\", \"linecolor\": \"white\", \"ticks\": \"\"}}, \"title\": {\"x\": 0.05}, \"xaxis\": {\"automargin\": true, \"gridcolor\": \"white\", \"linecolor\": \"white\", \"ticks\": \"\", \"zerolinecolor\": \"white\", \"zerolinewidth\": 2}, \"yaxis\": {\"automargin\": true, \"gridcolor\": \"white\", \"linecolor\": \"white\", \"ticks\": \"\", \"zerolinecolor\": \"white\", \"zerolinewidth\": 2}}}, \"title\": {\"text\": \"\\u0412\\u043e\\u0440\\u043e\\u043d\\u043a\\u0430 \\u0441\\u043e\\u0431\\u044b\\u0442\\u0438\\u0439 \\u0434\\u043b\\u044f \\u0440\\u0435\\u0433\\u0438\\u043e\\u043d\\u0430 EU\", \"x\": 0.5}},\n",
              "                        {\"responsive\": true}\n",
              "                    ).then(function(){\n",
              "                            \n",
              "var gd = document.getElementById('ce1fa47f-ebbc-4ef6-81f9-1487c626bafd');\n",
              "var x = new MutationObserver(function (mutations, observer) {{\n",
              "        var display = window.getComputedStyle(gd).display;\n",
              "        if (!display || display === 'none') {{\n",
              "            console.log([gd, 'removed!']);\n",
              "            Plotly.purge(gd);\n",
              "            observer.disconnect();\n",
              "        }}\n",
              "}});\n",
              "\n",
              "// Listen for the removal of the full notebook cells\n",
              "var notebookContainer = gd.closest('#notebook-container');\n",
              "if (notebookContainer) {{\n",
              "    x.observe(notebookContainer, {childList: true});\n",
              "}}\n",
              "\n",
              "// Listen for the clearing of the current output cell\n",
              "var outputEl = gd.closest('.output');\n",
              "if (outputEl) {{\n",
              "    x.observe(outputEl, {childList: true});\n",
              "}}\n",
              "\n",
              "                        })\n",
              "                };\n",
              "                });\n",
              "            </script>\n",
              "        </div>"
            ]
          },
          "metadata": {},
          "output_type": "display_data"
        }
      ]
    },
    {
      "cell_type": "markdown",
      "metadata": {
        "id": "n01z0rWaymM-"
      },
      "source": [
        "Поэтапное описание воронки:\n",
        "\n",
        "1. Ввели логин 100% пользователей, 3481 чел.\n",
        "\n",
        "2. 63% пользователей посетили страницу с продуктом, 2178 чел.\n",
        "\n",
        "3. Добавили товар в козину 29% пользователей, 1026 чел.\n",
        "\n",
        "4.  Совершили покупку 31% пользователей, 1082 чел., и это количество на 56 человек больше добавивших продукт в корзину. \n",
        "\n",
        "2% пользователей пропустили этап корзины."
      ]
    },
    {
      "cell_type": "markdown",
      "metadata": {
        "id": "47jpjIUf5Bn_"
      },
      "source": [
        "**Построим воронку с учетом последовательности событий**\n",
        "\n",
        "В соответствии с ТЗ ожидаемый эффект: за 14 дней с момента регистрации пользователи покажут улучшение каждой метрики не менее, чем на 10%"
      ]
    },
    {
      "cell_type": "code",
      "metadata": {
        "id": "YRWMMeVh5HA0"
      },
      "source": [
        "recommender_system_test = data[data['ab_test'] == 'recommender_system_test']\n",
        "days_14 = recommender_system_test[recommender_system_test['event_dt'] < '2020-12-21']"
      ],
      "execution_count": null,
      "outputs": []
    },
    {
      "cell_type": "code",
      "metadata": {
        "id": "Ex5dEmMq5HDO"
      },
      "source": [
        "first_day = recommender_system_test[recommender_system_test['event_dt'] < '2020-12-08 00:00:00']"
      ],
      "execution_count": null,
      "outputs": []
    },
    {
      "cell_type": "code",
      "metadata": {
        "id": "aQI0uHMQ5HFo"
      },
      "source": [
        "last_day = recommender_system_test[(recommender_system_test['event_dt'] > '2020-12-20 00:00:00') &\n",
        "                                   (recommender_system_test['event_dt'] < '2020-12-22 00:00:00')]"
      ],
      "execution_count": null,
      "outputs": []
    },
    {
      "cell_type": "code",
      "metadata": {
        "id": "UcQqG_nc99tL"
      },
      "source": [
        "first_event_funnel = first_day.groupby('event_name')['user_id'].nunique().sort_values(ascending = False).reset_index()\n",
        "first_event_funnel['index'] = [1,2,4,3]\n",
        "first_day_funnel = first_event_funnel.sort_values(by='index')"
      ],
      "execution_count": null,
      "outputs": []
    },
    {
      "cell_type": "code",
      "metadata": {
        "id": "vhR_VfIN98tt",
        "outputId": "0ad8b24d-d06f-446d-9356-848a72326ef6"
      },
      "source": [
        "fig = go.Figure()\n",
        "fig.add_trace(go.Funnel(\n",
        "    name = 'Funnel',\n",
        "    x = first_day_funnel['user_id'],\n",
        "    y = first_day_funnel['event_name'],\n",
        "    \n",
        "    textinfo = 'value + percent initial + percent previous'))\n",
        "\n",
        "fig.update_layout(title = 'Воронка событий первого дня', title_x = 0.5)\n",
        "fig.show()"
      ],
      "execution_count": null,
      "outputs": [
        {
          "data": {
            "application/vnd.plotly.v1+json": {
              "config": {
                "plotlyServerURL": "https://plot.ly"
              },
              "data": [
                {
                  "name": "Funnel",
                  "textinfo": "value+percent initial+percent previous",
                  "type": "funnel",
                  "x": [
                    319,
                    204,
                    81,
                    105
                  ],
                  "y": [
                    "login",
                    "product_page",
                    "product_cart",
                    "purchase"
                  ]
                }
              ],
              "layout": {
                "template": {
                  "data": {
                    "bar": [
                      {
                        "error_x": {
                          "color": "#2a3f5f"
                        },
                        "error_y": {
                          "color": "#2a3f5f"
                        },
                        "marker": {
                          "line": {
                            "color": "#E5ECF6",
                            "width": 0.5
                          }
                        },
                        "type": "bar"
                      }
                    ],
                    "barpolar": [
                      {
                        "marker": {
                          "line": {
                            "color": "#E5ECF6",
                            "width": 0.5
                          }
                        },
                        "type": "barpolar"
                      }
                    ],
                    "carpet": [
                      {
                        "aaxis": {
                          "endlinecolor": "#2a3f5f",
                          "gridcolor": "white",
                          "linecolor": "white",
                          "minorgridcolor": "white",
                          "startlinecolor": "#2a3f5f"
                        },
                        "baxis": {
                          "endlinecolor": "#2a3f5f",
                          "gridcolor": "white",
                          "linecolor": "white",
                          "minorgridcolor": "white",
                          "startlinecolor": "#2a3f5f"
                        },
                        "type": "carpet"
                      }
                    ],
                    "choropleth": [
                      {
                        "colorbar": {
                          "outlinewidth": 0,
                          "ticks": ""
                        },
                        "type": "choropleth"
                      }
                    ],
                    "contour": [
                      {
                        "colorbar": {
                          "outlinewidth": 0,
                          "ticks": ""
                        },
                        "colorscale": [
                          [
                            0,
                            "#0d0887"
                          ],
                          [
                            0.1111111111,
                            "#46039f"
                          ],
                          [
                            0.2222222222,
                            "#7201a8"
                          ],
                          [
                            0.3333333333,
                            "#9c179e"
                          ],
                          [
                            0.4444444444,
                            "#bd3786"
                          ],
                          [
                            0.5555555556,
                            "#d8576b"
                          ],
                          [
                            0.6666666667,
                            "#ed7953"
                          ],
                          [
                            0.7777777778,
                            "#fb9f3a"
                          ],
                          [
                            0.8888888889,
                            "#fdca26"
                          ],
                          [
                            1,
                            "#f0f921"
                          ]
                        ],
                        "type": "contour"
                      }
                    ],
                    "contourcarpet": [
                      {
                        "colorbar": {
                          "outlinewidth": 0,
                          "ticks": ""
                        },
                        "type": "contourcarpet"
                      }
                    ],
                    "heatmap": [
                      {
                        "colorbar": {
                          "outlinewidth": 0,
                          "ticks": ""
                        },
                        "colorscale": [
                          [
                            0,
                            "#0d0887"
                          ],
                          [
                            0.1111111111,
                            "#46039f"
                          ],
                          [
                            0.2222222222,
                            "#7201a8"
                          ],
                          [
                            0.3333333333,
                            "#9c179e"
                          ],
                          [
                            0.4444444444,
                            "#bd3786"
                          ],
                          [
                            0.5555555556,
                            "#d8576b"
                          ],
                          [
                            0.6666666667,
                            "#ed7953"
                          ],
                          [
                            0.7777777778,
                            "#fb9f3a"
                          ],
                          [
                            0.8888888889,
                            "#fdca26"
                          ],
                          [
                            1,
                            "#f0f921"
                          ]
                        ],
                        "type": "heatmap"
                      }
                    ],
                    "heatmapgl": [
                      {
                        "colorbar": {
                          "outlinewidth": 0,
                          "ticks": ""
                        },
                        "colorscale": [
                          [
                            0,
                            "#0d0887"
                          ],
                          [
                            0.1111111111,
                            "#46039f"
                          ],
                          [
                            0.2222222222,
                            "#7201a8"
                          ],
                          [
                            0.3333333333,
                            "#9c179e"
                          ],
                          [
                            0.4444444444,
                            "#bd3786"
                          ],
                          [
                            0.5555555556,
                            "#d8576b"
                          ],
                          [
                            0.6666666667,
                            "#ed7953"
                          ],
                          [
                            0.7777777778,
                            "#fb9f3a"
                          ],
                          [
                            0.8888888889,
                            "#fdca26"
                          ],
                          [
                            1,
                            "#f0f921"
                          ]
                        ],
                        "type": "heatmapgl"
                      }
                    ],
                    "histogram": [
                      {
                        "marker": {
                          "colorbar": {
                            "outlinewidth": 0,
                            "ticks": ""
                          }
                        },
                        "type": "histogram"
                      }
                    ],
                    "histogram2d": [
                      {
                        "colorbar": {
                          "outlinewidth": 0,
                          "ticks": ""
                        },
                        "colorscale": [
                          [
                            0,
                            "#0d0887"
                          ],
                          [
                            0.1111111111,
                            "#46039f"
                          ],
                          [
                            0.2222222222,
                            "#7201a8"
                          ],
                          [
                            0.3333333333,
                            "#9c179e"
                          ],
                          [
                            0.4444444444,
                            "#bd3786"
                          ],
                          [
                            0.5555555556,
                            "#d8576b"
                          ],
                          [
                            0.6666666667,
                            "#ed7953"
                          ],
                          [
                            0.7777777778,
                            "#fb9f3a"
                          ],
                          [
                            0.8888888889,
                            "#fdca26"
                          ],
                          [
                            1,
                            "#f0f921"
                          ]
                        ],
                        "type": "histogram2d"
                      }
                    ],
                    "histogram2dcontour": [
                      {
                        "colorbar": {
                          "outlinewidth": 0,
                          "ticks": ""
                        },
                        "colorscale": [
                          [
                            0,
                            "#0d0887"
                          ],
                          [
                            0.1111111111,
                            "#46039f"
                          ],
                          [
                            0.2222222222,
                            "#7201a8"
                          ],
                          [
                            0.3333333333,
                            "#9c179e"
                          ],
                          [
                            0.4444444444,
                            "#bd3786"
                          ],
                          [
                            0.5555555556,
                            "#d8576b"
                          ],
                          [
                            0.6666666667,
                            "#ed7953"
                          ],
                          [
                            0.7777777778,
                            "#fb9f3a"
                          ],
                          [
                            0.8888888889,
                            "#fdca26"
                          ],
                          [
                            1,
                            "#f0f921"
                          ]
                        ],
                        "type": "histogram2dcontour"
                      }
                    ],
                    "mesh3d": [
                      {
                        "colorbar": {
                          "outlinewidth": 0,
                          "ticks": ""
                        },
                        "type": "mesh3d"
                      }
                    ],
                    "parcoords": [
                      {
                        "line": {
                          "colorbar": {
                            "outlinewidth": 0,
                            "ticks": ""
                          }
                        },
                        "type": "parcoords"
                      }
                    ],
                    "scatter": [
                      {
                        "marker": {
                          "colorbar": {
                            "outlinewidth": 0,
                            "ticks": ""
                          }
                        },
                        "type": "scatter"
                      }
                    ],
                    "scatter3d": [
                      {
                        "line": {
                          "colorbar": {
                            "outlinewidth": 0,
                            "ticks": ""
                          }
                        },
                        "marker": {
                          "colorbar": {
                            "outlinewidth": 0,
                            "ticks": ""
                          }
                        },
                        "type": "scatter3d"
                      }
                    ],
                    "scattercarpet": [
                      {
                        "marker": {
                          "colorbar": {
                            "outlinewidth": 0,
                            "ticks": ""
                          }
                        },
                        "type": "scattercarpet"
                      }
                    ],
                    "scattergeo": [
                      {
                        "marker": {
                          "colorbar": {
                            "outlinewidth": 0,
                            "ticks": ""
                          }
                        },
                        "type": "scattergeo"
                      }
                    ],
                    "scattergl": [
                      {
                        "marker": {
                          "colorbar": {
                            "outlinewidth": 0,
                            "ticks": ""
                          }
                        },
                        "type": "scattergl"
                      }
                    ],
                    "scattermapbox": [
                      {
                        "marker": {
                          "colorbar": {
                            "outlinewidth": 0,
                            "ticks": ""
                          }
                        },
                        "type": "scattermapbox"
                      }
                    ],
                    "scatterpolar": [
                      {
                        "marker": {
                          "colorbar": {
                            "outlinewidth": 0,
                            "ticks": ""
                          }
                        },
                        "type": "scatterpolar"
                      }
                    ],
                    "scatterpolargl": [
                      {
                        "marker": {
                          "colorbar": {
                            "outlinewidth": 0,
                            "ticks": ""
                          }
                        },
                        "type": "scatterpolargl"
                      }
                    ],
                    "scatterternary": [
                      {
                        "marker": {
                          "colorbar": {
                            "outlinewidth": 0,
                            "ticks": ""
                          }
                        },
                        "type": "scatterternary"
                      }
                    ],
                    "surface": [
                      {
                        "colorbar": {
                          "outlinewidth": 0,
                          "ticks": ""
                        },
                        "colorscale": [
                          [
                            0,
                            "#0d0887"
                          ],
                          [
                            0.1111111111,
                            "#46039f"
                          ],
                          [
                            0.2222222222,
                            "#7201a8"
                          ],
                          [
                            0.3333333333,
                            "#9c179e"
                          ],
                          [
                            0.4444444444,
                            "#bd3786"
                          ],
                          [
                            0.5555555556,
                            "#d8576b"
                          ],
                          [
                            0.6666666667,
                            "#ed7953"
                          ],
                          [
                            0.7777777778,
                            "#fb9f3a"
                          ],
                          [
                            0.8888888889,
                            "#fdca26"
                          ],
                          [
                            1,
                            "#f0f921"
                          ]
                        ],
                        "type": "surface"
                      }
                    ],
                    "table": [
                      {
                        "cells": {
                          "fill": {
                            "color": "#EBF0F8"
                          },
                          "line": {
                            "color": "white"
                          }
                        },
                        "header": {
                          "fill": {
                            "color": "#C8D4E3"
                          },
                          "line": {
                            "color": "white"
                          }
                        },
                        "type": "table"
                      }
                    ]
                  },
                  "layout": {
                    "annotationdefaults": {
                      "arrowcolor": "#2a3f5f",
                      "arrowhead": 0,
                      "arrowwidth": 1
                    },
                    "colorscale": {
                      "diverging": [
                        [
                          0,
                          "#8e0152"
                        ],
                        [
                          0.1,
                          "#c51b7d"
                        ],
                        [
                          0.2,
                          "#de77ae"
                        ],
                        [
                          0.3,
                          "#f1b6da"
                        ],
                        [
                          0.4,
                          "#fde0ef"
                        ],
                        [
                          0.5,
                          "#f7f7f7"
                        ],
                        [
                          0.6,
                          "#e6f5d0"
                        ],
                        [
                          0.7,
                          "#b8e186"
                        ],
                        [
                          0.8,
                          "#7fbc41"
                        ],
                        [
                          0.9,
                          "#4d9221"
                        ],
                        [
                          1,
                          "#276419"
                        ]
                      ],
                      "sequential": [
                        [
                          0,
                          "#0d0887"
                        ],
                        [
                          0.1111111111,
                          "#46039f"
                        ],
                        [
                          0.2222222222,
                          "#7201a8"
                        ],
                        [
                          0.3333333333,
                          "#9c179e"
                        ],
                        [
                          0.4444444444,
                          "#bd3786"
                        ],
                        [
                          0.5555555556,
                          "#d8576b"
                        ],
                        [
                          0.6666666667,
                          "#ed7953"
                        ],
                        [
                          0.7777777778,
                          "#fb9f3a"
                        ],
                        [
                          0.8888888889,
                          "#fdca26"
                        ],
                        [
                          1,
                          "#f0f921"
                        ]
                      ],
                      "sequentialminus": [
                        [
                          0,
                          "#0d0887"
                        ],
                        [
                          0.1111111111,
                          "#46039f"
                        ],
                        [
                          0.2222222222,
                          "#7201a8"
                        ],
                        [
                          0.3333333333,
                          "#9c179e"
                        ],
                        [
                          0.4444444444,
                          "#bd3786"
                        ],
                        [
                          0.5555555556,
                          "#d8576b"
                        ],
                        [
                          0.6666666667,
                          "#ed7953"
                        ],
                        [
                          0.7777777778,
                          "#fb9f3a"
                        ],
                        [
                          0.8888888889,
                          "#fdca26"
                        ],
                        [
                          1,
                          "#f0f921"
                        ]
                      ]
                    },
                    "colorway": [
                      "#636efa",
                      "#EF553B",
                      "#00cc96",
                      "#ab63fa",
                      "#FFA15A",
                      "#19d3f3",
                      "#FF6692",
                      "#B6E880",
                      "#FF97FF",
                      "#FECB52"
                    ],
                    "font": {
                      "color": "#2a3f5f"
                    },
                    "geo": {
                      "bgcolor": "white",
                      "lakecolor": "white",
                      "landcolor": "#E5ECF6",
                      "showlakes": true,
                      "showland": true,
                      "subunitcolor": "white"
                    },
                    "hoverlabel": {
                      "align": "left"
                    },
                    "hovermode": "closest",
                    "mapbox": {
                      "style": "light"
                    },
                    "paper_bgcolor": "white",
                    "plot_bgcolor": "#E5ECF6",
                    "polar": {
                      "angularaxis": {
                        "gridcolor": "white",
                        "linecolor": "white",
                        "ticks": ""
                      },
                      "bgcolor": "#E5ECF6",
                      "radialaxis": {
                        "gridcolor": "white",
                        "linecolor": "white",
                        "ticks": ""
                      }
                    },
                    "scene": {
                      "xaxis": {
                        "backgroundcolor": "#E5ECF6",
                        "gridcolor": "white",
                        "gridwidth": 2,
                        "linecolor": "white",
                        "showbackground": true,
                        "ticks": "",
                        "zerolinecolor": "white"
                      },
                      "yaxis": {
                        "backgroundcolor": "#E5ECF6",
                        "gridcolor": "white",
                        "gridwidth": 2,
                        "linecolor": "white",
                        "showbackground": true,
                        "ticks": "",
                        "zerolinecolor": "white"
                      },
                      "zaxis": {
                        "backgroundcolor": "#E5ECF6",
                        "gridcolor": "white",
                        "gridwidth": 2,
                        "linecolor": "white",
                        "showbackground": true,
                        "ticks": "",
                        "zerolinecolor": "white"
                      }
                    },
                    "shapedefaults": {
                      "line": {
                        "color": "#2a3f5f"
                      }
                    },
                    "ternary": {
                      "aaxis": {
                        "gridcolor": "white",
                        "linecolor": "white",
                        "ticks": ""
                      },
                      "baxis": {
                        "gridcolor": "white",
                        "linecolor": "white",
                        "ticks": ""
                      },
                      "bgcolor": "#E5ECF6",
                      "caxis": {
                        "gridcolor": "white",
                        "linecolor": "white",
                        "ticks": ""
                      }
                    },
                    "title": {
                      "x": 0.05
                    },
                    "xaxis": {
                      "automargin": true,
                      "gridcolor": "white",
                      "linecolor": "white",
                      "ticks": "",
                      "zerolinecolor": "white",
                      "zerolinewidth": 2
                    },
                    "yaxis": {
                      "automargin": true,
                      "gridcolor": "white",
                      "linecolor": "white",
                      "ticks": "",
                      "zerolinecolor": "white",
                      "zerolinewidth": 2
                    }
                  }
                },
                "title": {
                  "text": "Воронка событий первого дня",
                  "x": 0.5
                }
              }
            },
            "text/html": [
              "<div>\n",
              "        \n",
              "        \n",
              "            <div id=\"5e33d5a3-b4a7-4aef-85ec-32d94764ea42\" class=\"plotly-graph-div\" style=\"height:525px; width:100%;\"></div>\n",
              "            <script type=\"text/javascript\">\n",
              "                require([\"plotly\"], function(Plotly) {\n",
              "                    window.PLOTLYENV=window.PLOTLYENV || {};\n",
              "                    \n",
              "                if (document.getElementById(\"5e33d5a3-b4a7-4aef-85ec-32d94764ea42\")) {\n",
              "                    Plotly.newPlot(\n",
              "                        '5e33d5a3-b4a7-4aef-85ec-32d94764ea42',\n",
              "                        [{\"name\": \"Funnel\", \"textinfo\": \"value+percent initial+percent previous\", \"type\": \"funnel\", \"x\": [319, 204, 81, 105], \"y\": [\"login\", \"product_page\", \"product_cart\", \"purchase\"]}],\n",
              "                        {\"template\": {\"data\": {\"bar\": [{\"error_x\": {\"color\": \"#2a3f5f\"}, \"error_y\": {\"color\": \"#2a3f5f\"}, \"marker\": {\"line\": {\"color\": \"#E5ECF6\", \"width\": 0.5}}, \"type\": \"bar\"}], \"barpolar\": [{\"marker\": {\"line\": {\"color\": \"#E5ECF6\", \"width\": 0.5}}, \"type\": \"barpolar\"}], \"carpet\": [{\"aaxis\": {\"endlinecolor\": \"#2a3f5f\", \"gridcolor\": \"white\", \"linecolor\": \"white\", \"minorgridcolor\": \"white\", \"startlinecolor\": \"#2a3f5f\"}, \"baxis\": {\"endlinecolor\": \"#2a3f5f\", \"gridcolor\": \"white\", \"linecolor\": \"white\", \"minorgridcolor\": \"white\", \"startlinecolor\": \"#2a3f5f\"}, \"type\": \"carpet\"}], \"choropleth\": [{\"colorbar\": {\"outlinewidth\": 0, \"ticks\": \"\"}, \"type\": \"choropleth\"}], \"contour\": [{\"colorbar\": {\"outlinewidth\": 0, \"ticks\": \"\"}, \"colorscale\": [[0.0, \"#0d0887\"], [0.1111111111111111, \"#46039f\"], [0.2222222222222222, \"#7201a8\"], [0.3333333333333333, \"#9c179e\"], [0.4444444444444444, \"#bd3786\"], [0.5555555555555556, \"#d8576b\"], [0.6666666666666666, \"#ed7953\"], [0.7777777777777778, \"#fb9f3a\"], [0.8888888888888888, \"#fdca26\"], [1.0, \"#f0f921\"]], \"type\": \"contour\"}], \"contourcarpet\": [{\"colorbar\": {\"outlinewidth\": 0, \"ticks\": \"\"}, \"type\": \"contourcarpet\"}], \"heatmap\": [{\"colorbar\": {\"outlinewidth\": 0, \"ticks\": \"\"}, \"colorscale\": [[0.0, \"#0d0887\"], [0.1111111111111111, \"#46039f\"], [0.2222222222222222, \"#7201a8\"], [0.3333333333333333, \"#9c179e\"], [0.4444444444444444, \"#bd3786\"], [0.5555555555555556, \"#d8576b\"], [0.6666666666666666, \"#ed7953\"], [0.7777777777777778, \"#fb9f3a\"], [0.8888888888888888, \"#fdca26\"], [1.0, \"#f0f921\"]], \"type\": \"heatmap\"}], \"heatmapgl\": [{\"colorbar\": {\"outlinewidth\": 0, \"ticks\": \"\"}, \"colorscale\": [[0.0, \"#0d0887\"], [0.1111111111111111, \"#46039f\"], [0.2222222222222222, \"#7201a8\"], [0.3333333333333333, \"#9c179e\"], [0.4444444444444444, \"#bd3786\"], [0.5555555555555556, \"#d8576b\"], [0.6666666666666666, \"#ed7953\"], [0.7777777777777778, \"#fb9f3a\"], [0.8888888888888888, \"#fdca26\"], [1.0, \"#f0f921\"]], \"type\": \"heatmapgl\"}], \"histogram\": [{\"marker\": {\"colorbar\": {\"outlinewidth\": 0, \"ticks\": \"\"}}, \"type\": \"histogram\"}], \"histogram2d\": [{\"colorbar\": {\"outlinewidth\": 0, \"ticks\": \"\"}, \"colorscale\": [[0.0, \"#0d0887\"], [0.1111111111111111, \"#46039f\"], [0.2222222222222222, \"#7201a8\"], [0.3333333333333333, \"#9c179e\"], [0.4444444444444444, \"#bd3786\"], [0.5555555555555556, \"#d8576b\"], [0.6666666666666666, \"#ed7953\"], [0.7777777777777778, \"#fb9f3a\"], [0.8888888888888888, \"#fdca26\"], [1.0, \"#f0f921\"]], \"type\": \"histogram2d\"}], \"histogram2dcontour\": [{\"colorbar\": {\"outlinewidth\": 0, \"ticks\": \"\"}, \"colorscale\": [[0.0, \"#0d0887\"], [0.1111111111111111, \"#46039f\"], [0.2222222222222222, \"#7201a8\"], [0.3333333333333333, \"#9c179e\"], [0.4444444444444444, \"#bd3786\"], [0.5555555555555556, \"#d8576b\"], [0.6666666666666666, \"#ed7953\"], [0.7777777777777778, \"#fb9f3a\"], [0.8888888888888888, \"#fdca26\"], [1.0, \"#f0f921\"]], \"type\": \"histogram2dcontour\"}], \"mesh3d\": [{\"colorbar\": {\"outlinewidth\": 0, \"ticks\": \"\"}, \"type\": \"mesh3d\"}], \"parcoords\": [{\"line\": {\"colorbar\": {\"outlinewidth\": 0, \"ticks\": \"\"}}, \"type\": \"parcoords\"}], \"scatter\": [{\"marker\": {\"colorbar\": {\"outlinewidth\": 0, \"ticks\": \"\"}}, \"type\": \"scatter\"}], \"scatter3d\": [{\"line\": {\"colorbar\": {\"outlinewidth\": 0, \"ticks\": \"\"}}, \"marker\": {\"colorbar\": {\"outlinewidth\": 0, \"ticks\": \"\"}}, \"type\": \"scatter3d\"}], \"scattercarpet\": [{\"marker\": {\"colorbar\": {\"outlinewidth\": 0, \"ticks\": \"\"}}, \"type\": \"scattercarpet\"}], \"scattergeo\": [{\"marker\": {\"colorbar\": {\"outlinewidth\": 0, \"ticks\": \"\"}}, \"type\": \"scattergeo\"}], \"scattergl\": [{\"marker\": {\"colorbar\": {\"outlinewidth\": 0, \"ticks\": \"\"}}, \"type\": \"scattergl\"}], \"scattermapbox\": [{\"marker\": {\"colorbar\": {\"outlinewidth\": 0, \"ticks\": \"\"}}, \"type\": \"scattermapbox\"}], \"scatterpolar\": [{\"marker\": {\"colorbar\": {\"outlinewidth\": 0, \"ticks\": \"\"}}, \"type\": \"scatterpolar\"}], \"scatterpolargl\": [{\"marker\": {\"colorbar\": {\"outlinewidth\": 0, \"ticks\": \"\"}}, \"type\": \"scatterpolargl\"}], \"scatterternary\": [{\"marker\": {\"colorbar\": {\"outlinewidth\": 0, \"ticks\": \"\"}}, \"type\": \"scatterternary\"}], \"surface\": [{\"colorbar\": {\"outlinewidth\": 0, \"ticks\": \"\"}, \"colorscale\": [[0.0, \"#0d0887\"], [0.1111111111111111, \"#46039f\"], [0.2222222222222222, \"#7201a8\"], [0.3333333333333333, \"#9c179e\"], [0.4444444444444444, \"#bd3786\"], [0.5555555555555556, \"#d8576b\"], [0.6666666666666666, \"#ed7953\"], [0.7777777777777778, \"#fb9f3a\"], [0.8888888888888888, \"#fdca26\"], [1.0, \"#f0f921\"]], \"type\": \"surface\"}], \"table\": [{\"cells\": {\"fill\": {\"color\": \"#EBF0F8\"}, \"line\": {\"color\": \"white\"}}, \"header\": {\"fill\": {\"color\": \"#C8D4E3\"}, \"line\": {\"color\": \"white\"}}, \"type\": \"table\"}]}, \"layout\": {\"annotationdefaults\": {\"arrowcolor\": \"#2a3f5f\", \"arrowhead\": 0, \"arrowwidth\": 1}, \"colorscale\": {\"diverging\": [[0, \"#8e0152\"], [0.1, \"#c51b7d\"], [0.2, \"#de77ae\"], [0.3, \"#f1b6da\"], [0.4, \"#fde0ef\"], [0.5, \"#f7f7f7\"], [0.6, \"#e6f5d0\"], [0.7, \"#b8e186\"], [0.8, \"#7fbc41\"], [0.9, \"#4d9221\"], [1, \"#276419\"]], \"sequential\": [[0.0, \"#0d0887\"], [0.1111111111111111, \"#46039f\"], [0.2222222222222222, \"#7201a8\"], [0.3333333333333333, \"#9c179e\"], [0.4444444444444444, \"#bd3786\"], [0.5555555555555556, \"#d8576b\"], [0.6666666666666666, \"#ed7953\"], [0.7777777777777778, \"#fb9f3a\"], [0.8888888888888888, \"#fdca26\"], [1.0, \"#f0f921\"]], \"sequentialminus\": [[0.0, \"#0d0887\"], [0.1111111111111111, \"#46039f\"], [0.2222222222222222, \"#7201a8\"], [0.3333333333333333, \"#9c179e\"], [0.4444444444444444, \"#bd3786\"], [0.5555555555555556, \"#d8576b\"], [0.6666666666666666, \"#ed7953\"], [0.7777777777777778, \"#fb9f3a\"], [0.8888888888888888, \"#fdca26\"], [1.0, \"#f0f921\"]]}, \"colorway\": [\"#636efa\", \"#EF553B\", \"#00cc96\", \"#ab63fa\", \"#FFA15A\", \"#19d3f3\", \"#FF6692\", \"#B6E880\", \"#FF97FF\", \"#FECB52\"], \"font\": {\"color\": \"#2a3f5f\"}, \"geo\": {\"bgcolor\": \"white\", \"lakecolor\": \"white\", \"landcolor\": \"#E5ECF6\", \"showlakes\": true, \"showland\": true, \"subunitcolor\": \"white\"}, \"hoverlabel\": {\"align\": \"left\"}, \"hovermode\": \"closest\", \"mapbox\": {\"style\": \"light\"}, \"paper_bgcolor\": \"white\", \"plot_bgcolor\": \"#E5ECF6\", \"polar\": {\"angularaxis\": {\"gridcolor\": \"white\", \"linecolor\": \"white\", \"ticks\": \"\"}, \"bgcolor\": \"#E5ECF6\", \"radialaxis\": {\"gridcolor\": \"white\", \"linecolor\": \"white\", \"ticks\": \"\"}}, \"scene\": {\"xaxis\": {\"backgroundcolor\": \"#E5ECF6\", \"gridcolor\": \"white\", \"gridwidth\": 2, \"linecolor\": \"white\", \"showbackground\": true, \"ticks\": \"\", \"zerolinecolor\": \"white\"}, \"yaxis\": {\"backgroundcolor\": \"#E5ECF6\", \"gridcolor\": \"white\", \"gridwidth\": 2, \"linecolor\": \"white\", \"showbackground\": true, \"ticks\": \"\", \"zerolinecolor\": \"white\"}, \"zaxis\": {\"backgroundcolor\": \"#E5ECF6\", \"gridcolor\": \"white\", \"gridwidth\": 2, \"linecolor\": \"white\", \"showbackground\": true, \"ticks\": \"\", \"zerolinecolor\": \"white\"}}, \"shapedefaults\": {\"line\": {\"color\": \"#2a3f5f\"}}, \"ternary\": {\"aaxis\": {\"gridcolor\": \"white\", \"linecolor\": \"white\", \"ticks\": \"\"}, \"baxis\": {\"gridcolor\": \"white\", \"linecolor\": \"white\", \"ticks\": \"\"}, \"bgcolor\": \"#E5ECF6\", \"caxis\": {\"gridcolor\": \"white\", \"linecolor\": \"white\", \"ticks\": \"\"}}, \"title\": {\"x\": 0.05}, \"xaxis\": {\"automargin\": true, \"gridcolor\": \"white\", \"linecolor\": \"white\", \"ticks\": \"\", \"zerolinecolor\": \"white\", \"zerolinewidth\": 2}, \"yaxis\": {\"automargin\": true, \"gridcolor\": \"white\", \"linecolor\": \"white\", \"ticks\": \"\", \"zerolinecolor\": \"white\", \"zerolinewidth\": 2}}}, \"title\": {\"text\": \"\\u0412\\u043e\\u0440\\u043e\\u043d\\u043a\\u0430 \\u0441\\u043e\\u0431\\u044b\\u0442\\u0438\\u0439 \\u043f\\u0435\\u0440\\u0432\\u043e\\u0433\\u043e \\u0434\\u043d\\u044f\", \"x\": 0.5}},\n",
              "                        {\"responsive\": true}\n",
              "                    ).then(function(){\n",
              "                            \n",
              "var gd = document.getElementById('5e33d5a3-b4a7-4aef-85ec-32d94764ea42');\n",
              "var x = new MutationObserver(function (mutations, observer) {{\n",
              "        var display = window.getComputedStyle(gd).display;\n",
              "        if (!display || display === 'none') {{\n",
              "            console.log([gd, 'removed!']);\n",
              "            Plotly.purge(gd);\n",
              "            observer.disconnect();\n",
              "        }}\n",
              "}});\n",
              "\n",
              "// Listen for the removal of the full notebook cells\n",
              "var notebookContainer = gd.closest('#notebook-container');\n",
              "if (notebookContainer) {{\n",
              "    x.observe(notebookContainer, {childList: true});\n",
              "}}\n",
              "\n",
              "// Listen for the clearing of the current output cell\n",
              "var outputEl = gd.closest('.output');\n",
              "if (outputEl) {{\n",
              "    x.observe(outputEl, {childList: true});\n",
              "}}\n",
              "\n",
              "                        })\n",
              "                };\n",
              "                });\n",
              "            </script>\n",
              "        </div>"
            ]
          },
          "metadata": {},
          "output_type": "display_data"
        }
      ]
    },
    {
      "cell_type": "markdown",
      "metadata": {
        "id": "9pyytSAI-23j"
      },
      "source": [
        "Конверсия в product_page равна 64% от login.\n",
        "\n",
        "Конверсия в product_cart равна 25% от login.\n",
        "\n",
        "Конверсия в purchase равна 33% от login.\n",
        "\n",
        "\n",
        "Корзину учитывать не будем, нам важно понимать конверсию от регистрации до покупки, это 33% в первый день.\n"
      ]
    },
    {
      "cell_type": "code",
      "metadata": {
        "id": "zUTEdDz0993G"
      },
      "source": [
        "last_event_funnel = last_day.groupby('event_name')['user_id'].nunique().sort_values(ascending = False).reset_index()\n",
        "last_event_funnel['index'] = [1,2,4,3]\n",
        "last_day_funnel = last_event_funnel.sort_values(by='index')"
      ],
      "execution_count": null,
      "outputs": []
    },
    {
      "cell_type": "code",
      "metadata": {
        "id": "GJ4e3Rww98tu",
        "outputId": "5c935ec1-4199-47d6-9e99-ba698f9fe5ac"
      },
      "source": [
        "fig = go.Figure()\n",
        "fig.add_trace(go.Funnel(\n",
        "    name = 'Funnel',\n",
        "    x = last_day_funnel['user_id'],\n",
        "    y = last_day_funnel['event_name'],\n",
        "    \n",
        "    textinfo = 'value + percent initial + percent previous'))\n",
        "\n",
        "fig.update_layout(title = 'Воронка событий 14-го дня', title_x = 0.5)\n",
        "fig.show()"
      ],
      "execution_count": null,
      "outputs": [
        {
          "data": {
            "application/vnd.plotly.v1+json": {
              "config": {
                "plotlyServerURL": "https://plot.ly"
              },
              "data": [
                {
                  "name": "Funnel",
                  "textinfo": "value+percent initial+percent previous",
                  "type": "funnel",
                  "x": [
                    1653,
                    1032,
                    470,
                    520
                  ],
                  "y": [
                    "login",
                    "product_page",
                    "product_cart",
                    "purchase"
                  ]
                }
              ],
              "layout": {
                "template": {
                  "data": {
                    "bar": [
                      {
                        "error_x": {
                          "color": "#2a3f5f"
                        },
                        "error_y": {
                          "color": "#2a3f5f"
                        },
                        "marker": {
                          "line": {
                            "color": "#E5ECF6",
                            "width": 0.5
                          }
                        },
                        "type": "bar"
                      }
                    ],
                    "barpolar": [
                      {
                        "marker": {
                          "line": {
                            "color": "#E5ECF6",
                            "width": 0.5
                          }
                        },
                        "type": "barpolar"
                      }
                    ],
                    "carpet": [
                      {
                        "aaxis": {
                          "endlinecolor": "#2a3f5f",
                          "gridcolor": "white",
                          "linecolor": "white",
                          "minorgridcolor": "white",
                          "startlinecolor": "#2a3f5f"
                        },
                        "baxis": {
                          "endlinecolor": "#2a3f5f",
                          "gridcolor": "white",
                          "linecolor": "white",
                          "minorgridcolor": "white",
                          "startlinecolor": "#2a3f5f"
                        },
                        "type": "carpet"
                      }
                    ],
                    "choropleth": [
                      {
                        "colorbar": {
                          "outlinewidth": 0,
                          "ticks": ""
                        },
                        "type": "choropleth"
                      }
                    ],
                    "contour": [
                      {
                        "colorbar": {
                          "outlinewidth": 0,
                          "ticks": ""
                        },
                        "colorscale": [
                          [
                            0,
                            "#0d0887"
                          ],
                          [
                            0.1111111111,
                            "#46039f"
                          ],
                          [
                            0.2222222222,
                            "#7201a8"
                          ],
                          [
                            0.3333333333,
                            "#9c179e"
                          ],
                          [
                            0.4444444444,
                            "#bd3786"
                          ],
                          [
                            0.5555555556,
                            "#d8576b"
                          ],
                          [
                            0.6666666667,
                            "#ed7953"
                          ],
                          [
                            0.7777777778,
                            "#fb9f3a"
                          ],
                          [
                            0.8888888889,
                            "#fdca26"
                          ],
                          [
                            1,
                            "#f0f921"
                          ]
                        ],
                        "type": "contour"
                      }
                    ],
                    "contourcarpet": [
                      {
                        "colorbar": {
                          "outlinewidth": 0,
                          "ticks": ""
                        },
                        "type": "contourcarpet"
                      }
                    ],
                    "heatmap": [
                      {
                        "colorbar": {
                          "outlinewidth": 0,
                          "ticks": ""
                        },
                        "colorscale": [
                          [
                            0,
                            "#0d0887"
                          ],
                          [
                            0.1111111111,
                            "#46039f"
                          ],
                          [
                            0.2222222222,
                            "#7201a8"
                          ],
                          [
                            0.3333333333,
                            "#9c179e"
                          ],
                          [
                            0.4444444444,
                            "#bd3786"
                          ],
                          [
                            0.5555555556,
                            "#d8576b"
                          ],
                          [
                            0.6666666667,
                            "#ed7953"
                          ],
                          [
                            0.7777777778,
                            "#fb9f3a"
                          ],
                          [
                            0.8888888889,
                            "#fdca26"
                          ],
                          [
                            1,
                            "#f0f921"
                          ]
                        ],
                        "type": "heatmap"
                      }
                    ],
                    "heatmapgl": [
                      {
                        "colorbar": {
                          "outlinewidth": 0,
                          "ticks": ""
                        },
                        "colorscale": [
                          [
                            0,
                            "#0d0887"
                          ],
                          [
                            0.1111111111,
                            "#46039f"
                          ],
                          [
                            0.2222222222,
                            "#7201a8"
                          ],
                          [
                            0.3333333333,
                            "#9c179e"
                          ],
                          [
                            0.4444444444,
                            "#bd3786"
                          ],
                          [
                            0.5555555556,
                            "#d8576b"
                          ],
                          [
                            0.6666666667,
                            "#ed7953"
                          ],
                          [
                            0.7777777778,
                            "#fb9f3a"
                          ],
                          [
                            0.8888888889,
                            "#fdca26"
                          ],
                          [
                            1,
                            "#f0f921"
                          ]
                        ],
                        "type": "heatmapgl"
                      }
                    ],
                    "histogram": [
                      {
                        "marker": {
                          "colorbar": {
                            "outlinewidth": 0,
                            "ticks": ""
                          }
                        },
                        "type": "histogram"
                      }
                    ],
                    "histogram2d": [
                      {
                        "colorbar": {
                          "outlinewidth": 0,
                          "ticks": ""
                        },
                        "colorscale": [
                          [
                            0,
                            "#0d0887"
                          ],
                          [
                            0.1111111111,
                            "#46039f"
                          ],
                          [
                            0.2222222222,
                            "#7201a8"
                          ],
                          [
                            0.3333333333,
                            "#9c179e"
                          ],
                          [
                            0.4444444444,
                            "#bd3786"
                          ],
                          [
                            0.5555555556,
                            "#d8576b"
                          ],
                          [
                            0.6666666667,
                            "#ed7953"
                          ],
                          [
                            0.7777777778,
                            "#fb9f3a"
                          ],
                          [
                            0.8888888889,
                            "#fdca26"
                          ],
                          [
                            1,
                            "#f0f921"
                          ]
                        ],
                        "type": "histogram2d"
                      }
                    ],
                    "histogram2dcontour": [
                      {
                        "colorbar": {
                          "outlinewidth": 0,
                          "ticks": ""
                        },
                        "colorscale": [
                          [
                            0,
                            "#0d0887"
                          ],
                          [
                            0.1111111111,
                            "#46039f"
                          ],
                          [
                            0.2222222222,
                            "#7201a8"
                          ],
                          [
                            0.3333333333,
                            "#9c179e"
                          ],
                          [
                            0.4444444444,
                            "#bd3786"
                          ],
                          [
                            0.5555555556,
                            "#d8576b"
                          ],
                          [
                            0.6666666667,
                            "#ed7953"
                          ],
                          [
                            0.7777777778,
                            "#fb9f3a"
                          ],
                          [
                            0.8888888889,
                            "#fdca26"
                          ],
                          [
                            1,
                            "#f0f921"
                          ]
                        ],
                        "type": "histogram2dcontour"
                      }
                    ],
                    "mesh3d": [
                      {
                        "colorbar": {
                          "outlinewidth": 0,
                          "ticks": ""
                        },
                        "type": "mesh3d"
                      }
                    ],
                    "parcoords": [
                      {
                        "line": {
                          "colorbar": {
                            "outlinewidth": 0,
                            "ticks": ""
                          }
                        },
                        "type": "parcoords"
                      }
                    ],
                    "scatter": [
                      {
                        "marker": {
                          "colorbar": {
                            "outlinewidth": 0,
                            "ticks": ""
                          }
                        },
                        "type": "scatter"
                      }
                    ],
                    "scatter3d": [
                      {
                        "line": {
                          "colorbar": {
                            "outlinewidth": 0,
                            "ticks": ""
                          }
                        },
                        "marker": {
                          "colorbar": {
                            "outlinewidth": 0,
                            "ticks": ""
                          }
                        },
                        "type": "scatter3d"
                      }
                    ],
                    "scattercarpet": [
                      {
                        "marker": {
                          "colorbar": {
                            "outlinewidth": 0,
                            "ticks": ""
                          }
                        },
                        "type": "scattercarpet"
                      }
                    ],
                    "scattergeo": [
                      {
                        "marker": {
                          "colorbar": {
                            "outlinewidth": 0,
                            "ticks": ""
                          }
                        },
                        "type": "scattergeo"
                      }
                    ],
                    "scattergl": [
                      {
                        "marker": {
                          "colorbar": {
                            "outlinewidth": 0,
                            "ticks": ""
                          }
                        },
                        "type": "scattergl"
                      }
                    ],
                    "scattermapbox": [
                      {
                        "marker": {
                          "colorbar": {
                            "outlinewidth": 0,
                            "ticks": ""
                          }
                        },
                        "type": "scattermapbox"
                      }
                    ],
                    "scatterpolar": [
                      {
                        "marker": {
                          "colorbar": {
                            "outlinewidth": 0,
                            "ticks": ""
                          }
                        },
                        "type": "scatterpolar"
                      }
                    ],
                    "scatterpolargl": [
                      {
                        "marker": {
                          "colorbar": {
                            "outlinewidth": 0,
                            "ticks": ""
                          }
                        },
                        "type": "scatterpolargl"
                      }
                    ],
                    "scatterternary": [
                      {
                        "marker": {
                          "colorbar": {
                            "outlinewidth": 0,
                            "ticks": ""
                          }
                        },
                        "type": "scatterternary"
                      }
                    ],
                    "surface": [
                      {
                        "colorbar": {
                          "outlinewidth": 0,
                          "ticks": ""
                        },
                        "colorscale": [
                          [
                            0,
                            "#0d0887"
                          ],
                          [
                            0.1111111111,
                            "#46039f"
                          ],
                          [
                            0.2222222222,
                            "#7201a8"
                          ],
                          [
                            0.3333333333,
                            "#9c179e"
                          ],
                          [
                            0.4444444444,
                            "#bd3786"
                          ],
                          [
                            0.5555555556,
                            "#d8576b"
                          ],
                          [
                            0.6666666667,
                            "#ed7953"
                          ],
                          [
                            0.7777777778,
                            "#fb9f3a"
                          ],
                          [
                            0.8888888889,
                            "#fdca26"
                          ],
                          [
                            1,
                            "#f0f921"
                          ]
                        ],
                        "type": "surface"
                      }
                    ],
                    "table": [
                      {
                        "cells": {
                          "fill": {
                            "color": "#EBF0F8"
                          },
                          "line": {
                            "color": "white"
                          }
                        },
                        "header": {
                          "fill": {
                            "color": "#C8D4E3"
                          },
                          "line": {
                            "color": "white"
                          }
                        },
                        "type": "table"
                      }
                    ]
                  },
                  "layout": {
                    "annotationdefaults": {
                      "arrowcolor": "#2a3f5f",
                      "arrowhead": 0,
                      "arrowwidth": 1
                    },
                    "colorscale": {
                      "diverging": [
                        [
                          0,
                          "#8e0152"
                        ],
                        [
                          0.1,
                          "#c51b7d"
                        ],
                        [
                          0.2,
                          "#de77ae"
                        ],
                        [
                          0.3,
                          "#f1b6da"
                        ],
                        [
                          0.4,
                          "#fde0ef"
                        ],
                        [
                          0.5,
                          "#f7f7f7"
                        ],
                        [
                          0.6,
                          "#e6f5d0"
                        ],
                        [
                          0.7,
                          "#b8e186"
                        ],
                        [
                          0.8,
                          "#7fbc41"
                        ],
                        [
                          0.9,
                          "#4d9221"
                        ],
                        [
                          1,
                          "#276419"
                        ]
                      ],
                      "sequential": [
                        [
                          0,
                          "#0d0887"
                        ],
                        [
                          0.1111111111,
                          "#46039f"
                        ],
                        [
                          0.2222222222,
                          "#7201a8"
                        ],
                        [
                          0.3333333333,
                          "#9c179e"
                        ],
                        [
                          0.4444444444,
                          "#bd3786"
                        ],
                        [
                          0.5555555556,
                          "#d8576b"
                        ],
                        [
                          0.6666666667,
                          "#ed7953"
                        ],
                        [
                          0.7777777778,
                          "#fb9f3a"
                        ],
                        [
                          0.8888888889,
                          "#fdca26"
                        ],
                        [
                          1,
                          "#f0f921"
                        ]
                      ],
                      "sequentialminus": [
                        [
                          0,
                          "#0d0887"
                        ],
                        [
                          0.1111111111,
                          "#46039f"
                        ],
                        [
                          0.2222222222,
                          "#7201a8"
                        ],
                        [
                          0.3333333333,
                          "#9c179e"
                        ],
                        [
                          0.4444444444,
                          "#bd3786"
                        ],
                        [
                          0.5555555556,
                          "#d8576b"
                        ],
                        [
                          0.6666666667,
                          "#ed7953"
                        ],
                        [
                          0.7777777778,
                          "#fb9f3a"
                        ],
                        [
                          0.8888888889,
                          "#fdca26"
                        ],
                        [
                          1,
                          "#f0f921"
                        ]
                      ]
                    },
                    "colorway": [
                      "#636efa",
                      "#EF553B",
                      "#00cc96",
                      "#ab63fa",
                      "#FFA15A",
                      "#19d3f3",
                      "#FF6692",
                      "#B6E880",
                      "#FF97FF",
                      "#FECB52"
                    ],
                    "font": {
                      "color": "#2a3f5f"
                    },
                    "geo": {
                      "bgcolor": "white",
                      "lakecolor": "white",
                      "landcolor": "#E5ECF6",
                      "showlakes": true,
                      "showland": true,
                      "subunitcolor": "white"
                    },
                    "hoverlabel": {
                      "align": "left"
                    },
                    "hovermode": "closest",
                    "mapbox": {
                      "style": "light"
                    },
                    "paper_bgcolor": "white",
                    "plot_bgcolor": "#E5ECF6",
                    "polar": {
                      "angularaxis": {
                        "gridcolor": "white",
                        "linecolor": "white",
                        "ticks": ""
                      },
                      "bgcolor": "#E5ECF6",
                      "radialaxis": {
                        "gridcolor": "white",
                        "linecolor": "white",
                        "ticks": ""
                      }
                    },
                    "scene": {
                      "xaxis": {
                        "backgroundcolor": "#E5ECF6",
                        "gridcolor": "white",
                        "gridwidth": 2,
                        "linecolor": "white",
                        "showbackground": true,
                        "ticks": "",
                        "zerolinecolor": "white"
                      },
                      "yaxis": {
                        "backgroundcolor": "#E5ECF6",
                        "gridcolor": "white",
                        "gridwidth": 2,
                        "linecolor": "white",
                        "showbackground": true,
                        "ticks": "",
                        "zerolinecolor": "white"
                      },
                      "zaxis": {
                        "backgroundcolor": "#E5ECF6",
                        "gridcolor": "white",
                        "gridwidth": 2,
                        "linecolor": "white",
                        "showbackground": true,
                        "ticks": "",
                        "zerolinecolor": "white"
                      }
                    },
                    "shapedefaults": {
                      "line": {
                        "color": "#2a3f5f"
                      }
                    },
                    "ternary": {
                      "aaxis": {
                        "gridcolor": "white",
                        "linecolor": "white",
                        "ticks": ""
                      },
                      "baxis": {
                        "gridcolor": "white",
                        "linecolor": "white",
                        "ticks": ""
                      },
                      "bgcolor": "#E5ECF6",
                      "caxis": {
                        "gridcolor": "white",
                        "linecolor": "white",
                        "ticks": ""
                      }
                    },
                    "title": {
                      "x": 0.05
                    },
                    "xaxis": {
                      "automargin": true,
                      "gridcolor": "white",
                      "linecolor": "white",
                      "ticks": "",
                      "zerolinecolor": "white",
                      "zerolinewidth": 2
                    },
                    "yaxis": {
                      "automargin": true,
                      "gridcolor": "white",
                      "linecolor": "white",
                      "ticks": "",
                      "zerolinecolor": "white",
                      "zerolinewidth": 2
                    }
                  }
                },
                "title": {
                  "text": "Воронка событий 14-го дня",
                  "x": 0.5
                }
              }
            },
            "text/html": [
              "<div>\n",
              "        \n",
              "        \n",
              "            <div id=\"1d4ee8f2-9c8b-4145-9d5f-6fc7883194ab\" class=\"plotly-graph-div\" style=\"height:525px; width:100%;\"></div>\n",
              "            <script type=\"text/javascript\">\n",
              "                require([\"plotly\"], function(Plotly) {\n",
              "                    window.PLOTLYENV=window.PLOTLYENV || {};\n",
              "                    \n",
              "                if (document.getElementById(\"1d4ee8f2-9c8b-4145-9d5f-6fc7883194ab\")) {\n",
              "                    Plotly.newPlot(\n",
              "                        '1d4ee8f2-9c8b-4145-9d5f-6fc7883194ab',\n",
              "                        [{\"name\": \"Funnel\", \"textinfo\": \"value+percent initial+percent previous\", \"type\": \"funnel\", \"x\": [1653, 1032, 470, 520], \"y\": [\"login\", \"product_page\", \"product_cart\", \"purchase\"]}],\n",
              "                        {\"template\": {\"data\": {\"bar\": [{\"error_x\": {\"color\": \"#2a3f5f\"}, \"error_y\": {\"color\": \"#2a3f5f\"}, \"marker\": {\"line\": {\"color\": \"#E5ECF6\", \"width\": 0.5}}, \"type\": \"bar\"}], \"barpolar\": [{\"marker\": {\"line\": {\"color\": \"#E5ECF6\", \"width\": 0.5}}, \"type\": \"barpolar\"}], \"carpet\": [{\"aaxis\": {\"endlinecolor\": \"#2a3f5f\", \"gridcolor\": \"white\", \"linecolor\": \"white\", \"minorgridcolor\": \"white\", \"startlinecolor\": \"#2a3f5f\"}, \"baxis\": {\"endlinecolor\": \"#2a3f5f\", \"gridcolor\": \"white\", \"linecolor\": \"white\", \"minorgridcolor\": \"white\", \"startlinecolor\": \"#2a3f5f\"}, \"type\": \"carpet\"}], \"choropleth\": [{\"colorbar\": {\"outlinewidth\": 0, \"ticks\": \"\"}, \"type\": \"choropleth\"}], \"contour\": [{\"colorbar\": {\"outlinewidth\": 0, \"ticks\": \"\"}, \"colorscale\": [[0.0, \"#0d0887\"], [0.1111111111111111, \"#46039f\"], [0.2222222222222222, \"#7201a8\"], [0.3333333333333333, \"#9c179e\"], [0.4444444444444444, \"#bd3786\"], [0.5555555555555556, \"#d8576b\"], [0.6666666666666666, \"#ed7953\"], [0.7777777777777778, \"#fb9f3a\"], [0.8888888888888888, \"#fdca26\"], [1.0, \"#f0f921\"]], \"type\": \"contour\"}], \"contourcarpet\": [{\"colorbar\": {\"outlinewidth\": 0, \"ticks\": \"\"}, \"type\": \"contourcarpet\"}], \"heatmap\": [{\"colorbar\": {\"outlinewidth\": 0, \"ticks\": \"\"}, \"colorscale\": [[0.0, \"#0d0887\"], [0.1111111111111111, \"#46039f\"], [0.2222222222222222, \"#7201a8\"], [0.3333333333333333, \"#9c179e\"], [0.4444444444444444, \"#bd3786\"], [0.5555555555555556, \"#d8576b\"], [0.6666666666666666, \"#ed7953\"], [0.7777777777777778, \"#fb9f3a\"], [0.8888888888888888, \"#fdca26\"], [1.0, \"#f0f921\"]], \"type\": \"heatmap\"}], \"heatmapgl\": [{\"colorbar\": {\"outlinewidth\": 0, \"ticks\": \"\"}, \"colorscale\": [[0.0, \"#0d0887\"], [0.1111111111111111, \"#46039f\"], [0.2222222222222222, \"#7201a8\"], [0.3333333333333333, \"#9c179e\"], [0.4444444444444444, \"#bd3786\"], [0.5555555555555556, \"#d8576b\"], [0.6666666666666666, \"#ed7953\"], [0.7777777777777778, \"#fb9f3a\"], [0.8888888888888888, \"#fdca26\"], [1.0, \"#f0f921\"]], \"type\": \"heatmapgl\"}], \"histogram\": [{\"marker\": {\"colorbar\": {\"outlinewidth\": 0, \"ticks\": \"\"}}, \"type\": \"histogram\"}], \"histogram2d\": [{\"colorbar\": {\"outlinewidth\": 0, \"ticks\": \"\"}, \"colorscale\": [[0.0, \"#0d0887\"], [0.1111111111111111, \"#46039f\"], [0.2222222222222222, \"#7201a8\"], [0.3333333333333333, \"#9c179e\"], [0.4444444444444444, \"#bd3786\"], [0.5555555555555556, \"#d8576b\"], [0.6666666666666666, \"#ed7953\"], [0.7777777777777778, \"#fb9f3a\"], [0.8888888888888888, \"#fdca26\"], [1.0, \"#f0f921\"]], \"type\": \"histogram2d\"}], \"histogram2dcontour\": [{\"colorbar\": {\"outlinewidth\": 0, \"ticks\": \"\"}, \"colorscale\": [[0.0, \"#0d0887\"], [0.1111111111111111, \"#46039f\"], [0.2222222222222222, \"#7201a8\"], [0.3333333333333333, \"#9c179e\"], [0.4444444444444444, \"#bd3786\"], [0.5555555555555556, \"#d8576b\"], [0.6666666666666666, \"#ed7953\"], [0.7777777777777778, \"#fb9f3a\"], [0.8888888888888888, \"#fdca26\"], [1.0, \"#f0f921\"]], \"type\": \"histogram2dcontour\"}], \"mesh3d\": [{\"colorbar\": {\"outlinewidth\": 0, \"ticks\": \"\"}, \"type\": \"mesh3d\"}], \"parcoords\": [{\"line\": {\"colorbar\": {\"outlinewidth\": 0, \"ticks\": \"\"}}, \"type\": \"parcoords\"}], \"scatter\": [{\"marker\": {\"colorbar\": {\"outlinewidth\": 0, \"ticks\": \"\"}}, \"type\": \"scatter\"}], \"scatter3d\": [{\"line\": {\"colorbar\": {\"outlinewidth\": 0, \"ticks\": \"\"}}, \"marker\": {\"colorbar\": {\"outlinewidth\": 0, \"ticks\": \"\"}}, \"type\": \"scatter3d\"}], \"scattercarpet\": [{\"marker\": {\"colorbar\": {\"outlinewidth\": 0, \"ticks\": \"\"}}, \"type\": \"scattercarpet\"}], \"scattergeo\": [{\"marker\": {\"colorbar\": {\"outlinewidth\": 0, \"ticks\": \"\"}}, \"type\": \"scattergeo\"}], \"scattergl\": [{\"marker\": {\"colorbar\": {\"outlinewidth\": 0, \"ticks\": \"\"}}, \"type\": \"scattergl\"}], \"scattermapbox\": [{\"marker\": {\"colorbar\": {\"outlinewidth\": 0, \"ticks\": \"\"}}, \"type\": \"scattermapbox\"}], \"scatterpolar\": [{\"marker\": {\"colorbar\": {\"outlinewidth\": 0, \"ticks\": \"\"}}, \"type\": \"scatterpolar\"}], \"scatterpolargl\": [{\"marker\": {\"colorbar\": {\"outlinewidth\": 0, \"ticks\": \"\"}}, \"type\": \"scatterpolargl\"}], \"scatterternary\": [{\"marker\": {\"colorbar\": {\"outlinewidth\": 0, \"ticks\": \"\"}}, \"type\": \"scatterternary\"}], \"surface\": [{\"colorbar\": {\"outlinewidth\": 0, \"ticks\": \"\"}, \"colorscale\": [[0.0, \"#0d0887\"], [0.1111111111111111, \"#46039f\"], [0.2222222222222222, \"#7201a8\"], [0.3333333333333333, \"#9c179e\"], [0.4444444444444444, \"#bd3786\"], [0.5555555555555556, \"#d8576b\"], [0.6666666666666666, \"#ed7953\"], [0.7777777777777778, \"#fb9f3a\"], [0.8888888888888888, \"#fdca26\"], [1.0, \"#f0f921\"]], \"type\": \"surface\"}], \"table\": [{\"cells\": {\"fill\": {\"color\": \"#EBF0F8\"}, \"line\": {\"color\": \"white\"}}, \"header\": {\"fill\": {\"color\": \"#C8D4E3\"}, \"line\": {\"color\": \"white\"}}, \"type\": \"table\"}]}, \"layout\": {\"annotationdefaults\": {\"arrowcolor\": \"#2a3f5f\", \"arrowhead\": 0, \"arrowwidth\": 1}, \"colorscale\": {\"diverging\": [[0, \"#8e0152\"], [0.1, \"#c51b7d\"], [0.2, \"#de77ae\"], [0.3, \"#f1b6da\"], [0.4, \"#fde0ef\"], [0.5, \"#f7f7f7\"], [0.6, \"#e6f5d0\"], [0.7, \"#b8e186\"], [0.8, \"#7fbc41\"], [0.9, \"#4d9221\"], [1, \"#276419\"]], \"sequential\": [[0.0, \"#0d0887\"], [0.1111111111111111, \"#46039f\"], [0.2222222222222222, \"#7201a8\"], [0.3333333333333333, \"#9c179e\"], [0.4444444444444444, \"#bd3786\"], [0.5555555555555556, \"#d8576b\"], [0.6666666666666666, \"#ed7953\"], [0.7777777777777778, \"#fb9f3a\"], [0.8888888888888888, \"#fdca26\"], [1.0, \"#f0f921\"]], \"sequentialminus\": [[0.0, \"#0d0887\"], [0.1111111111111111, \"#46039f\"], [0.2222222222222222, \"#7201a8\"], [0.3333333333333333, \"#9c179e\"], [0.4444444444444444, \"#bd3786\"], [0.5555555555555556, \"#d8576b\"], [0.6666666666666666, \"#ed7953\"], [0.7777777777777778, \"#fb9f3a\"], [0.8888888888888888, \"#fdca26\"], [1.0, \"#f0f921\"]]}, \"colorway\": [\"#636efa\", \"#EF553B\", \"#00cc96\", \"#ab63fa\", \"#FFA15A\", \"#19d3f3\", \"#FF6692\", \"#B6E880\", \"#FF97FF\", \"#FECB52\"], \"font\": {\"color\": \"#2a3f5f\"}, \"geo\": {\"bgcolor\": \"white\", \"lakecolor\": \"white\", \"landcolor\": \"#E5ECF6\", \"showlakes\": true, \"showland\": true, \"subunitcolor\": \"white\"}, \"hoverlabel\": {\"align\": \"left\"}, \"hovermode\": \"closest\", \"mapbox\": {\"style\": \"light\"}, \"paper_bgcolor\": \"white\", \"plot_bgcolor\": \"#E5ECF6\", \"polar\": {\"angularaxis\": {\"gridcolor\": \"white\", \"linecolor\": \"white\", \"ticks\": \"\"}, \"bgcolor\": \"#E5ECF6\", \"radialaxis\": {\"gridcolor\": \"white\", \"linecolor\": \"white\", \"ticks\": \"\"}}, \"scene\": {\"xaxis\": {\"backgroundcolor\": \"#E5ECF6\", \"gridcolor\": \"white\", \"gridwidth\": 2, \"linecolor\": \"white\", \"showbackground\": true, \"ticks\": \"\", \"zerolinecolor\": \"white\"}, \"yaxis\": {\"backgroundcolor\": \"#E5ECF6\", \"gridcolor\": \"white\", \"gridwidth\": 2, \"linecolor\": \"white\", \"showbackground\": true, \"ticks\": \"\", \"zerolinecolor\": \"white\"}, \"zaxis\": {\"backgroundcolor\": \"#E5ECF6\", \"gridcolor\": \"white\", \"gridwidth\": 2, \"linecolor\": \"white\", \"showbackground\": true, \"ticks\": \"\", \"zerolinecolor\": \"white\"}}, \"shapedefaults\": {\"line\": {\"color\": \"#2a3f5f\"}}, \"ternary\": {\"aaxis\": {\"gridcolor\": \"white\", \"linecolor\": \"white\", \"ticks\": \"\"}, \"baxis\": {\"gridcolor\": \"white\", \"linecolor\": \"white\", \"ticks\": \"\"}, \"bgcolor\": \"#E5ECF6\", \"caxis\": {\"gridcolor\": \"white\", \"linecolor\": \"white\", \"ticks\": \"\"}}, \"title\": {\"x\": 0.05}, \"xaxis\": {\"automargin\": true, \"gridcolor\": \"white\", \"linecolor\": \"white\", \"ticks\": \"\", \"zerolinecolor\": \"white\", \"zerolinewidth\": 2}, \"yaxis\": {\"automargin\": true, \"gridcolor\": \"white\", \"linecolor\": \"white\", \"ticks\": \"\", \"zerolinecolor\": \"white\", \"zerolinewidth\": 2}}}, \"title\": {\"text\": \"\\u0412\\u043e\\u0440\\u043e\\u043d\\u043a\\u0430 \\u0441\\u043e\\u0431\\u044b\\u0442\\u0438\\u0439 14-\\u0433\\u043e \\u0434\\u043d\\u044f\", \"x\": 0.5}},\n",
              "                        {\"responsive\": true}\n",
              "                    ).then(function(){\n",
              "                            \n",
              "var gd = document.getElementById('1d4ee8f2-9c8b-4145-9d5f-6fc7883194ab');\n",
              "var x = new MutationObserver(function (mutations, observer) {{\n",
              "        var display = window.getComputedStyle(gd).display;\n",
              "        if (!display || display === 'none') {{\n",
              "            console.log([gd, 'removed!']);\n",
              "            Plotly.purge(gd);\n",
              "            observer.disconnect();\n",
              "        }}\n",
              "}});\n",
              "\n",
              "// Listen for the removal of the full notebook cells\n",
              "var notebookContainer = gd.closest('#notebook-container');\n",
              "if (notebookContainer) {{\n",
              "    x.observe(notebookContainer, {childList: true});\n",
              "}}\n",
              "\n",
              "// Listen for the clearing of the current output cell\n",
              "var outputEl = gd.closest('.output');\n",
              "if (outputEl) {{\n",
              "    x.observe(outputEl, {childList: true});\n",
              "}}\n",
              "\n",
              "                        })\n",
              "                };\n",
              "                });\n",
              "            </script>\n",
              "        </div>"
            ]
          },
          "metadata": {},
          "output_type": "display_data"
        }
      ]
    },
    {
      "cell_type": "markdown",
      "metadata": {
        "id": "lTmHukQYBECW"
      },
      "source": [
        "Конверсия в product_page равна 62% от login.\n",
        "\n",
        "Конверсия в purchase равна 31% от login.\n",
        "\n",
        "Конверсия в product_cart равна 28% от login.\n",
        "\n",
        "33% конверсии от регистрации до покупки в первый день и 31% в 14-ый день.\n",
        "\n",
        "Таким образом, ожидаемый эффект конверсии не достигнут, наоборот, конверсия упала."
      ]
    },
    {
      "cell_type": "markdown",
      "metadata": {
        "id": "osQyV_b2OsOz"
      },
      "source": [
        "**3.3. Проверим, какая доля пользователей из региона EU**"
      ]
    },
    {
      "cell_type": "markdown",
      "metadata": {
        "id": "6hiQJ2o7SSi8"
      },
      "source": [
        "Сделаем новую таблицу, где будут пользователи из ЕС по тесту recommendation_system"
      ]
    },
    {
      "cell_type": "code",
      "metadata": {
        "colab": {
          "base_uri": "https://localhost:8080/"
        },
        "id": "y6NQ2zpRQVNq",
        "outputId": "990ebe05-92b4-43e5-9aa8-6db05b46cea8"
      },
      "source": [
        "eu_new_users = len(new_users.query('region == \"EU\"')) \n",
        "\n",
        "ab_test_data = pd.merge(rs_participants, new_users, on='user_id') \n",
        "\n",
        "real_eu_users = ab_test_data.groupby('region').agg({'user_id':'nunique'}).loc['EU', 'user_id']\n",
        "x = real_eu_users/eu_new_users\n",
        "print('Доля новых пользователей из региона EU: {:.0%}'.format(x))"
      ],
      "execution_count": null,
      "outputs": [
        {
          "name": "stdout",
          "output_type": "stream",
          "text": [
            "Доля новых пользователей из региона EU: 14%\n"
          ]
        }
      ]
    },
    {
      "cell_type": "markdown",
      "metadata": {
        "id": "r6fD7Y1KS5x1"
      },
      "source": [
        " В выборку попало 15% новых пользователей из региона EU, это соответствует ТЗ."
      ]
    },
    {
      "cell_type": "markdown",
      "metadata": {
        "id": "iZQDlE_STOPw"
      },
      "source": [
        "**3.4. Посчитаем количество пользователей в каждой тестовой группе**"
      ]
    },
    {
      "cell_type": "code",
      "metadata": {
        "colab": {
          "base_uri": "https://localhost:8080/",
          "height": 111
        },
        "id": "LMPVIIviQ8Gq",
        "outputId": "3e828445-3819-4d51-ae9f-d80e48ace0f3"
      },
      "source": [
        "group_users_count = (\n",
        "    rs_participants.groupby('group')\n",
        "    .agg({'user_id': ['nunique']})\n",
        "    .reset_index().sort_values(by= ('user_id', 'nunique'), ascending=False)\n",
        ")\n",
        "group_users_count.columns = ['group', 'users_number']\n",
        "display(group_users_count)"
      ],
      "execution_count": null,
      "outputs": [
        {
          "data": {
            "text/html": [
              "<div>\n",
              "<style scoped>\n",
              "    .dataframe tbody tr th:only-of-type {\n",
              "        vertical-align: middle;\n",
              "    }\n",
              "\n",
              "    .dataframe tbody tr th {\n",
              "        vertical-align: top;\n",
              "    }\n",
              "\n",
              "    .dataframe thead th {\n",
              "        text-align: right;\n",
              "    }\n",
              "</style>\n",
              "<table border=\"1\" class=\"dataframe\">\n",
              "  <thead>\n",
              "    <tr style=\"text-align: right;\">\n",
              "      <th></th>\n",
              "      <th>group</th>\n",
              "      <th>users_number</th>\n",
              "    </tr>\n",
              "  </thead>\n",
              "  <tbody>\n",
              "    <tr>\n",
              "      <td>0</td>\n",
              "      <td>A</td>\n",
              "      <td>3824</td>\n",
              "    </tr>\n",
              "    <tr>\n",
              "      <td>1</td>\n",
              "      <td>B</td>\n",
              "      <td>2877</td>\n",
              "    </tr>\n",
              "  </tbody>\n",
              "</table>\n",
              "</div>"
            ],
            "text/plain": [
              "  group  users_number\n",
              "0     A          3824\n",
              "1     B          2877"
            ]
          },
          "metadata": {},
          "output_type": "display_data"
        }
      ]
    },
    {
      "cell_type": "code",
      "metadata": {
        "colab": {
          "base_uri": "https://localhost:8080/",
          "height": 295
        },
        "id": "dkdpxAmqUKyY",
        "outputId": "611e0372-9867-43b6-84f1-5180be9ee38e"
      },
      "source": [
        "plt.figure(figsize=(6,4))\n",
        "plt.title('Количество пользователей в каждой группе') \n",
        "sns.barplot(x = 'group', y = 'users_number', data = group_users_count)\n",
        "plt.show()\n"
      ],
      "execution_count": null,
      "outputs": [
        {
          "data": {
            "image/png": "[encoded data removed]",
            "text/plain": [
              "<Figure size 432x288 with 1 Axes>"
            ]
          },
          "metadata": {
            "needs_background": "light"
          },
          "output_type": "display_data"
        }
      ]
    },
    {
      "cell_type": "markdown",
      "metadata": {
        "id": "_YrweZaGUZ3H"
      },
      "source": [
        "В recommender_system_test:\n",
        "\n",
        "Группа: А (контрольная): 3824 пользователей.\n",
        "\n",
        "Группа: B (новая платёжная воронка): 2877 пользователей."
      ]
    },
    {
      "cell_type": "markdown",
      "metadata": {
        "id": "aQ7Ugrn9UpCh"
      },
      "source": [
        "**3.5. Сравним группы А и В**"
      ]
    },
    {
      "cell_type": "markdown",
      "metadata": {
        "id": "jlulBkv4XKDq"
      },
      "source": [
        "Выясним, сколько в каждой группе событий на пользователя. "
      ]
    },
    {
      "cell_type": "code",
      "metadata": {
        "id": "DcP5kaL8ZZlF"
      },
      "source": [
        "ab_events = ab_events.query('event_dt <= \"2020-12-29\"')"
      ],
      "execution_count": null,
      "outputs": []
    },
    {
      "cell_type": "code",
      "metadata": {
        "colab": {
          "base_uri": "https://localhost:8080/",
          "height": 204
        },
        "id": "exhXaP9VUm8v",
        "outputId": "5ab79a32-ede4-4ef2-ffc8-8b261fca3869"
      },
      "source": [
        "ab_test_data = pd.merge(ab_test_data, ab_events, on='user_id')\n",
        "display(ab_test_data.head())"
      ],
      "execution_count": null,
      "outputs": [
        {
          "data": {
            "text/html": [
              "<div>\n",
              "<style scoped>\n",
              "    .dataframe tbody tr th:only-of-type {\n",
              "        vertical-align: middle;\n",
              "    }\n",
              "\n",
              "    .dataframe tbody tr th {\n",
              "        vertical-align: top;\n",
              "    }\n",
              "\n",
              "    .dataframe thead th {\n",
              "        text-align: right;\n",
              "    }\n",
              "</style>\n",
              "<table border=\"1\" class=\"dataframe\">\n",
              "  <thead>\n",
              "    <tr style=\"text-align: right;\">\n",
              "      <th></th>\n",
              "      <th>user_id</th>\n",
              "      <th>group</th>\n",
              "      <th>ab_test</th>\n",
              "      <th>first_date</th>\n",
              "      <th>region</th>\n",
              "      <th>device</th>\n",
              "      <th>event_dt</th>\n",
              "      <th>event_name</th>\n",
              "      <th>details</th>\n",
              "    </tr>\n",
              "  </thead>\n",
              "  <tbody>\n",
              "    <tr>\n",
              "      <td>0</td>\n",
              "      <td>D1ABA3E2887B6A73</td>\n",
              "      <td>A</td>\n",
              "      <td>recommender_system_test</td>\n",
              "      <td>2020-12-07</td>\n",
              "      <td>EU</td>\n",
              "      <td>PC</td>\n",
              "      <td>2020-12-07 14:43:27</td>\n",
              "      <td>purchase</td>\n",
              "      <td>99.99</td>\n",
              "    </tr>\n",
              "    <tr>\n",
              "      <td>1</td>\n",
              "      <td>D1ABA3E2887B6A73</td>\n",
              "      <td>A</td>\n",
              "      <td>recommender_system_test</td>\n",
              "      <td>2020-12-07</td>\n",
              "      <td>EU</td>\n",
              "      <td>PC</td>\n",
              "      <td>2020-12-25 00:04:56</td>\n",
              "      <td>purchase</td>\n",
              "      <td>4.99</td>\n",
              "    </tr>\n",
              "    <tr>\n",
              "      <td>2</td>\n",
              "      <td>D1ABA3E2887B6A73</td>\n",
              "      <td>A</td>\n",
              "      <td>recommender_system_test</td>\n",
              "      <td>2020-12-07</td>\n",
              "      <td>EU</td>\n",
              "      <td>PC</td>\n",
              "      <td>2020-12-07 14:43:29</td>\n",
              "      <td>product_cart</td>\n",
              "      <td>0.00</td>\n",
              "    </tr>\n",
              "    <tr>\n",
              "      <td>3</td>\n",
              "      <td>D1ABA3E2887B6A73</td>\n",
              "      <td>A</td>\n",
              "      <td>recommender_system_test</td>\n",
              "      <td>2020-12-07</td>\n",
              "      <td>EU</td>\n",
              "      <td>PC</td>\n",
              "      <td>2020-12-25 00:04:57</td>\n",
              "      <td>product_cart</td>\n",
              "      <td>0.00</td>\n",
              "    </tr>\n",
              "    <tr>\n",
              "      <td>4</td>\n",
              "      <td>D1ABA3E2887B6A73</td>\n",
              "      <td>A</td>\n",
              "      <td>recommender_system_test</td>\n",
              "      <td>2020-12-07</td>\n",
              "      <td>EU</td>\n",
              "      <td>PC</td>\n",
              "      <td>2020-12-07 14:43:27</td>\n",
              "      <td>product_page</td>\n",
              "      <td>0.00</td>\n",
              "    </tr>\n",
              "  </tbody>\n",
              "</table>\n",
              "</div>"
            ],
            "text/plain": [
              "            user_id group                  ab_test first_date region device  \\\n",
              "0  D1ABA3E2887B6A73     A  recommender_system_test 2020-12-07     EU     PC   \n",
              "1  D1ABA3E2887B6A73     A  recommender_system_test 2020-12-07     EU     PC   \n",
              "2  D1ABA3E2887B6A73     A  recommender_system_test 2020-12-07     EU     PC   \n",
              "3  D1ABA3E2887B6A73     A  recommender_system_test 2020-12-07     EU     PC   \n",
              "4  D1ABA3E2887B6A73     A  recommender_system_test 2020-12-07     EU     PC   \n",
              "\n",
              "             event_dt    event_name  details  \n",
              "0 2020-12-07 14:43:27      purchase    99.99  \n",
              "1 2020-12-25 00:04:56      purchase     4.99  \n",
              "2 2020-12-07 14:43:29  product_cart     0.00  \n",
              "3 2020-12-25 00:04:57  product_cart     0.00  \n",
              "4 2020-12-07 14:43:27  product_page     0.00  "
            ]
          },
          "metadata": {},
          "output_type": "display_data"
        }
      ]
    },
    {
      "cell_type": "code",
      "metadata": {
        "id": "RryEZHF_UU3f"
      },
      "source": [
        "group_A = ab_test_data.query('group == \"A\"')\n",
        "group_B = ab_test_data.query('group == \"B\"')"
      ],
      "execution_count": null,
      "outputs": []
    },
    {
      "cell_type": "code",
      "metadata": {
        "colab": {
          "base_uri": "https://localhost:8080/",
          "height": 191
        },
        "id": "08z3wxfYXr7i",
        "outputId": "c22c62f4-0716-4842-c2d6-f9270d331781"
      },
      "source": [
        "A_mean = (group_A.pivot_table (index = ['user_id', 'event_name'], \n",
        "                                     values = 'event_dt', aggfunc = 'count').reset_index()\n",
        "                                     .groupby('event_name')\n",
        "                                     .agg({'event_dt':'mean'}).reset_index().round(2)\n",
        ")\n",
        "                    \n",
        "print ('Cреднее количество пользователей в группе А')\n",
        "display(A_mean)"
      ],
      "execution_count": null,
      "outputs": [
        {
          "name": "stdout",
          "output_type": "stream",
          "text": [
            "Cреднее количество пользователей в группе А\n"
          ]
        },
        {
          "data": {
            "text/html": [
              "<div>\n",
              "<style scoped>\n",
              "    .dataframe tbody tr th:only-of-type {\n",
              "        vertical-align: middle;\n",
              "    }\n",
              "\n",
              "    .dataframe tbody tr th {\n",
              "        vertical-align: top;\n",
              "    }\n",
              "\n",
              "    .dataframe thead th {\n",
              "        text-align: right;\n",
              "    }\n",
              "</style>\n",
              "<table border=\"1\" class=\"dataframe\">\n",
              "  <thead>\n",
              "    <tr style=\"text-align: right;\">\n",
              "      <th></th>\n",
              "      <th>event_name</th>\n",
              "      <th>event_dt</th>\n",
              "    </tr>\n",
              "  </thead>\n",
              "  <tbody>\n",
              "    <tr>\n",
              "      <td>0</td>\n",
              "      <td>login</td>\n",
              "      <td>3.05</td>\n",
              "    </tr>\n",
              "    <tr>\n",
              "      <td>1</td>\n",
              "      <td>product_cart</td>\n",
              "      <td>3.04</td>\n",
              "    </tr>\n",
              "    <tr>\n",
              "      <td>2</td>\n",
              "      <td>product_page</td>\n",
              "      <td>3.03</td>\n",
              "    </tr>\n",
              "    <tr>\n",
              "      <td>3</td>\n",
              "      <td>purchase</td>\n",
              "      <td>2.99</td>\n",
              "    </tr>\n",
              "  </tbody>\n",
              "</table>\n",
              "</div>"
            ],
            "text/plain": [
              "     event_name  event_dt\n",
              "0         login      3.05\n",
              "1  product_cart      3.04\n",
              "2  product_page      3.03\n",
              "3      purchase      2.99"
            ]
          },
          "metadata": {},
          "output_type": "display_data"
        }
      ]
    },
    {
      "cell_type": "code",
      "metadata": {
        "colab": {
          "base_uri": "https://localhost:8080/",
          "height": 191
        },
        "id": "l8ZilpWSXr-V",
        "outputId": "ca0223f8-6852-4610-81fa-5497c38f9014"
      },
      "source": [
        "B_mean = (group_B.pivot_table (index = ['user_id', 'event_name'], \n",
        "                                     values = 'event_dt', aggfunc = 'count').reset_index()\n",
        "                                     .groupby('event_name')\n",
        "                                     .agg({'event_dt':'mean'}).reset_index().round(2)\n",
        ")\n",
        "print ('Cреднее количество пользователей в группе В')\n",
        "display(B_mean)\n"
      ],
      "execution_count": null,
      "outputs": [
        {
          "name": "stdout",
          "output_type": "stream",
          "text": [
            "Cреднее количество пользователей в группе В\n"
          ]
        },
        {
          "data": {
            "text/html": [
              "<div>\n",
              "<style scoped>\n",
              "    .dataframe tbody tr th:only-of-type {\n",
              "        vertical-align: middle;\n",
              "    }\n",
              "\n",
              "    .dataframe tbody tr th {\n",
              "        vertical-align: top;\n",
              "    }\n",
              "\n",
              "    .dataframe thead th {\n",
              "        text-align: right;\n",
              "    }\n",
              "</style>\n",
              "<table border=\"1\" class=\"dataframe\">\n",
              "  <thead>\n",
              "    <tr style=\"text-align: right;\">\n",
              "      <th></th>\n",
              "      <th>event_name</th>\n",
              "      <th>event_dt</th>\n",
              "    </tr>\n",
              "  </thead>\n",
              "  <tbody>\n",
              "    <tr>\n",
              "      <td>0</td>\n",
              "      <td>login</td>\n",
              "      <td>2.78</td>\n",
              "    </tr>\n",
              "    <tr>\n",
              "      <td>1</td>\n",
              "      <td>product_cart</td>\n",
              "      <td>2.67</td>\n",
              "    </tr>\n",
              "    <tr>\n",
              "      <td>2</td>\n",
              "      <td>product_page</td>\n",
              "      <td>2.65</td>\n",
              "    </tr>\n",
              "    <tr>\n",
              "      <td>3</td>\n",
              "      <td>purchase</td>\n",
              "      <td>2.59</td>\n",
              "    </tr>\n",
              "  </tbody>\n",
              "</table>\n",
              "</div>"
            ],
            "text/plain": [
              "     event_name  event_dt\n",
              "0         login      2.78\n",
              "1  product_cart      2.67\n",
              "2  product_page      2.65\n",
              "3      purchase      2.59"
            ]
          },
          "metadata": {},
          "output_type": "display_data"
        }
      ]
    },
    {
      "cell_type": "code",
      "metadata": {
        "id": "w-HR2x4Eb9Km"
      },
      "source": [
        "event_A = group_A.pivot_table (index = ['user_id'], values = 'event_name', aggfunc = 'count').reset_index()\n",
        "event_B = group_B.pivot_table (index = ['user_id'], values = 'event_name', aggfunc = 'count').reset_index() "
      ],
      "execution_count": null,
      "outputs": []
    },
    {
      "cell_type": "code",
      "metadata": {
        "colab": {
          "base_uri": "https://localhost:8080/",
          "height": 513
        },
        "id": "OTEb5lMHejY5",
        "outputId": "0fa12124-7869-44b7-f71e-3491ef919871"
      },
      "source": [
        "plt.figure(figsize=(14, 8))\n",
        "sns.distplot(event_A['event_name'], bins=30, color='g')\n",
        "sns.distplot(event_B['event_name'], bins=30, color = 'm')\n",
        "plt.legend(labels = ('Group A', 'Group B'))\n",
        "plt.title('Распределение количества событий на пользователя в каждой тестовой группе')\n",
        "plt.show()"
      ],
      "execution_count": null,
      "outputs": [
        {
          "data": {
            "image/png": "[encoded data removed]",
            "text/plain": [
              "<Figure size 1008x576 with 1 Axes>"
            ]
          },
          "metadata": {
            "needs_background": "light"
          },
          "output_type": "display_data"
        }
      ]
    },
    {
      "cell_type": "code",
      "metadata": {
        "id": "WhH7zg7f98ty",
        "outputId": "b2e74a68-5cfe-45a0-8e7b-03029bac4334"
      },
      "source": [
        "print('Среднее число событий в группе А {}'.format(event_A['event_name'].mean().round(2)))\n",
        "print('Среднее число событий в группе B {}'.format(event_B['event_name'].mean().round(2)))"
      ],
      "execution_count": null,
      "outputs": [
        {
          "name": "stdout",
          "output_type": "stream",
          "text": [
            "Среднее число событий в группе А 6.87\n",
            "Среднее число событий в группе B 5.73\n"
          ]
        }
      ]
    },
    {
      "cell_type": "code",
      "metadata": {
        "id": "xzfWJZHW98ty",
        "outputId": "a20c3674-fed5-447a-8884-98155b69433d"
      },
      "source": [
        "event_A.describe()"
      ],
      "execution_count": null,
      "outputs": [
        {
          "data": {
            "text/html": [
              "<div>\n",
              "<style scoped>\n",
              "    .dataframe tbody tr th:only-of-type {\n",
              "        vertical-align: middle;\n",
              "    }\n",
              "\n",
              "    .dataframe tbody tr th {\n",
              "        vertical-align: top;\n",
              "    }\n",
              "\n",
              "    .dataframe thead th {\n",
              "        text-align: right;\n",
              "    }\n",
              "</style>\n",
              "<table border=\"1\" class=\"dataframe\">\n",
              "  <thead>\n",
              "    <tr style=\"text-align: right;\">\n",
              "      <th></th>\n",
              "      <th>event_name</th>\n",
              "    </tr>\n",
              "  </thead>\n",
              "  <tbody>\n",
              "    <tr>\n",
              "      <td>count</td>\n",
              "      <td>2747.000000</td>\n",
              "    </tr>\n",
              "    <tr>\n",
              "      <td>mean</td>\n",
              "      <td>6.870404</td>\n",
              "    </tr>\n",
              "    <tr>\n",
              "      <td>std</td>\n",
              "      <td>3.829575</td>\n",
              "    </tr>\n",
              "    <tr>\n",
              "      <td>min</td>\n",
              "      <td>1.000000</td>\n",
              "    </tr>\n",
              "    <tr>\n",
              "      <td>25%</td>\n",
              "      <td>4.000000</td>\n",
              "    </tr>\n",
              "    <tr>\n",
              "      <td>50%</td>\n",
              "      <td>6.000000</td>\n",
              "    </tr>\n",
              "    <tr>\n",
              "      <td>75%</td>\n",
              "      <td>9.000000</td>\n",
              "    </tr>\n",
              "    <tr>\n",
              "      <td>max</td>\n",
              "      <td>24.000000</td>\n",
              "    </tr>\n",
              "  </tbody>\n",
              "</table>\n",
              "</div>"
            ],
            "text/plain": [
              "        event_name\n",
              "count  2747.000000\n",
              "mean      6.870404\n",
              "std       3.829575\n",
              "min       1.000000\n",
              "25%       4.000000\n",
              "50%       6.000000\n",
              "75%       9.000000\n",
              "max      24.000000"
            ]
          },
          "execution_count": 226,
          "metadata": {},
          "output_type": "execute_result"
        }
      ]
    },
    {
      "cell_type": "code",
      "metadata": {
        "id": "G1oi_5sA98ty",
        "outputId": "3a480838-568b-43c2-9710-09ad70b9cac2"
      },
      "source": [
        "event_B.describe()"
      ],
      "execution_count": null,
      "outputs": [
        {
          "data": {
            "text/html": [
              "<div>\n",
              "<style scoped>\n",
              "    .dataframe tbody tr th:only-of-type {\n",
              "        vertical-align: middle;\n",
              "    }\n",
              "\n",
              "    .dataframe tbody tr th {\n",
              "        vertical-align: top;\n",
              "    }\n",
              "\n",
              "    .dataframe thead th {\n",
              "        text-align: right;\n",
              "    }\n",
              "</style>\n",
              "<table border=\"1\" class=\"dataframe\">\n",
              "  <thead>\n",
              "    <tr style=\"text-align: right;\">\n",
              "      <th></th>\n",
              "      <th>event_name</th>\n",
              "    </tr>\n",
              "  </thead>\n",
              "  <tbody>\n",
              "    <tr>\n",
              "      <td>count</td>\n",
              "      <td>928.000000</td>\n",
              "    </tr>\n",
              "    <tr>\n",
              "      <td>mean</td>\n",
              "      <td>5.725216</td>\n",
              "    </tr>\n",
              "    <tr>\n",
              "      <td>std</td>\n",
              "      <td>3.434851</td>\n",
              "    </tr>\n",
              "    <tr>\n",
              "      <td>min</td>\n",
              "      <td>1.000000</td>\n",
              "    </tr>\n",
              "    <tr>\n",
              "      <td>25%</td>\n",
              "      <td>3.000000</td>\n",
              "    </tr>\n",
              "    <tr>\n",
              "      <td>50%</td>\n",
              "      <td>5.000000</td>\n",
              "    </tr>\n",
              "    <tr>\n",
              "      <td>75%</td>\n",
              "      <td>8.000000</td>\n",
              "    </tr>\n",
              "    <tr>\n",
              "      <td>max</td>\n",
              "      <td>28.000000</td>\n",
              "    </tr>\n",
              "  </tbody>\n",
              "</table>\n",
              "</div>"
            ],
            "text/plain": [
              "       event_name\n",
              "count  928.000000\n",
              "mean     5.725216\n",
              "std      3.434851\n",
              "min      1.000000\n",
              "25%      3.000000\n",
              "50%      5.000000\n",
              "75%      8.000000\n",
              "max     28.000000"
            ]
          },
          "execution_count": 228,
          "metadata": {},
          "output_type": "execute_result"
        }
      ]
    },
    {
      "cell_type": "markdown",
      "metadata": {
        "id": "QJbz65uth4eb"
      },
      "source": [
        "Выборки обладают различным распределением взаимодействий, а так же разными средним количеством событий на одного пользователя. Количество событий на пользователя выше в группе А, в среднем 6,87 событий на пользователя, в то время как в группе В 5,73 события."
      ]
    },
    {
      "cell_type": "markdown",
      "metadata": {
        "id": "GIf7dVEIjyhn"
      },
      "source": [
        "**3.6. Проверим пересечение пользователей в тестовых группах**"
      ]
    },
    {
      "cell_type": "code",
      "metadata": {
        "colab": {
          "base_uri": "https://localhost:8080/"
        },
        "id": "j_RpxgaDejdn",
        "outputId": "7eb37df6-b90d-48d6-910b-6b2a2d375842"
      },
      "source": [
        "len(np.intersect1d(rs_participants.query('group == \"A\"')['user_id'].unique(), rs_participants.query('group == \"B\"')['user_id'].unique()))"
      ],
      "execution_count": null,
      "outputs": [
        {
          "data": {
            "text/plain": [
              "0"
            ]
          },
          "execution_count": 192,
          "metadata": {},
          "output_type": "execute_result"
        }
      ]
    },
    {
      "cell_type": "markdown",
      "metadata": {
        "id": "LwwdpTKXBO9K"
      },
      "source": [
        "Пересечений пользователей в группах А и В в recommender_system_test нет.\n",
        "\n",
        "Провереим на пересечение пользователей из recommender_system_test с конкурирующими тестами."
      ]
    },
    {
      "cell_type": "code",
      "metadata": {
        "colab": {
          "base_uri": "https://localhost:8080/"
        },
        "id": "MTIT9ubXj9x7",
        "outputId": "0b3e2d3b-efa0-4259-ecae-ecab67ac18dd"
      },
      "source": [
        "test_intersection = len(np.intersect1d(ab_participants.query('ab_test == \"recommender_system_test\"')['user_id'].unique(), \n",
        "ab_participants.query('ab_test == \"interface_eu_test\"')['user_id'].unique()))\n",
        "test_intersection"
      ],
      "execution_count": null,
      "outputs": [
        {
          "data": {
            "text/plain": [
              "1602"
            ]
          },
          "execution_count": 193,
          "metadata": {},
          "output_type": "execute_result"
        }
      ]
    },
    {
      "cell_type": "markdown",
      "metadata": {
        "id": "84qmATDW1-Qm"
      },
      "source": [
        "1602 уникальных пользователя попали одновременно в разные тесты."
      ]
    },
    {
      "cell_type": "code",
      "metadata": {
        "colab": {
          "base_uri": "https://localhost:8080/"
        },
        "id": "Gw3C6Ib52Ibe",
        "outputId": "c991c361-5d8e-43b6-f476-af5a9ba3d26b"
      },
      "source": [
        "len(np.intersect1d(ab_participants.query('ab_test == \"recommender_system_test\" & group == \"B\"')['user_id'].unique(), \\\n",
        "ab_participants.query('ab_test == \"interface_eu_test\" & group == \"B\"')['user_id'].unique()))"
      ],
      "execution_count": null,
      "outputs": [
        {
          "data": {
            "text/plain": [
              "344"
            ]
          },
          "execution_count": 194,
          "metadata": {},
          "output_type": "execute_result"
        }
      ]
    },
    {
      "cell_type": "markdown",
      "metadata": {
        "id": "-wGQmPHS3H6L"
      },
      "source": [
        "344 пользователя из группы В попало в разные тесты.\n",
        "\n",
        "Таким образом, мы видим некорректное разбиение пользователей на группы, так как 1602 человека попали в разные тесты, а 344 пользователя попали в экспериментальные группы разных тестов."
      ]
    },
    {
      "cell_type": "markdown",
      "metadata": {
        "id": "2OBGXlNIB5VQ"
      },
      "source": [
        "**3.7. Посмотрим, как события распределены по дням.**"
      ]
    },
    {
      "cell_type": "code",
      "metadata": {
        "colab": {
          "base_uri": "https://localhost:8080/",
          "height": 499
        },
        "id": "mpKcovtxD5E-",
        "outputId": "8bf385fd-7aa0-4644-cb0a-cf3b38434b9c"
      },
      "source": [
        "data_eu['date'] = data_eu['event_dt'].dt.date.astype('datetime64')\n",
        "data_eu.groupby('date').agg({'user_id': ['count','nunique']}).plot(kind='bar', figsize=(18, 6),legend = False)\n",
        "plt.legend(['Группа A', 'Группа B'], prop={'size':12})\n",
        "plt.xlabel('Дата')\n",
        "plt.ylabel('Число событий')\n",
        "plt.title('Распределение событий по дням')\n",
        "plt.show()"
      ],
      "execution_count": null,
      "outputs": [
        {
          "data": {
            "image/png": "[encoded data removed]",
            "text/plain": [
              "<Figure size 1296x432 with 1 Axes>"
            ]
          },
          "metadata": {
            "needs_background": "light"
          },
          "output_type": "display_data"
        }
      ]
    },
    {
      "cell_type": "markdown",
      "metadata": {
        "id": "fQ1vcepeIVDS"
      },
      "source": [
        "С 7 по 13 декабря происходит 500-600 событий. 14 декабря случается резкий скачок до 1400 событий. Рост продолжается и достигает пика 21 декабря. Так как регион EU, то это может быть связано с рождественскими акциями. С 22 декабря происходит резкий спад, который стабилизируется 25.12. 30 декабря мы видим почти нулевую активность. Возможно, неполадки в системе."
      ]
    },
    {
      "cell_type": "markdown",
      "metadata": {
        "id": "xwUklkXlJsXB"
      },
      "source": [
        "Посмотрим, как распределились события по дням в группе А."
      ]
    },
    {
      "cell_type": "code",
      "metadata": {
        "colab": {
          "base_uri": "https://localhost:8080/",
          "height": 499
        },
        "id": "doslwrKkJg6j",
        "outputId": "990d3ee0-1c4b-4dfb-98ce-a216cdfc18e4"
      },
      "source": [
        "(data_eu[data_eu['group'] == 'A']\n",
        " .groupby(['date', 'event_name'])\n",
        " .agg({'user_id': ['count']}).unstack()\n",
        " .plot(kind = 'bar', figsize =(18, 6), title = 'Распределение событий по дням в группе А')\n",
        ")\n",
        "plt.legend(['login', 'product_page', 'product_cart', 'purchase'], prop={'size':12})\n",
        "plt.xlabel('Дата')\n",
        "plt.ylabel('Количество событий')\n",
        "plt.show()\n"
      ],
      "execution_count": null,
      "outputs": [
        {
          "data": {
            "image/png": "[encoded data removed]",
            "text/plain": [
              "<Figure size 1296x432 with 1 Axes>"
            ]
          },
          "metadata": {
            "needs_background": "light"
          },
          "output_type": "display_data"
        }
      ]
    },
    {
      "cell_type": "markdown",
      "metadata": {
        "id": "Z4UrUATKLkNn"
      },
      "source": [
        "Посмотрим, как распределились события по дням в группе B."
      ]
    },
    {
      "cell_type": "code",
      "metadata": {
        "colab": {
          "base_uri": "https://localhost:8080/",
          "height": 499
        },
        "id": "yJTPxJFOLe8-",
        "outputId": "7d4c7da7-fdfd-4d9b-e1dc-27e29edc108b"
      },
      "source": [
        "(data_eu[data_eu['group'] == 'B']\n",
        " .groupby(['date', 'event_name'])\n",
        " .agg({'user_id': ['count']}).unstack()\n",
        " .plot(kind = 'bar', figsize =(18, 6), title = 'Распределение событий по дням в группе B')\n",
        ")\n",
        "plt.legend(['login', 'product_page', 'product_cart', 'purchase'], prop={'size':12})\n",
        "plt.xlabel('Дата')\n",
        "plt.ylabel('Количество событий')\n",
        "plt.show()\n"
      ],
      "execution_count": null,
      "outputs": [
        {
          "data": {
            "image/png": "[encoded data removed]",
            "text/plain": [
              "<Figure size 1296x432 with 1 Axes>"
            ]
          },
          "metadata": {
            "needs_background": "light"
          },
          "output_type": "display_data"
        }
      ]
    },
    {
      "cell_type": "markdown",
      "metadata": {
        "id": "muvbAb67L4o8"
      },
      "source": [
        "Наглядно видно, насколько в больше событий в группе А, чем в группе В."
      ]
    },
    {
      "cell_type": "markdown",
      "metadata": {
        "id": "N_Jnu7W6C9ky"
      },
      "source": [
        "Всего участников теста: 16666.\n",
        "\n",
        "Всего участников тестрования в EU: 3481.\n",
        "\n",
        "Всего событий в логе по по всем регионам: 440317.\n",
        "\n",
        "Всего событий в логе для региона EU: 23420.\n",
        "\n",
        "Среднее количество событий на пользователя для EU: 7.\n",
        "\n",
        "Доля пользователей из EU: 15%.\n",
        "\n",
        "Всего пользователей в логе: 58703.\n",
        "\n",
        "Среднее количество событий на пользователя по всем регионам: 8.\n",
        "\n",
        "Используемые девайсы: PC, Android, iPhone, Mac.\n",
        "\n",
        "Исследуемые события: login, product_page, product_cart, purchase.\n",
        "\n",
        "Проведенные тесты: recommender_system_test (6701 пользователь), interface_eu_test (11567 пользователей). \n",
        "\n",
        "В recommender_system_test:\n",
        "\n",
        "Группа: А (контрольная): 3824 пользователей.\n",
        "\n",
        "Группа: B (новая платёжная воронка): 2877 пользователей.\n",
        "\n",
        " \n",
        "Мы имеем 2 типа маркетинговых событий: рождественское и новогоднее промо и новогодняя подарочная лотерея.\n",
        "\n",
        "Поскольку тестирование проводится на регионе EU, можно утверждать, что есть одно пересечение - новогодняя/рождественская промоакция, которая может повлиять на результаты. Тестирование не следовало назначать на период, который может совпадать с маркетинговыми активностями и праздниками.\n",
        "\n",
        "По европейскому региону данные по событиям распределены от 2020-12-07 00:05:57 до 2020-12-30 12:42:57. Этот временной промежуток меньше, чем требует техзадание.\n",
        "\n",
        "Маркетинговая воронка по всем регионам:\n",
        "\n",
        "login - вход в систему, чаще всего вызываемое событие в приложении, 185129 раз (43%);\n",
        "\n",
        "product_page - страница продукта, событие происходило 125563 раз (25,5%);\n",
        "\n",
        "purchase - покупка, событие происходило 62740 раз (14,2%);\n",
        "\n",
        "product_cart - корзина продукта, событие происходило 62462 раз (14,2%).\n",
        "\n",
        "Покупка совершается чаще, чем продукт кладется в корзину, на 278 раз. \n",
        " \n",
        "Маркетинговая воронка по региону EU:\n",
        " \n",
        "Ввели логин 100% пользователей, 3481 чел.\n",
        "\n",
        "63% пользователей посетили страницу с продуктом, 2178 чел.\n",
        "\n",
        "Добавили товар в козину 29% пользователей, 1026 чел.\n",
        "\n",
        "Совершили покупку 31% пользователей, 1082 чел., и это количество на 56 человек больше добавивших продукт в корзину.\n",
        "\n",
        "2% пользователей могли пропустить этап корзины, если уже на странице с продуктом есть кнопка оплаты. Предположительно, так проще сделать при покупке 1 товара, и добавление товара в корзину не является обязательным этапом воронки.\n",
        " \n",
        "За 14 дней ожидаемый эффект конверсии в 10% не достигнут, наоборот, конверсия упала.\n",
        " \n",
        "Выборки обладают различным распределением взаимодействий, а так же разными средним количеством событий на одного пользователя. Количество событий на пользователя выше в группе А.\n",
        " \n",
        "Мы увидели некорректное разбиение пользователей на группы, так как 1602 человека попали в разные тесты, а 344 пользователя попали в экспериментальные группы разных тестов.\n",
        " \n",
        "События по дням распределились таким образом, что  с 14 декабря наблюдается  резкий скачок событий, их стало в 1,5 раза больше. Рост продолжается и достигает пика 21 декабря. Так как регион EU, то это может быть связано с рождественскими акциями. С 22 декабря происходит резкий спад, который стабилизируется 25 декабря. 30 декабря мы видим почти нулевую активность. Возможно, неполадки в системе.\n"
      ]
    },
    {
      "cell_type": "markdown",
      "metadata": {
        "id": "57kJC7fgIk-R"
      },
      "source": [
        "**ШАГ 4. Проверка статистических гипотез**"
      ]
    },
    {
      "cell_type": "markdown",
      "metadata": {
        "id": "7aNoS--wxo84"
      },
      "source": [
        "Проверим гипотезы:\n",
        "\n",
        "Гипотеза H0:  нет статистически значимой разницы между конверсиями в группе А и в группе B.\n",
        "\n",
        "Гипотеза H1: есть статистически значимая разница между конверсиями в группе А и в группе B."
      ]
    },
    {
      "cell_type": "code",
      "metadata": {
        "id": "e6LjneO02xz3"
      },
      "source": [
        "recommender_system_test = recommender_system_test[recommender_system_test['event_dt'] < '2020-12-25 00:00:00']\n",
        "#recommender_system_test попал в пересечение с Christmas&New Year Promо. \n",
        "#Тест и Promо имеют пересечение в 5 дней (25-30 декабря, мы имеем данные только до 30 числа)\n"
      ],
      "execution_count": null,
      "outputs": []
    },
    {
      "cell_type": "code",
      "metadata": {
        "colab": {
          "base_uri": "https://localhost:8080/",
          "height": 204
        },
        "id": "2ZYoQpZbxlHX",
        "outputId": "9f6cb72f-eb87-40e1-fb45-3570c68ec6f9"
      },
      "source": [
        "exp = recommender_system_test.pivot_table(index='event_name', columns='group',values='user_id',aggfunc='nunique')\\\n",
        "                       .sort_values('A',ascending=False)\n",
        "display(exp)"
      ],
      "execution_count": null,
      "outputs": [
        {
          "data": {
            "text/html": [
              "<div>\n",
              "<style scoped>\n",
              "    .dataframe tbody tr th:only-of-type {\n",
              "        vertical-align: middle;\n",
              "    }\n",
              "\n",
              "    .dataframe tbody tr th {\n",
              "        vertical-align: top;\n",
              "    }\n",
              "\n",
              "    .dataframe thead th {\n",
              "        text-align: right;\n",
              "    }\n",
              "</style>\n",
              "<table border=\"1\" class=\"dataframe\">\n",
              "  <thead>\n",
              "    <tr style=\"text-align: right;\">\n",
              "      <th>group</th>\n",
              "      <th>A</th>\n",
              "      <th>B</th>\n",
              "    </tr>\n",
              "    <tr>\n",
              "      <th>event_name</th>\n",
              "      <th></th>\n",
              "      <th></th>\n",
              "    </tr>\n",
              "  </thead>\n",
              "  <tbody>\n",
              "    <tr>\n",
              "      <td>login</td>\n",
              "      <td>2747</td>\n",
              "      <td>927</td>\n",
              "    </tr>\n",
              "    <tr>\n",
              "      <td>product_page</td>\n",
              "      <td>1780</td>\n",
              "      <td>523</td>\n",
              "    </tr>\n",
              "    <tr>\n",
              "      <td>purchase</td>\n",
              "      <td>872</td>\n",
              "      <td>256</td>\n",
              "    </tr>\n",
              "    <tr>\n",
              "      <td>product_cart</td>\n",
              "      <td>824</td>\n",
              "      <td>255</td>\n",
              "    </tr>\n",
              "  </tbody>\n",
              "</table>\n",
              "</div>"
            ],
            "text/plain": [
              "group            A    B\n",
              "event_name             \n",
              "login         2747  927\n",
              "product_page  1780  523\n",
              "purchase       872  256\n",
              "product_cart   824  255"
            ]
          },
          "metadata": {},
          "output_type": "display_data"
        }
      ]
    },
    {
      "cell_type": "code",
      "metadata": {
        "colab": {
          "base_uri": "https://localhost:8080/",
          "height": 142
        },
        "id": "U51o8pXnx-q-",
        "outputId": "ea743cd7-66ca-4077-8793-394548ccd2dc"
      },
      "source": [
        "users = recommender_system_test.groupby('group')['user_id'].nunique().reset_index()\n",
        "users = users.set_index(users.columns[0])\n",
        "display(users)"
      ],
      "execution_count": null,
      "outputs": [
        {
          "data": {
            "text/html": [
              "<div>\n",
              "<style scoped>\n",
              "    .dataframe tbody tr th:only-of-type {\n",
              "        vertical-align: middle;\n",
              "    }\n",
              "\n",
              "    .dataframe tbody tr th {\n",
              "        vertical-align: top;\n",
              "    }\n",
              "\n",
              "    .dataframe thead th {\n",
              "        text-align: right;\n",
              "    }\n",
              "</style>\n",
              "<table border=\"1\" class=\"dataframe\">\n",
              "  <thead>\n",
              "    <tr style=\"text-align: right;\">\n",
              "      <th></th>\n",
              "      <th>user_id</th>\n",
              "    </tr>\n",
              "    <tr>\n",
              "      <th>group</th>\n",
              "      <th></th>\n",
              "    </tr>\n",
              "  </thead>\n",
              "  <tbody>\n",
              "    <tr>\n",
              "      <td>A</td>\n",
              "      <td>2747</td>\n",
              "    </tr>\n",
              "    <tr>\n",
              "      <td>B</td>\n",
              "      <td>928</td>\n",
              "    </tr>\n",
              "  </tbody>\n",
              "</table>\n",
              "</div>"
            ],
            "text/plain": [
              "       user_id\n",
              "group         \n",
              "A         2747\n",
              "B          928"
            ]
          },
          "metadata": {},
          "output_type": "display_data"
        }
      ]
    },
    {
      "cell_type": "markdown",
      "metadata": {
        "id": "nDbTlJHjyj7a"
      },
      "source": [
        "Для проверки гипотез с множественным сравнением воспользуемся Z-критерием и поправкой Бонферрони для 4 сравнений."
      ]
    },
    {
      "cell_type": "code",
      "metadata": {
        "id": "yha24Cthx-tZ"
      },
      "source": [
        "def print_z_test_with_bonferroni_validation_result(group1, group2, event, alpha): \n",
        "    p1_event = exp.loc[event, group1]\n",
        "    p2_event = exp.loc[event, group2] \n",
        "    p1_users = users.loc[group1, 'user_id'] \n",
        "    p2_users = users.loc[group2, 'user_id'] \n",
        "    p1 = p1_event / p1_users \n",
        "    p2 = p2_event / p2_users \n",
        "    difference = p1 - p2\n",
        "    p_combined = (p1_event + p2_event) / (p1_users + p2_users) \n",
        "    z_value = difference / math.sqrt(p_combined * (1 - p_combined) * (1 / p1_users + 1 / p2_users))\n",
        "    distr = st.norm(0, 1)\n",
        "    p_value = (1 - distr.cdf(abs(z_value))) * 2\n",
        "    \n",
        "    bonferroni_alpha = alpha / 4\n",
        "    \n",
        "    print('Проверка для групп {} и {}, событие: {}, p-значение: {p_value:.2f}'.format(group1, group2, event, p_value=p_value))\n",
        "    if (p_value < bonferroni_alpha):\n",
        "        print(\"Отвергаем нулевую гипотезу о равенстве конверсии в группах\")\n",
        "    else:\n",
        "        print(\"Не получилось отвергнуть нулевую гипотезу о равенстве конверсии в группах\")"
      ],
      "execution_count": null,
      "outputs": []
    },
    {
      "cell_type": "code",
      "metadata": {
        "colab": {
          "base_uri": "https://localhost:8080/"
        },
        "id": "X3hq4WK2zVNE",
        "outputId": "772c5e12-e290-453d-cc15-e6dca5b76d71"
      },
      "source": [
        "for event in exp.index:\n",
        "    print_z_test_with_bonferroni_validation_result('A', 'B', event, 0.05)\n",
        "    print()\n"
      ],
      "execution_count": null,
      "outputs": [
        {
          "name": "stdout",
          "output_type": "stream",
          "text": [
            "Проверка для групп A и B, событие: login, p-значение: 0.09\n",
            "Не получилось отвергнуть нулевую гипотезу о равенстве конверсии в группах\n",
            "\n",
            "Проверка для групп A и B, событие: product_page, p-значение: 0.00\n",
            "Отвергаем нулевую гипотезу о равенстве конверсии в группах\n",
            "\n",
            "Проверка для групп A и B, событие: purchase, p-значение: 0.02\n",
            "Не получилось отвергнуть нулевую гипотезу о равенстве конверсии в группах\n",
            "\n",
            "Проверка для групп A и B, событие: product_cart, p-значение: 0.15\n",
            "Не получилось отвергнуть нулевую гипотезу о равенстве конверсии в группах\n",
            "\n"
          ]
        }
      ]
    },
    {
      "cell_type": "markdown",
      "metadata": {
        "id": "ikKqicBD5L8d"
      },
      "source": [
        "Есть статистически значимая разница между конверсией для события product_page в группах А и В. Для остальных событий разницы нет. Это означает, что изменения, связанные с внедрением улучшенной рекомендательной системы, не принесли роста конверсии на целевом этапе покупки или корзины."
      ]
    },
    {
      "cell_type": "markdown",
      "metadata": {
        "id": "5dfojHmWMveE"
      },
      "source": [
        "**ОБЩИЙ ВЫВОД**\n",
        "\n",
        "Тест был проведен с большим количеством нарушений, и его результаты не должны считаться валидными.\n",
        " \n",
        "Какие **особенности проведения А/В теста не были учтены** в данном тестировании или негативно повлияли на его проведение:\n",
        " \n",
        "-Длительность эксперимента и проведения теста,выгрузка лишних данных. Пользователи набирались в группы с 7 по 23 декабря 2020 года, хотя окончание набора пользователей было запланировано на 21 декабря. Также  тестирование доджно было проводиться с 7 декабря по 30 декабря 2020 года, хотя в ТЗ указано, что проведение теста было запланировано с 7 декабря 2020 по 4 января 2021 года. Не хватает данных за 5 дней. Это может означать как то, что тест остановлен слишком рано, так и то, что были выгружены не все данные.\n",
        " \n",
        "-Проведение теста пересекается с проведением других тестов. Тест на улучшение рекомендательной системы и тест на работу  интерфейса проводились одновременно.\n",
        " \n",
        "-Проведение теста пересекается с маркетинговыми событиями в течение 5 дней, оно совпадает с рождественским/новогодним сезоном праздников.\n",
        "\n",
        "-Различие ключевых метрик по группам имеет статистическую значимость.\n",
        "\n",
        "-Наличие технических сбоев, например, за 30 декабря события практически на нуле.\n",
        "\n",
        "-Некорректное распределение выборок, ошибки при формировании групп и наборе участников для проведения теста. Численность участников контрольной группы в разы выше численности участников экспериментальной группы. \n",
        "\n",
        "-Группы обладают различным распределением взаимодействий и разными средним количеством событий на одного пользователя.\n",
        "\n",
        "-Количества участников в  выборках недостаточно, чтобы зарегистрировать значимые изменения. Так, согласно поставленному тех.заданию, нам необходимо 6000 участников, а имелось только 3481.\n",
        "\n",
        "-В воронках ожидаемый результат в увеличении конверсии по каждому шагу на 10% не достигнут. С учетом последовательности событий от первого события до покупки доходит 0% пользователей. Есть статистически значимая разница между конверсией для события product_page в группах А и В. Для остальных событий разницы нет. Это также означает, что изменения, связанные с внедрением улучшенной рекомендательной системы, не принесли роста конверсии на целевом этапе покупки или корзины.\n",
        "\n",
        "**РЕКОМЕНДАЦИИ:** необходимо учесть все вышеперечисленные недочеты и провести тест заново.\n"
      ]
    }
  ]
}